{
 "cells": [
  {
   "cell_type": "markdown",
   "id": "2dfca186",
   "metadata": {},
   "source": [
    "### Loading the dataset"
   ]
  },
  {
   "cell_type": "code",
   "execution_count": null,
   "id": "c31523eb",
   "metadata": {},
   "outputs": [],
   "source": [
    "! pip install -U datasets"
   ]
  },
  {
   "cell_type": "code",
   "execution_count": 1,
   "id": "f2d47157",
   "metadata": {
    "ExecuteTime": {
     "end_time": "2024-03-24T19:52:18.145542Z",
     "start_time": "2024-03-24T19:51:27.170973Z"
    }
   },
   "outputs": [
    {
     "data": {
      "application/vnd.jupyter.widget-view+json": {
       "model_id": "75a3f27ab0a34da9a4c9c5b28eca5241",
       "version_major": 2,
       "version_minor": 0
      },
      "text/plain": [
       "Resolving data files:   0%|          | 0/41 [00:00<?, ?it/s]"
      ]
     },
     "metadata": {},
     "output_type": "display_data"
    }
   ],
   "source": [
    "from datasets import load_dataset\n",
    "\n",
    "dataset = load_dataset(\"wikimedia/wikipedia\", \"20231101.en\")"
   ]
  },
  {
   "cell_type": "code",
   "execution_count": 2,
   "id": "79d99354",
   "metadata": {
    "ExecuteTime": {
     "end_time": "2024-03-24T19:52:18.156638Z",
     "start_time": "2024-03-24T19:52:18.148550Z"
    }
   },
   "outputs": [
    {
     "data": {
      "text/plain": [
       "DatasetDict({\n",
       "    train: Dataset({\n",
       "        features: ['id', 'url', 'title', 'text'],\n",
       "        num_rows: 6407814\n",
       "    })\n",
       "})"
      ]
     },
     "execution_count": 2,
     "metadata": {},
     "output_type": "execute_result"
    }
   ],
   "source": [
    " dataset"
   ]
  },
  {
   "cell_type": "code",
   "execution_count": 3,
   "id": "b6437bca",
   "metadata": {
    "ExecuteTime": {
     "end_time": "2024-03-24T19:52:18.330708Z",
     "start_time": "2024-03-24T19:52:18.164651Z"
    }
   },
   "outputs": [],
   "source": [
    "articles = dataset[\"train\"][:1000][\"text\"]"
   ]
  },
  {
   "cell_type": "code",
   "execution_count": 4,
   "id": "fca5ec91",
   "metadata": {
    "ExecuteTime": {
     "end_time": "2024-03-24T19:52:18.344461Z",
     "start_time": "2024-03-24T19:52:18.333715Z"
    }
   },
   "outputs": [
    {
     "data": {
      "text/plain": [
       "1000"
      ]
     },
     "execution_count": 4,
     "metadata": {},
     "output_type": "execute_result"
    }
   ],
   "source": [
    "len(articles)"
   ]
  },
  {
   "cell_type": "code",
   "execution_count": 5,
   "id": "de8efdd9",
   "metadata": {
    "ExecuteTime": {
     "end_time": "2024-03-24T19:52:18.502592Z",
     "start_time": "2024-03-24T19:52:18.349474Z"
    }
   },
   "outputs": [],
   "source": [
    "articles = [x.split(\"\\n\")[0] for x in articles]"
   ]
  },
  {
   "cell_type": "code",
   "execution_count": 6,
   "id": "5fd253e7",
   "metadata": {
    "ExecuteTime": {
     "end_time": "2024-03-24T19:52:18.516494Z",
     "start_time": "2024-03-24T19:52:18.505623Z"
    }
   },
   "outputs": [
    {
     "data": {
      "text/plain": [
       "'Anarchism is a political philosophy and movement that is skeptical of all justifications for authority and seeks to abolish the institutions it claims maintain unnecessary coercion and hierarchy, typically including nation-states, and capitalism. Anarchism advocates for the replacement of the state with stateless societies and voluntary free associations. As a historically left-wing movement, this reading of anarchism is placed on the farthest left of the political spectrum, usually described as the libertarian wing of the socialist movement (libertarian socialism).'"
      ]
     },
     "execution_count": 6,
     "metadata": {},
     "output_type": "execute_result"
    }
   ],
   "source": [
    "articles[0]"
   ]
  },
  {
   "cell_type": "code",
   "execution_count": 7,
   "id": "fe1f0fe6",
   "metadata": {
    "ExecuteTime": {
     "end_time": "2024-03-24T19:52:18.729229Z",
     "start_time": "2024-03-24T19:52:18.519521Z"
    }
   },
   "outputs": [],
   "source": [
    "import tiktoken"
   ]
  },
  {
   "cell_type": "code",
   "execution_count": 8,
   "id": "e51a4d71",
   "metadata": {
    "ExecuteTime": {
     "end_time": "2024-03-24T19:52:19.155680Z",
     "start_time": "2024-03-24T19:52:18.730236Z"
    }
   },
   "outputs": [],
   "source": [
    "encoding = tiktoken.encoding_for_model(\"gpt-3.5-turbo\")"
   ]
  },
  {
   "cell_type": "code",
   "execution_count": 9,
   "id": "433e6edc",
   "metadata": {
    "ExecuteTime": {
     "end_time": "2024-03-24T19:52:19.253821Z",
     "start_time": "2024-03-24T19:52:19.156686Z"
    }
   },
   "outputs": [],
   "source": [
    "from tqdm import tqdm\n",
    "total_tokens = 0\n",
    "for article in articles:\n",
    "    total_tokens += len(encoding.encode(article))"
   ]
  },
  {
   "cell_type": "code",
   "execution_count": 10,
   "id": "40a14bde",
   "metadata": {
    "ExecuteTime": {
     "end_time": "2024-03-24T19:52:19.263858Z",
     "start_time": "2024-03-24T19:52:19.256772Z"
    }
   },
   "outputs": [
    {
     "data": {
      "text/plain": [
       "88327"
      ]
     },
     "execution_count": 10,
     "metadata": {},
     "output_type": "execute_result"
    }
   ],
   "source": [
    "total_tokens"
   ]
  },
  {
   "cell_type": "code",
   "execution_count": 11,
   "id": "7e25b4fe",
   "metadata": {
    "ExecuteTime": {
     "end_time": "2024-03-24T19:52:19.273185Z",
     "start_time": "2024-03-24T19:52:19.265869Z"
    }
   },
   "outputs": [
    {
     "data": {
      "text/plain": [
       "0.0441635"
      ]
     },
     "execution_count": 11,
     "metadata": {},
     "output_type": "execute_result"
    }
   ],
   "source": [
    "(total_tokens * 0.5 ) / 1000000"
   ]
  },
  {
   "cell_type": "code",
   "execution_count": 12,
   "id": "381addee",
   "metadata": {
    "ExecuteTime": {
     "end_time": "2024-03-24T19:52:19.289863Z",
     "start_time": "2024-03-24T19:52:19.276201Z"
    }
   },
   "outputs": [],
   "source": [
    "categories = [\"History\",\n",
    "\"Science\",\n",
    "\"Technology\",\n",
    "\"Arts\",\n",
    "\"Literature\",\n",
    "\"Geography\",\n",
    "\"Politics\",\n",
    "\"Philosophy\",\n",
    "\"Religion\",\n",
    "\"Mathematics\",\n",
    "\"Medicine\",\n",
    "\"Culture\",\n",
    "\"Sports\",\n",
    "\"Economics\",\n",
    "\"Education\",\n",
    "\"Environment\",\n",
    "\"Society\",\n",
    "\"Law\",\n",
    "\"Language\",\n",
    "\"Others\"]"
   ]
  },
  {
   "cell_type": "code",
   "execution_count": 13,
   "id": "397aaeea",
   "metadata": {
    "ExecuteTime": {
     "end_time": "2024-03-24T19:52:29.247275Z",
     "start_time": "2024-03-24T19:52:19.294878Z"
    }
   },
   "outputs": [
    {
     "name": "stdout",
     "output_type": "stream",
     "text": [
      "········\n"
     ]
    }
   ],
   "source": [
    "from getpass import getpass\n",
    "\n",
    "OPENAI_API_KEY = getpass()"
   ]
  },
  {
   "cell_type": "code",
   "execution_count": 14,
   "id": "411c2689",
   "metadata": {
    "ExecuteTime": {
     "end_time": "2024-03-24T19:52:31.666644Z",
     "start_time": "2024-03-24T19:52:31.661808Z"
    }
   },
   "outputs": [],
   "source": [
    "import os\n",
    "\n",
    "os.environ[\"OPENAI_API_KEY\"] = OPENAI_API_KEY"
   ]
  },
  {
   "cell_type": "code",
   "execution_count": 15,
   "id": "27afe533",
   "metadata": {
    "ExecuteTime": {
     "end_time": "2024-03-24T19:52:38.482349Z",
     "start_time": "2024-03-24T19:52:33.335363Z"
    }
   },
   "outputs": [],
   "source": [
    "from langchain_openai import OpenAI\n",
    "\n",
    "llm = OpenAI()"
   ]
  },
  {
   "cell_type": "code",
   "execution_count": 16,
   "id": "fef2f601",
   "metadata": {
    "ExecuteTime": {
     "end_time": "2024-03-24T19:52:39.633944Z",
     "start_time": "2024-03-24T19:52:38.484881Z"
    }
   },
   "outputs": [
    {
     "data": {
      "text/plain": [
       "\"\\n\\nWhy couldn't the bicycle stand up by itself?\\n\\nBecause it was two-tired!\""
      ]
     },
     "execution_count": 16,
     "metadata": {},
     "output_type": "execute_result"
    }
   ],
   "source": [
    "llm.invoke(\"Tell me a joke\")"
   ]
  },
  {
   "cell_type": "code",
   "execution_count": 60,
   "id": "6fd0c025",
   "metadata": {
    "ExecuteTime": {
     "end_time": "2024-03-24T19:44:45.013222Z",
     "start_time": "2024-03-24T19:44:45.008653Z"
    }
   },
   "outputs": [],
   "source": [
    "prompt = f\"\"\"Based on the following article content, identify the category of the article\n",
    "\n",
    "Article: {article}\n",
    "Categories: {categories}\n",
    "\n",
    "If the article doesn't fit into any of the above mentioned categories. Please return the answer as \"Others\"\n",
    "Return only one category name\n",
    "Answer:\n",
    "\"\"\""
   ]
  },
  {
   "cell_type": "code",
   "execution_count": 61,
   "id": "b588246e",
   "metadata": {
    "ExecuteTime": {
     "end_time": "2024-03-24T19:44:46.925014Z",
     "start_time": "2024-03-24T19:44:46.324241Z"
    }
   },
   "outputs": [
    {
     "data": {
      "text/plain": [
       "'\\nPhilosophy'"
      ]
     },
     "execution_count": 61,
     "metadata": {},
     "output_type": "execute_result"
    }
   ],
   "source": [
    "llm.invoke(prompt)"
   ]
  },
  {
   "cell_type": "code",
   "execution_count": 17,
   "id": "2f95f7c6",
   "metadata": {
    "ExecuteTime": {
     "end_time": "2024-03-24T19:53:57.762875Z",
     "start_time": "2024-03-24T19:53:13.671448Z"
    }
   },
   "outputs": [
    {
     "name": "stderr",
     "output_type": "stream",
     "text": [
      "100%|███████████████████████████████████████████████████████████████████████████████████████████████████████████████████████████████████████████████████████████████████████████| 100/100 [00:43<00:00,  2.27it/s]\n"
     ]
    }
   ],
   "source": [
    "answers = []\n",
    "\n",
    "for article in tqdm(articles[:100]):\n",
    "    prompt = f\"\"\"Based on the following article content, identify the category of the article\n",
    "\n",
    "Article: {article}\n",
    "Categories: {categories}\n",
    "\n",
    "If the article doesn't fit into any of the above mentioned categories. Please return the answer as \"Others\"\n",
    "Return only one category name\n",
    "Answer:\n",
    "\"\"\"\n",
    "    answers.append(llm.invoke(prompt))\n",
    "\n"
   ]
  },
  {
   "cell_type": "code",
   "execution_count": 19,
   "id": "5a38722e",
   "metadata": {
    "ExecuteTime": {
     "end_time": "2024-03-24T19:54:53.431770Z",
     "start_time": "2024-03-24T19:54:53.316989Z"
    }
   },
   "outputs": [],
   "source": [
    "import pandas as pd\n",
    "\n",
    "df = pd.DataFrame({\n",
    "    \"Article\": articles[:100],\n",
    "    \"Category\": answers\n",
    "})"
   ]
  },
  {
   "cell_type": "code",
   "execution_count": 27,
   "id": "2ebd502a",
   "metadata": {
    "ExecuteTime": {
     "end_time": "2024-03-24T19:56:10.819122Z",
     "start_time": "2024-03-24T19:56:10.812395Z"
    }
   },
   "outputs": [
    {
     "data": {
      "text/plain": [
       "Article     In Greek mythology, Achilles ( ) or Achilleus ...\n",
       "Category                                           Literature\n",
       "Name: 4, dtype: object"
      ]
     },
     "execution_count": 27,
     "metadata": {},
     "output_type": "execute_result"
    }
   ],
   "source": [
    "df.loc[4]"
   ]
  },
  {
   "cell_type": "code",
   "execution_count": 28,
   "id": "9c34bfda",
   "metadata": {
    "ExecuteTime": {
     "end_time": "2024-03-24T19:59:00.976751Z",
     "start_time": "2024-03-24T19:59:00.971816Z"
    }
   },
   "outputs": [
    {
     "data": {
      "text/plain": [
       "3500.0"
      ]
     },
     "execution_count": 28,
     "metadata": {},
     "output_type": "execute_result"
    }
   ],
   "source": [
    "(7000000000 * 0.5) / 1000000"
   ]
  },
  {
   "cell_type": "code",
   "execution_count": null,
   "id": "29e79c31",
   "metadata": {},
   "outputs": [],
   "source": []
  },
  {
   "cell_type": "code",
   "execution_count": null,
   "id": "274170d8",
   "metadata": {},
   "outputs": [],
   "source": []
  }
 ],
 "metadata": {
  "kernelspec": {
   "display_name": "Python 3 (ipykernel)",
   "language": "python",
   "name": "python3"
  },
  "language_info": {
   "codemirror_mode": {
    "name": "ipython",
    "version": 3
   },
   "file_extension": ".py",
   "mimetype": "text/x-python",
   "name": "python",
   "nbconvert_exporter": "python",
   "pygments_lexer": "ipython3",
   "version": "3.11.5"
  }
 },
 "nbformat": 4,
 "nbformat_minor": 5
}
