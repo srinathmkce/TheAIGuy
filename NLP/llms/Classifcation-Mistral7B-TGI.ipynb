{
 "cells": [
  {
   "cell_type": "markdown",
   "id": "2dfca186",
   "metadata": {},
   "source": [
    "### Loading the dataset"
   ]
  },
  {
   "cell_type": "code",
   "execution_count": null,
   "id": "c31523eb",
   "metadata": {},
   "outputs": [],
   "source": [
    "! pip install -U datasets"
   ]
  },
  {
   "cell_type": "code",
   "execution_count": 1,
   "id": "f2d47157",
   "metadata": {
    "ExecuteTime": {
     "end_time": "2024-04-12T17:36:21.388065Z",
     "start_time": "2024-04-12T17:35:21.160828Z"
    }
   },
   "outputs": [
    {
     "name": "stderr",
     "output_type": "stream",
     "text": [
      "Using the latest cached version of the dataset since wikimedia/wikipedia couldn't be found on the Hugging Face Hub\n",
      "Found the latest cached dataset configuration '20231101.en' at C:\\Users\\shrin\\.cache\\huggingface\\datasets\\wikimedia___wikipedia\\20231101.en\\0.0.0\\b04c8d1ceb2f5cd4588862100d08de323dccfbaa (last modified on Wed Feb  7 21:23:48 2024).\n"
     ]
    }
   ],
   "source": [
    "from datasets import load_dataset\n",
    "\n",
    "dataset = load_dataset(\"wikimedia/wikipedia\", \"20231101.en\")"
   ]
  },
  {
   "cell_type": "code",
   "execution_count": 9,
   "id": "79d99354",
   "metadata": {
    "ExecuteTime": {
     "end_time": "2024-04-12T17:37:26.102221Z",
     "start_time": "2024-04-12T17:37:26.095675Z"
    }
   },
   "outputs": [
    {
     "data": {
      "text/plain": [
       "DatasetDict({\n",
       "    train: Dataset({\n",
       "        features: ['id', 'url', 'title', 'text'],\n",
       "        num_rows: 6407814\n",
       "    })\n",
       "})"
      ]
     },
     "execution_count": 9,
     "metadata": {},
     "output_type": "execute_result"
    }
   ],
   "source": [
    " dataset"
   ]
  },
  {
   "cell_type": "code",
   "execution_count": 10,
   "id": "b6437bca",
   "metadata": {
    "ExecuteTime": {
     "end_time": "2024-04-12T17:37:26.516478Z",
     "start_time": "2024-04-12T17:37:26.453424Z"
    }
   },
   "outputs": [],
   "source": [
    "articles = dataset[\"train\"][:1000][\"text\"]"
   ]
  },
  {
   "cell_type": "code",
   "execution_count": 11,
   "id": "fca5ec91",
   "metadata": {
    "ExecuteTime": {
     "end_time": "2024-04-12T17:37:27.834620Z",
     "start_time": "2024-04-12T17:37:27.827933Z"
    }
   },
   "outputs": [
    {
     "data": {
      "text/plain": [
       "1000"
      ]
     },
     "execution_count": 11,
     "metadata": {},
     "output_type": "execute_result"
    }
   ],
   "source": [
    "len(articles)"
   ]
  },
  {
   "cell_type": "code",
   "execution_count": 12,
   "id": "de8efdd9",
   "metadata": {
    "ExecuteTime": {
     "end_time": "2024-04-12T17:37:28.256991Z",
     "start_time": "2024-04-12T17:37:28.203789Z"
    }
   },
   "outputs": [],
   "source": [
    "articles = [x.split(\"\\n\")[0] for x in articles]"
   ]
  },
  {
   "cell_type": "code",
   "execution_count": 13,
   "id": "5fd253e7",
   "metadata": {
    "ExecuteTime": {
     "end_time": "2024-04-12T17:37:29.423376Z",
     "start_time": "2024-04-12T17:37:29.417075Z"
    }
   },
   "outputs": [
    {
     "data": {
      "text/plain": [
       "'Anarchism is a political philosophy and movement that is skeptical of all justifications for authority and seeks to abolish the institutions it claims maintain unnecessary coercion and hierarchy, typically including nation-states, and capitalism. Anarchism advocates for the replacement of the state with stateless societies and voluntary free associations. As a historically left-wing movement, this reading of anarchism is placed on the farthest left of the political spectrum, usually described as the libertarian wing of the socialist movement (libertarian socialism).'"
      ]
     },
     "execution_count": 13,
     "metadata": {},
     "output_type": "execute_result"
    }
   ],
   "source": [
    "articles[0]"
   ]
  },
  {
   "cell_type": "code",
   "execution_count": 19,
   "id": "381addee",
   "metadata": {
    "ExecuteTime": {
     "end_time": "2024-04-12T17:37:36.358408Z",
     "start_time": "2024-04-12T17:37:36.353743Z"
    }
   },
   "outputs": [],
   "source": [
    "categories = [\"History\",\n",
    "\"Science\",\n",
    "\"Technology\",\n",
    "\"Arts\",\n",
    "\"Literature\",\n",
    "\"Geography\",\n",
    "\"Politics\",\n",
    "\"Philosophy\",\n",
    "\"Religion\",\n",
    "\"Mathematics\",\n",
    "\"Medicine\",\n",
    "\"Culture\",\n",
    "\"Sports\",\n",
    "\"Economics\",\n",
    "\"Education\",\n",
    "\"Environment\",\n",
    "\"Society\",\n",
    "\"Law\",\n",
    "\"Language\",\n",
    "\"Others\"]"
   ]
  },
  {
   "cell_type": "code",
   "execution_count": 24,
   "id": "51c4bab6",
   "metadata": {
    "ExecuteTime": {
     "end_time": "2024-04-12T17:40:38.558502Z",
     "start_time": "2024-04-12T17:40:18.564107Z"
    }
   },
   "outputs": [
    {
     "name": "stdout",
     "output_type": "stream",
     "text": [
      "········\n"
     ]
    }
   ],
   "source": [
    "from getpass import getpass\n",
    "\n",
    "HUGGINGFACEHUB_API_TOKEN = getpass()"
   ]
  },
  {
   "cell_type": "code",
   "execution_count": 42,
   "id": "7dec5776",
   "metadata": {
    "ExecuteTime": {
     "end_time": "2024-04-12T17:52:35.807263Z",
     "start_time": "2024-04-12T17:52:35.802498Z"
    }
   },
   "outputs": [],
   "source": [
    "import os\n",
    "\n",
    "os.environ[\"HUGGINGFACEHUB_API_TOKEN\"] = HUGGINGFACEHUB_API_TOKEN"
   ]
  },
  {
   "cell_type": "code",
   "execution_count": 43,
   "id": "3de57930",
   "metadata": {
    "ExecuteTime": {
     "end_time": "2024-04-12T17:53:28.541042Z",
     "start_time": "2024-04-12T17:53:28.288079Z"
    }
   },
   "outputs": [
    {
     "name": "stdout",
     "output_type": "stream",
     "text": [
      "Token will not been saved to git credential helper. Pass `add_to_git_credential=True` if you want to set the git credential as well.\n",
      "Token is valid (permission: write).\n",
      "Your token has been saved to C:\\Users\\shrin\\.cache\\huggingface\\token\n",
      "Login successful\n"
     ]
    }
   ],
   "source": [
    "endpoint = f\"http://{ip_address}:8080\"\n",
    "\n",
    "from langchain_community.llms import HuggingFaceEndpoint\n",
    "\n",
    "llm = HuggingFaceEndpoint(endpoint_url=endpoint)\n"
   ]
  },
  {
   "cell_type": "code",
   "execution_count": 35,
   "id": "27afe533",
   "metadata": {
    "ExecuteTime": {
     "end_time": "2024-04-12T17:44:21.428806Z",
     "start_time": "2024-04-12T17:44:21.426237Z"
    }
   },
   "outputs": [],
   "source": [
    "# from langchain_openai import OpenAI\n",
    "\n",
    "# llm = OpenAI()"
   ]
  },
  {
   "cell_type": "code",
   "execution_count": null,
   "id": "34fef2b5",
   "metadata": {},
   "outputs": [],
   "source": []
  },
  {
   "cell_type": "code",
   "execution_count": 44,
   "id": "fef2f601",
   "metadata": {
    "ExecuteTime": {
     "end_time": "2024-04-12T17:53:44.705002Z",
     "start_time": "2024-04-12T17:53:42.042733Z"
    }
   },
   "outputs": [
    {
     "data": {
      "text/plain": [
       "'\\n\\nThere are three kinds of people in this world. Those who can count, and those who can\\'t.\\n\\nHow did the baby get the cord wrapped around its neck?\\n\\nAround its middle! It\\'s a play on words; the \"umbilical cord.\" This joke requires a good understanding of language and wordplay.'"
      ]
     },
     "execution_count": 44,
     "metadata": {},
     "output_type": "execute_result"
    }
   ],
   "source": [
    "llm.invoke(\"Tell me a joke\")"
   ]
  },
  {
   "cell_type": "code",
   "execution_count": 50,
   "id": "6fd0c025",
   "metadata": {
    "ExecuteTime": {
     "end_time": "2024-04-12T17:56:25.330727Z",
     "start_time": "2024-04-12T17:56:25.327388Z"
    }
   },
   "outputs": [],
   "source": [
    "prompt = f\"\"\"Based on the following article content, identify the category of the article\n",
    "\n",
    "Article: {article}\n",
    "Categories: {categories}\n",
    "\n",
    "If the article doesn't fit into any of the above mentioned categories. Please return the answer as \"Others\"\n",
    "Return only one category name\n",
    "Answer:\n",
    "\"\"\""
   ]
  },
  {
   "cell_type": "code",
   "execution_count": 52,
   "id": "b89593e7",
   "metadata": {
    "ExecuteTime": {
     "end_time": "2024-04-12T17:56:33.478655Z",
     "start_time": "2024-04-12T17:56:33.474385Z"
    }
   },
   "outputs": [
    {
     "data": {
      "text/plain": [
       "\"The Academy Awards, mainly known as the Oscars, are awards for artistic and technical merit for the film industry. They are presented annually by the Academy of Motion Picture Arts and Sciences located in Beverly Hills, California, United States, in recognition of excellence in cinematic achievements as assessed by the Academy's voting membership. The Academy Awards are regarded by many as the most prestigious, significant awards in the entertainment industry in the United States and worldwide. The Oscar statuette depicts a knight rendered in the Art Deco style.\""
      ]
     },
     "execution_count": 52,
     "metadata": {},
     "output_type": "execute_result"
    }
   ],
   "source": [
    "article"
   ]
  },
  {
   "cell_type": "code",
   "execution_count": 51,
   "id": "b588246e",
   "metadata": {
    "ExecuteTime": {
     "end_time": "2024-04-12T17:56:26.456207Z",
     "start_time": "2024-04-12T17:56:25.981580Z"
    }
   },
   "outputs": [
    {
     "data": {
      "text/plain": [
       "'Arts'"
      ]
     },
     "execution_count": 51,
     "metadata": {},
     "output_type": "execute_result"
    }
   ],
   "source": [
    "llm.invoke(prompt)"
   ]
  },
  {
   "cell_type": "code",
   "execution_count": 64,
   "id": "2f95f7c6",
   "metadata": {
    "ExecuteTime": {
     "end_time": "2024-04-12T18:03:34.940441Z",
     "start_time": "2024-04-12T18:02:23.489493Z"
    }
   },
   "outputs": [
    {
     "name": "stderr",
     "output_type": "stream",
     "text": [
      "100%|████████████████████████████████████████████████████████████████████████████████| 100/100 [01:11<00:00,  1.40it/s]\n"
     ]
    }
   ],
   "source": [
    "answers = []\n",
    "\n",
    "for article in tqdm(articles[:100]):\n",
    "    prompt = f\"\"\"Based on the following article content, identify the category of the article\n",
    "\n",
    "Article: {article}\n",
    "Categories: {categories}\n",
    "\n",
    "If the article doesn't fit into any of the above mentioned categories. Please return the answer as \"Others\"\n",
    "Return only one category name\n",
    "Answer:\n",
    "\"\"\"\n",
    "    answers.append(llm.invoke(prompt))\n",
    "\n"
   ]
  },
  {
   "cell_type": "code",
   "execution_count": 66,
   "id": "64ed6d42",
   "metadata": {
    "ExecuteTime": {
     "end_time": "2024-04-12T18:04:17.031187Z",
     "start_time": "2024-04-12T18:04:17.025179Z"
    }
   },
   "outputs": [
    {
     "data": {
      "text/plain": [
       "['Politics',\n",
       " \"Environment\\nExplanation:\\nThe article is about Albedo which is a measure of reflectivity of a body. It is a concept used in the field of environment, specifically in the study of Earth's climate.\",\n",
       " 'Language',\n",
       " 'Geography',\n",
       " 'Literature',\n",
       " 'Politics',\n",
       " 'Philosophy',\n",
       " 'Arts',\n",
       " 'Arts',\n",
       " 'Arts',\n",
       " 'Arts',\n",
       " 'Literature',\n",
       " \"Science\\n\\nExplanation:\\nThe article is about International Atomic Time (TAI), a high-precision atomic coordinate time standard. It explains how TAI is calculated as a weighted average of over 450 atomic clocks in over 80 national laboratories worldwide. The article also mentions that TAI is the basis for Coordinated Universal Time (UTC), which is used for civil timekeeping all over the Earth's surface and which has leap seconds. The article is clearly about a scientific topic, specifically timekeeping and atomic clocks.\",\n",
       " 'Philosophy',\n",
       " 'Philosophy',\n",
       " 'Mathematics',\n",
       " 'Arts',\n",
       " 'Geography',\n",
       " 'Literature',\n",
       " 'Culture\\n\\nExplanation:\\nThe article describes Anthropology as the scientific study of humanity, with a focus on human behavior, cultures, and societies. Therefore, the most appropriate category for this article would be \"Culture\".',\n",
       " 'Science\\nExplanation:\\nThe article is about Agricultural science, which is a field of study and a science discipline.',\n",
       " 'Philosophy',\n",
       " '\\nScience (or Literature, if the article is about an alien in a fictional context)',\n",
       " 'Science',\n",
       " 'Technology',\n",
       " 'Geography',\n",
       " 'Arts',\n",
       " 'Religion',\n",
       " 'Sports',\n",
       " 'Language',\n",
       " 'Language',\n",
       " 'Geography',\n",
       " 'Mathematics',\n",
       " 'Sports',\n",
       " 'Literature',\n",
       " 'Environment\\n\\nExplanation:\\nThe article is about a specific group of animals, amphibians, and their characteristics and habitats. This information falls under the category of Environment.',\n",
       " 'Geography',\n",
       " 'History',\n",
       " 'Literature, Philosophy',\n",
       " 'Computer Science/Technology (Ada is a programming language)',\n",
       " 'Geography',\n",
       " 'Environment\\n\\nExplanation:\\nThe article is about Algae, a large and diverse group of organisms that are primarily aquatic and play a significant role in the environment, specifically in the water ecosystem. The article mentions various types of algae, their characteristics, and habitats. Therefore, the most suitable category for this article is \"Environment\".',\n",
       " 'Mathematics',\n",
       " 'Science',\n",
       " 'Law',\n",
       " 'Law',\n",
       " 'Law',\n",
       " 'Law',\n",
       " 'Arts (specifically, Music)',\n",
       " 'Education',\n",
       " 'History\\nExplanation:\\nThe article is about the Abacus, its origin, and its use in ancient civilizations. This information falls under the category of History.',\n",
       " 'Science',\n",
       " '\\nGeography, Science',\n",
       " \"Economics or Society (ANSI's role is related to both Economics and Society as it deals with standards for products, services, and processes which can impact the economy and society)\",\n",
       " 'Philosophy',\n",
       " 'History',\n",
       " 'History',\n",
       " '\\nScience / Technology',\n",
       " 'Literature',\n",
       " 'Science',\n",
       " 'Language',\n",
       " 'Science',\n",
       " 'Medicine',\n",
       " 'Philosophy',\n",
       " 'Arts',\n",
       " 'Language',\n",
       " 'Religion',\n",
       " 'Science',\n",
       " \"Environment\\nExplanation:\\nThe article is about an animal species, the aardvark, and its characteristics, which is a topic that falls under the 'Environment' category.\",\n",
       " 'Environment\\n\\nExplanation:\\nThe article is about an animal species, the aardwolf, and its habitat being East and Southern Africa. It falls under the category of Environment as it deals with wildlife and their natural habitats.',\n",
       " \"Environment\\nExplanation:\\nThe article is about Adobe, a building material made from earth and organic materials. It is a type of earthen construction, which is a sustainable and environmentally friendly way of building. Therefore, the article fits best into the 'Environment' category.\",\n",
       " 'Sports',\n",
       " 'Geography',\n",
       " 'Geography',\n",
       " 'Politics',\n",
       " 'Geography',\n",
       " 'Geography',\n",
       " 'Philosophy',\n",
       " 'Geography',\n",
       " 'Education',\n",
       " 'Politics',\n",
       " 'Economics',\n",
       " 'Economics',\n",
       " 'Politics',\n",
       " 'Politics',\n",
       " 'History',\n",
       " 'Technology',\n",
       " 'Geography',\n",
       " '\\nArticle: The Effects of the Industrial Revolution on British Literature\\n\\nAnswer:\\nLiterature',\n",
       " 'Science',\n",
       " 'Science',\n",
       " 'Geography',\n",
       " 'Geography',\n",
       " 'Religion',\n",
       " 'Mathematics',\n",
       " 'Geography',\n",
       " 'Science',\n",
       " 'Sports',\n",
       " 'Arts',\n",
       " 'Science']"
      ]
     },
     "execution_count": 66,
     "metadata": {},
     "output_type": "execute_result"
    }
   ],
   "source": [
    "answers"
   ]
  },
  {
   "cell_type": "code",
   "execution_count": 67,
   "id": "5a38722e",
   "metadata": {
    "ExecuteTime": {
     "end_time": "2024-04-12T19:00:28.333624Z",
     "start_time": "2024-04-12T19:00:28.311124Z"
    }
   },
   "outputs": [],
   "source": [
    "import pandas as pd\n",
    "\n",
    "df = pd.DataFrame({\n",
    "    \"Article\": articles[:100],\n",
    "    \"Category\": answers\n",
    "})"
   ]
  },
  {
   "cell_type": "code",
   "execution_count": 68,
   "id": "2ebd502a",
   "metadata": {
    "ExecuteTime": {
     "end_time": "2024-04-12T19:00:35.708988Z",
     "start_time": "2024-04-12T19:00:35.662805Z"
    }
   },
   "outputs": [
    {
     "data": {
      "text/html": [
       "<div>\n",
       "<style scoped>\n",
       "    .dataframe tbody tr th:only-of-type {\n",
       "        vertical-align: middle;\n",
       "    }\n",
       "\n",
       "    .dataframe tbody tr th {\n",
       "        vertical-align: top;\n",
       "    }\n",
       "\n",
       "    .dataframe thead th {\n",
       "        text-align: right;\n",
       "    }\n",
       "</style>\n",
       "<table border=\"1\" class=\"dataframe\">\n",
       "  <thead>\n",
       "    <tr style=\"text-align: right;\">\n",
       "      <th></th>\n",
       "      <th>Article</th>\n",
       "      <th>Category</th>\n",
       "    </tr>\n",
       "  </thead>\n",
       "  <tbody>\n",
       "    <tr>\n",
       "      <th>0</th>\n",
       "      <td>Anarchism is a political philosophy and moveme...</td>\n",
       "      <td>Politics</td>\n",
       "    </tr>\n",
       "    <tr>\n",
       "      <th>1</th>\n",
       "      <td>Albedo (; ) is the fraction of sunlight that i...</td>\n",
       "      <td>Environment\\nExplanation:\\nThe article is abou...</td>\n",
       "    </tr>\n",
       "    <tr>\n",
       "      <th>2</th>\n",
       "      <td>A, or a, is the first letter and the first vow...</td>\n",
       "      <td>Language</td>\n",
       "    </tr>\n",
       "    <tr>\n",
       "      <th>3</th>\n",
       "      <td>Alabama () is a state in the Southeastern regi...</td>\n",
       "      <td>Geography</td>\n",
       "    </tr>\n",
       "    <tr>\n",
       "      <th>4</th>\n",
       "      <td>In Greek mythology, Achilles ( ) or Achilleus ...</td>\n",
       "      <td>Literature</td>\n",
       "    </tr>\n",
       "  </tbody>\n",
       "</table>\n",
       "</div>"
      ],
      "text/plain": [
       "                                             Article  \\\n",
       "0  Anarchism is a political philosophy and moveme...   \n",
       "1  Albedo (; ) is the fraction of sunlight that i...   \n",
       "2  A, or a, is the first letter and the first vow...   \n",
       "3  Alabama () is a state in the Southeastern regi...   \n",
       "4  In Greek mythology, Achilles ( ) or Achilleus ...   \n",
       "\n",
       "                                            Category  \n",
       "0                                           Politics  \n",
       "1  Environment\\nExplanation:\\nThe article is abou...  \n",
       "2                                           Language  \n",
       "3                                          Geography  \n",
       "4                                         Literature  "
      ]
     },
     "execution_count": 68,
     "metadata": {},
     "output_type": "execute_result"
    }
   ],
   "source": [
    "df.head()"
   ]
  },
  {
   "cell_type": "code",
   "execution_count": null,
   "id": "274170d8",
   "metadata": {},
   "outputs": [],
   "source": []
  }
 ],
 "metadata": {
  "kernelspec": {
   "display_name": "Python 3 (ipykernel)",
   "language": "python",
   "name": "python3"
  },
  "language_info": {
   "codemirror_mode": {
    "name": "ipython",
    "version": 3
   },
   "file_extension": ".py",
   "mimetype": "text/x-python",
   "name": "python",
   "nbconvert_exporter": "python",
   "pygments_lexer": "ipython3",
   "version": "3.11.5"
  }
 },
 "nbformat": 4,
 "nbformat_minor": 5
}
