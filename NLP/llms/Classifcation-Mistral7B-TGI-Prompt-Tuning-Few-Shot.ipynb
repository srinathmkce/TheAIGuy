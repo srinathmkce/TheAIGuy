{
 "cells": [
  {
   "cell_type": "markdown",
   "id": "2dfca186",
   "metadata": {},
   "source": [
    "### Loading the dataset"
   ]
  },
  {
   "cell_type": "code",
   "execution_count": null,
   "id": "c31523eb",
   "metadata": {},
   "outputs": [],
   "source": [
    "! pip install -U datasets"
   ]
  },
  {
   "cell_type": "code",
   "execution_count": 1,
   "id": "f2d47157",
   "metadata": {
    "ExecuteTime": {
     "end_time": "2024-05-03T17:54:24.221074Z",
     "start_time": "2024-05-03T17:53:24.250349Z"
    }
   },
   "outputs": [
    {
     "data": {
      "application/vnd.jupyter.widget-view+json": {
       "model_id": "9c80284ccef54bfab96c1a112a909610",
       "version_major": 2,
       "version_minor": 0
      },
      "text/plain": [
       "Resolving data files:   0%|          | 0/41 [00:00<?, ?it/s]"
      ]
     },
     "metadata": {},
     "output_type": "display_data"
    }
   ],
   "source": [
    "from datasets import load_dataset\n",
    "\n",
    "dataset = load_dataset(\"wikimedia/wikipedia\", \"20231101.en\")"
   ]
  },
  {
   "cell_type": "code",
   "execution_count": 3,
   "id": "79d99354",
   "metadata": {
    "ExecuteTime": {
     "end_time": "2024-05-03T17:54:42.214950Z",
     "start_time": "2024-05-03T17:54:42.209878Z"
    }
   },
   "outputs": [
    {
     "data": {
      "text/plain": [
       "DatasetDict({\n",
       "    train: Dataset({\n",
       "        features: ['id', 'url', 'title', 'text'],\n",
       "        num_rows: 6407814\n",
       "    })\n",
       "})"
      ]
     },
     "execution_count": 3,
     "metadata": {},
     "output_type": "execute_result"
    }
   ],
   "source": [
    " dataset"
   ]
  },
  {
   "cell_type": "code",
   "execution_count": 13,
   "id": "b6437bca",
   "metadata": {
    "ExecuteTime": {
     "end_time": "2024-05-03T18:18:30.806135Z",
     "start_time": "2024-05-03T18:18:30.749913Z"
    }
   },
   "outputs": [],
   "source": [
    "articles = dataset[\"train\"][:1000][\"text\"]"
   ]
  },
  {
   "cell_type": "code",
   "execution_count": 14,
   "id": "fca5ec91",
   "metadata": {
    "ExecuteTime": {
     "end_time": "2024-05-03T18:18:32.632923Z",
     "start_time": "2024-05-03T18:18:32.628799Z"
    }
   },
   "outputs": [
    {
     "data": {
      "text/plain": [
       "1000"
      ]
     },
     "execution_count": 14,
     "metadata": {},
     "output_type": "execute_result"
    }
   ],
   "source": [
    "len(articles)"
   ]
  },
  {
   "cell_type": "code",
   "execution_count": 15,
   "id": "de8efdd9",
   "metadata": {
    "ExecuteTime": {
     "end_time": "2024-05-03T18:18:33.069871Z",
     "start_time": "2024-05-03T18:18:33.012416Z"
    }
   },
   "outputs": [],
   "source": [
    "articles = [x.split(\"\\n\")[0] for x in articles]"
   ]
  },
  {
   "cell_type": "code",
   "execution_count": 13,
   "id": "5fd253e7",
   "metadata": {
    "ExecuteTime": {
     "end_time": "2024-04-12T17:37:29.423376Z",
     "start_time": "2024-04-12T17:37:29.417075Z"
    }
   },
   "outputs": [
    {
     "data": {
      "text/plain": [
       "'Anarchism is a political philosophy and movement that is skeptical of all justifications for authority and seeks to abolish the institutions it claims maintain unnecessary coercion and hierarchy, typically including nation-states, and capitalism. Anarchism advocates for the replacement of the state with stateless societies and voluntary free associations. As a historically left-wing movement, this reading of anarchism is placed on the farthest left of the political spectrum, usually described as the libertarian wing of the socialist movement (libertarian socialism).'"
      ]
     },
     "execution_count": 13,
     "metadata": {},
     "output_type": "execute_result"
    }
   ],
   "source": [
    "articles[0]"
   ]
  },
  {
   "cell_type": "code",
   "execution_count": 24,
   "id": "381addee",
   "metadata": {
    "ExecuteTime": {
     "end_time": "2024-05-03T18:36:36.799893Z",
     "start_time": "2024-05-03T18:36:36.791672Z"
    }
   },
   "outputs": [
    {
     "data": {
      "text/plain": [
       "50"
      ]
     },
     "execution_count": 24,
     "metadata": {},
     "output_type": "execute_result"
    }
   ],
   "source": [
    "categories = [\n",
    "    \"History\",\n",
    "    \"Geography\",\n",
    "    \"Science\",\n",
    "    \"Technology\",\n",
    "    \"Mathematics\",\n",
    "    \"Literature\",\n",
    "    \"Art\",\n",
    "    \"Music\",\n",
    "    \"Film\",\n",
    "    \"Television\",\n",
    "    \"Sports\",\n",
    "    \"Politics\",\n",
    "    \"Philosophy\",\n",
    "    \"Religion\",\n",
    "    \"Sociology\",\n",
    "    \"Psychology\",\n",
    "    \"Economics\",\n",
    "    \"Business\",\n",
    "    \"Medicine\",\n",
    "    \"Biology\",\n",
    "    \"Chemistry\",\n",
    "    \"Physics\",\n",
    "    \"Astronomy\",\n",
    "    \"Environmental Science\",\n",
    "    \"Engineering\",\n",
    "    \"Computer Science\",\n",
    "    \"Linguistics\",\n",
    "    \"Anthropology\",\n",
    "    \"Archaeology\",\n",
    "    \"Education\",\n",
    "    \"Law\",\n",
    "    \"Military\",\n",
    "    \"Architecture\",\n",
    "    \"Fashion\",\n",
    "    \"Cuisine\",\n",
    "    \"Travel\",\n",
    "    \"Mythology\",\n",
    "    \"Folklore\",\n",
    "    \"Biography\",\n",
    "    \"Mythology\",\n",
    "    \"Social Issues\",\n",
    "    \"Human Rights\",\n",
    "    \"Technology Ethics\",\n",
    "    \"Climate Change\",\n",
    "    \"Conservation\",\n",
    "    \"Urban Studies\",\n",
    "    \"Demographics\",\n",
    "    \"Journalism\",\n",
    "    \"Cryptocurrency\",\n",
    "    \"Artificial Intelligence\"\n",
    "]\n",
    "len(categories)"
   ]
  },
  {
   "cell_type": "code",
   "execution_count": 8,
   "id": "51c4bab6",
   "metadata": {
    "ExecuteTime": {
     "end_time": "2024-05-03T17:55:08.448830Z",
     "start_time": "2024-05-03T17:54:53.384018Z"
    }
   },
   "outputs": [
    {
     "name": "stdout",
     "output_type": "stream",
     "text": [
      "········\n"
     ]
    }
   ],
   "source": [
    "from getpass import getpass\n",
    "\n",
    "HUGGINGFACEHUB_API_TOKEN = getpass()"
   ]
  },
  {
   "cell_type": "code",
   "execution_count": 9,
   "id": "7dec5776",
   "metadata": {
    "ExecuteTime": {
     "end_time": "2024-05-03T17:55:10.892888Z",
     "start_time": "2024-05-03T17:55:10.887567Z"
    }
   },
   "outputs": [],
   "source": [
    "import os\n",
    "\n",
    "os.environ[\"HUGGINGFACEHUB_API_TOKEN\"] = HUGGINGFACEHUB_API_TOKEN"
   ]
  },
  {
   "cell_type": "code",
   "execution_count": 17,
   "id": "3de57930",
   "metadata": {
    "ExecuteTime": {
     "end_time": "2024-05-03T18:19:03.229539Z",
     "start_time": "2024-05-03T18:19:02.452517Z"
    }
   },
   "outputs": [
    {
     "name": "stdout",
     "output_type": "stream",
     "text": [
      "Token will not been saved to git credential helper. Pass `add_to_git_credential=True` if you want to set the git credential as well.\n",
      "Token is valid (permission: write).\n",
      "Your token has been saved to C:\\Users\\shrin\\.cache\\huggingface\\token\n",
      "Login successful\n"
     ]
    }
   ],
   "source": [
    "from langchain_community.llms import HuggingFaceEndpoint\n",
    "pod_id = \"6o8rn5wbzh2hd9\"\n",
    "endpoint = f\"https://{pod_id}-8080.proxy.runpod.net\"\n",
    "llm = HuggingFaceEndpoint(endpoint_url=endpoint)"
   ]
  },
  {
   "cell_type": "code",
   "execution_count": 41,
   "id": "2f95f7c6",
   "metadata": {
    "ExecuteTime": {
     "end_time": "2024-05-03T18:56:22.308343Z",
     "start_time": "2024-05-03T18:56:16.389355Z"
    }
   },
   "outputs": [
    {
     "name": "stderr",
     "output_type": "stream",
     "text": [
      "100%|█████████████████████████████████████████████████████████████████████████████████████████████████████████████████████████████████████████████████████████████████████████████| 10/10 [00:05<00:00,  1.69it/s]\n"
     ]
    }
   ],
   "source": [
    "answers = []\n",
    "\n",
    "# Assign a role/task\n",
    "# Add tags\n",
    "# Add conditions\n",
    "# Few shot \n",
    "\n",
    "for article in tqdm(articles[:10]):\n",
    "    prompt = f\"\"\"Your task is to assess customer's article and categorize the customer's article after <<<>>> into one of the following  predefined categories:\n",
    "\n",
    "Categories: {categories}\n",
    "\n",
    "If the text doesn't fit into any of the above mentioned categories, return \"Others\"\n",
    "Do not add any explanations and return only the category name\n",
    "\n",
    "### Here are some examples\n",
    "Article: Alabama () is a state in the Southeastern region of the United States, bordered by Tennessee to the north; Georgia to the east; Florida and the Gulf of Mexico to the south; and Mississippi to the west. Alabama is the 30th largest by area and the 24th-most populous of the U.S. states.\n",
    "Answer: {{\"Category\": \"Geography\"}}\n",
    "\n",
    "Article: Albedo (; ) is the fraction of sunlight that is diffusely reflected by a body. It is measured on a scale from 0 (corresponding to a black body that absorbs all incident radiation) to 1 (corresponding to a body that reflects all incident radiation).ipynb_checkpoints/\n",
    "Answer: {{\"Category\": \"Physics\"}}\n",
    "###\n",
    "\n",
    "<<<\n",
    "Article: {article}\n",
    ">>>\n",
    "\n",
    "Answer:\n",
    "\"\"\"\n",
    "    answers.append(llm.invoke(prompt))\n",
    "\n"
   ]
  },
  {
   "cell_type": "code",
   "execution_count": 45,
   "id": "64ed6d42",
   "metadata": {
    "ExecuteTime": {
     "end_time": "2024-05-03T18:58:55.899793Z",
     "start_time": "2024-05-03T18:58:55.895305Z"
    }
   },
   "outputs": [
    {
     "name": "stdout",
     "output_type": "stream",
     "text": [
      "Politics\n"
     ]
    }
   ],
   "source": [
    "import json\n",
    "output_dict = json.loads(answers[0])\n",
    "if \"Category\" in output_dict:\n",
    "    category_name = output_dict[\"Category\"]\n",
    "    print(category_name)\n",
    "        "
   ]
  },
  {
   "cell_type": "code",
   "execution_count": null,
   "id": "274170d8",
   "metadata": {},
   "outputs": [],
   "source": []
  }
 ],
 "metadata": {
  "kernelspec": {
   "display_name": "Python 3 (ipykernel)",
   "language": "python",
   "name": "python3"
  },
  "language_info": {
   "codemirror_mode": {
    "name": "ipython",
    "version": 3
   },
   "file_extension": ".py",
   "mimetype": "text/x-python",
   "name": "python",
   "nbconvert_exporter": "python",
   "pygments_lexer": "ipython3",
   "version": "3.11.5"
  }
 },
 "nbformat": 4,
 "nbformat_minor": 5
}
