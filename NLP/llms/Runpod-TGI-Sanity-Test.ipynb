{
 "cells": [
  {
   "cell_type": "code",
   "execution_count": 5,
   "id": "fdc6a764",
   "metadata": {
    "ExecuteTime": {
     "end_time": "2024-04-21T10:36:04.584611Z",
     "start_time": "2024-04-21T10:36:04.580865Z"
    }
   },
   "outputs": [],
   "source": [
    "import requests\n",
    "import json"
   ]
  },
  {
   "cell_type": "code",
   "execution_count": 6,
   "id": "240e19b4",
   "metadata": {
    "ExecuteTime": {
     "end_time": "2024-04-21T10:36:04.939667Z",
     "start_time": "2024-04-21T10:36:04.936303Z"
    }
   },
   "outputs": [],
   "source": [
    "pod_id = \"54tnsb8cv69vbd\"\n",
    "endpoint = f\"https://{pod_id}-8080.proxy.runpod.net\"\n",
    "prompt = json.dumps({\"inputs\": \"Tell me a joke\"})\n",
    "headers = {\"Content-Type\" : \"application/json\"}"
   ]
  },
  {
   "cell_type": "code",
   "execution_count": 7,
   "id": "e722efd3",
   "metadata": {
    "ExecuteTime": {
     "end_time": "2024-04-21T10:36:33.316289Z",
     "start_time": "2024-04-21T10:36:29.600452Z"
    }
   },
   "outputs": [],
   "source": [
    "response = requests.post(url=endpoint, headers=headers, data=prompt)"
   ]
  },
  {
   "cell_type": "code",
   "execution_count": 8,
   "id": "bf164df9",
   "metadata": {
    "ExecuteTime": {
     "end_time": "2024-04-21T10:36:41.503961Z",
     "start_time": "2024-04-21T10:36:41.496431Z"
    }
   },
   "outputs": [
    {
     "data": {
      "text/plain": [
       "200"
      ]
     },
     "execution_count": 8,
     "metadata": {},
     "output_type": "execute_result"
    }
   ],
   "source": [
    "response.status_code"
   ]
  },
  {
   "cell_type": "code",
   "execution_count": 9,
   "id": "c26bf6ce",
   "metadata": {
    "ExecuteTime": {
     "end_time": "2024-04-21T10:36:48.871698Z",
     "start_time": "2024-04-21T10:36:48.867500Z"
    }
   },
   "outputs": [
    {
     "data": {
      "text/plain": [
       "'[{\"generated_text\":\"Tell me a joke Rolex\\\\n\\\\nWhy did the Rolex go to the therapist?\\\\n\\\\nBecause it had too many watch issues.\\\\n\\\\nRolex is a brand of high-end watches. They are known for their precise craftsmanship, durability, and luxury label status. The joke here plays on the double meaning of the term \\\\\"watch issues.\\\\\" It can mean both problems that a Rolex watch may have, as well as issues that people who wear Rolex watches might face, such as\"}]'"
      ]
     },
     "execution_count": 9,
     "metadata": {},
     "output_type": "execute_result"
    }
   ],
   "source": [
    "response.text"
   ]
  },
  {
   "cell_type": "code",
   "execution_count": null,
   "id": "0b022bd8",
   "metadata": {},
   "outputs": [],
   "source": []
  }
 ],
 "metadata": {
  "kernelspec": {
   "display_name": "Python 3 (ipykernel)",
   "language": "python",
   "name": "python3"
  },
  "language_info": {
   "codemirror_mode": {
    "name": "ipython",
    "version": 3
   },
   "file_extension": ".py",
   "mimetype": "text/x-python",
   "name": "python",
   "nbconvert_exporter": "python",
   "pygments_lexer": "ipython3",
   "version": "3.11.5"
  }
 },
 "nbformat": 4,
 "nbformat_minor": 5
}
