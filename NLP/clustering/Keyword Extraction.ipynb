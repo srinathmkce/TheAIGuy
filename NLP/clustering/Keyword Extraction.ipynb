{
 "cells": [
  {
   "cell_type": "markdown",
   "id": "2dea3b7b",
   "metadata": {},
   "source": [
    "## Loading the dataset"
   ]
  },
  {
   "cell_type": "code",
   "execution_count": null,
   "id": "b75f1b50",
   "metadata": {},
   "outputs": [],
   "source": [
    "! pip install -U datasets"
   ]
  },
  {
   "cell_type": "code",
   "execution_count": 1,
   "id": "ef26c581",
   "metadata": {
    "ExecuteTime": {
     "end_time": "2024-02-14T16:44:13.223804Z",
     "start_time": "2024-02-14T16:43:16.211389Z"
    }
   },
   "outputs": [
    {
     "data": {
      "application/vnd.jupyter.widget-view+json": {
       "model_id": "4a930aace8d3477e803b45f454520835",
       "version_major": 2,
       "version_minor": 0
      },
      "text/plain": [
       "Resolving data files:   0%|          | 0/41 [00:00<?, ?it/s]"
      ]
     },
     "metadata": {},
     "output_type": "display_data"
    }
   ],
   "source": [
    "from datasets import load_dataset\n",
    "dataset = load_dataset(\"wikimedia/wikipedia\", \"20231101.en\")"
   ]
  },
  {
   "cell_type": "code",
   "execution_count": 2,
   "id": "a97f47e6",
   "metadata": {
    "ExecuteTime": {
     "end_time": "2024-02-14T16:44:13.245286Z",
     "start_time": "2024-02-14T16:44:13.229817Z"
    }
   },
   "outputs": [
    {
     "data": {
      "text/plain": [
       "DatasetDict({\n",
       "    train: Dataset({\n",
       "        features: ['id', 'url', 'title', 'text'],\n",
       "        num_rows: 6407814\n",
       "    })\n",
       "})"
      ]
     },
     "execution_count": 2,
     "metadata": {},
     "output_type": "execute_result"
    }
   ],
   "source": [
    "dataset"
   ]
  },
  {
   "cell_type": "code",
   "execution_count": 3,
   "id": "a4fe636a",
   "metadata": {
    "ExecuteTime": {
     "end_time": "2024-02-14T16:44:25.411088Z",
     "start_time": "2024-02-14T16:44:13.261296Z"
    }
   },
   "outputs": [],
   "source": [
    "import random\n",
    "length = len(dataset[\"train\"])\n",
    "random_indices = random.sample(range(length), 10000)\n",
    "articles = [dataset[\"train\"][idx] for idx in random_indices]"
   ]
  },
  {
   "cell_type": "code",
   "execution_count": 4,
   "id": "870113f3",
   "metadata": {
    "ExecuteTime": {
     "end_time": "2024-02-14T16:44:25.430498Z",
     "start_time": "2024-02-14T16:44:25.415103Z"
    },
    "scrolled": true
   },
   "outputs": [],
   "source": [
    "articles = [x[\"text\"] for x in articles]"
   ]
  },
  {
   "cell_type": "markdown",
   "id": "6d038d0c",
   "metadata": {},
   "source": [
    "## Preprocessing"
   ]
  },
  {
   "cell_type": "code",
   "execution_count": null,
   "id": "1862b3e9",
   "metadata": {},
   "outputs": [],
   "source": [
    "# remove stop words\n",
    "# remove punctuations\n",
    "# change the articles to lower case"
   ]
  },
  {
   "cell_type": "code",
   "execution_count": 21,
   "id": "ec294621",
   "metadata": {
    "ExecuteTime": {
     "end_time": "2024-02-12T06:20:06.784325Z",
     "start_time": "2024-02-12T06:20:06.779214Z"
    }
   },
   "outputs": [
    {
     "name": "stderr",
     "output_type": "stream",
     "text": [
      "[nltk_data] Downloading package stopwords to\n",
      "[nltk_data]     C:\\Users\\shrin\\AppData\\Roaming\\nltk_data...\n",
      "[nltk_data]   Package stopwords is already up-to-date!\n"
     ]
    },
    {
     "data": {
      "text/plain": [
       "True"
      ]
     },
     "execution_count": 21,
     "metadata": {},
     "output_type": "execute_result"
    }
   ],
   "source": [
    "import nltk\n",
    "nltk.download(\"stopwords\")"
   ]
  },
  {
   "cell_type": "code",
   "execution_count": 5,
   "id": "888004f8",
   "metadata": {
    "ExecuteTime": {
     "end_time": "2024-02-14T16:44:42.675914Z",
     "start_time": "2024-02-14T16:44:25.440506Z"
    }
   },
   "outputs": [],
   "source": [
    "from nltk.corpus import stopwords\n",
    "stop = stopwords.words(\"english\")"
   ]
  },
  {
   "cell_type": "code",
   "execution_count": 6,
   "id": "42f53739",
   "metadata": {
    "ExecuteTime": {
     "end_time": "2024-02-14T16:45:00.164794Z",
     "start_time": "2024-02-14T16:44:42.679931Z"
    }
   },
   "outputs": [],
   "source": [
    "for i, article in enumerate(articles):\n",
    "    \n",
    "    # remove punctuations\n",
    "    PUNCTUATION = \"\"\"!\"#$%&'()*+,-./:;<=>?@[\\]^_`{|}~\"\"\" \n",
    "    article = ''.join([c for c in article if c not in PUNCTUATION])\n",
    "    \n",
    "    # remove the stop words and convert to lower case\n",
    "    article = ' '.join([word for word in article.lower().split() if word not in stop])\n",
    "    \n",
    "    articles[i] = article\n",
    "    "
   ]
  },
  {
   "cell_type": "markdown",
   "id": "14f56ab6",
   "metadata": {},
   "source": [
    "## Vectorization"
   ]
  },
  {
   "cell_type": "code",
   "execution_count": 7,
   "id": "d1065b47",
   "metadata": {
    "ExecuteTime": {
     "end_time": "2024-02-14T16:45:00.257884Z",
     "start_time": "2024-02-14T16:45:00.168803Z"
    }
   },
   "outputs": [],
   "source": [
    "from sklearn.feature_extraction.text import TfidfVectorizer\n",
    "vectorizer = TfidfVectorizer(max_df=0.5, min_df=5, stop_words=\"english\")"
   ]
  },
  {
   "cell_type": "code",
   "execution_count": 8,
   "id": "591b951d",
   "metadata": {
    "ExecuteTime": {
     "end_time": "2024-02-14T16:45:05.853177Z",
     "start_time": "2024-02-14T16:45:00.260893Z"
    }
   },
   "outputs": [
    {
     "data": {
      "text/plain": [
       "(10000, 31101)"
      ]
     },
     "execution_count": 8,
     "metadata": {},
     "output_type": "execute_result"
    }
   ],
   "source": [
    "articles_tfidf = vectorizer.fit_transform(articles)\n",
    "articles_tfidf.shape"
   ]
  },
  {
   "cell_type": "markdown",
   "id": "6ca25062",
   "metadata": {
    "ExecuteTime": {
     "end_time": "2024-02-12T08:51:00.169092Z",
     "start_time": "2024-02-12T08:51:00.111960Z"
    }
   },
   "source": [
    "## Extracting keywords"
   ]
  },
  {
   "cell_type": "code",
   "execution_count": 38,
   "id": "701cbb27",
   "metadata": {
    "ExecuteTime": {
     "end_time": "2024-02-14T16:58:38.307407Z",
     "start_time": "2024-02-14T16:58:38.211526Z"
    }
   },
   "outputs": [
    {
     "data": {
      "text/plain": [
       "array(['00', '000', '001', ..., 'świętokrzyskie', 'μm', 'на'],\n",
       "      dtype=object)"
      ]
     },
     "execution_count": 38,
     "metadata": {},
     "output_type": "execute_result"
    }
   ],
   "source": [
    "# Find the feature names\n",
    "feature_names = vectorizer.get_feature_names_out()\n",
    "feature_names"
   ]
  },
  {
   "cell_type": "code",
   "execution_count": 41,
   "id": "ec0c80bd",
   "metadata": {
    "ExecuteTime": {
     "end_time": "2024-02-14T17:00:53.803726Z",
     "start_time": "2024-02-14T17:00:53.798071Z"
    }
   },
   "outputs": [
    {
     "data": {
      "text/plain": [
       "'city'"
      ]
     },
     "execution_count": 41,
     "metadata": {},
     "output_type": "execute_result"
    }
   ],
   "source": [
    "feature_names[6657]"
   ]
  },
  {
   "cell_type": "code",
   "execution_count": 44,
   "id": "dd58d207",
   "metadata": {
    "ExecuteTime": {
     "end_time": "2024-02-14T17:03:17.340966Z",
     "start_time": "2024-02-14T17:03:17.334773Z"
    }
   },
   "outputs": [
    {
     "data": {
      "text/plain": [
       "0.052133096235709296"
      ]
     },
     "execution_count": 44,
     "metadata": {},
     "output_type": "execute_result"
    }
   ],
   "source": [
    "articles_tfidf[0, 6657]"
   ]
  },
  {
   "cell_type": "code",
   "execution_count": 52,
   "id": "c7d4046f",
   "metadata": {
    "ExecuteTime": {
     "end_time": "2024-02-14T17:09:42.695980Z",
     "start_time": "2024-02-14T17:08:59.738191Z"
    }
   },
   "outputs": [
    {
     "name": "stderr",
     "output_type": "stream",
     "text": [
      "100%|███████████████████████████████████████████████████████████████████████████| 10000/10000 [00:42<00:00, 232.85it/s]\n"
     ]
    }
   ],
   "source": [
    "from tqdm import tqdm\n",
    "NUM_KEYWORDS = 50\n",
    "keywords = []\n",
    "for doc_index in tqdm(range(len(articles))):\n",
    "    # find the feature index\n",
    "    feature_index = articles_tfidf[doc_index, :].nonzero()[1]\n",
    "    \n",
    "    # find the score for feature index\n",
    "    tfidf_scores = zip(feature_index, [articles_tfidf[doc_index, x] for x in feature_index])\n",
    "    \n",
    "    # sort these scores\n",
    "    sorted_tfidf_scores = sorted(tfidf_scores, key=lambda x: x[1], reverse=True)\n",
    "    \n",
    "    top_keywords = \" \".join(([feature_names[i] for i, s in sorted_tfidf_scores[:NUM_KEYWORDS]]))\n",
    "    \n",
    "    keywords.append(top_keywords)\n",
    "    "
   ]
  },
  {
   "cell_type": "code",
   "execution_count": 54,
   "id": "0ee9594a",
   "metadata": {
    "ExecuteTime": {
     "end_time": "2024-02-14T17:10:29.910306Z",
     "start_time": "2024-02-14T17:10:29.523028Z"
    }
   },
   "outputs": [],
   "source": [
    "import pandas as pd\n",
    "\n",
    "df = pd.DataFrame({\n",
    "    \"article\": articles,\n",
    "    \"keywords\": keywords\n",
    "})"
   ]
  },
  {
   "cell_type": "code",
   "execution_count": 55,
   "id": "8e65e437",
   "metadata": {
    "ExecuteTime": {
     "end_time": "2024-02-14T17:10:36.985269Z",
     "start_time": "2024-02-14T17:10:36.928744Z"
    }
   },
   "outputs": [
    {
     "data": {
      "text/html": [
       "<div>\n",
       "<style scoped>\n",
       "    .dataframe tbody tr th:only-of-type {\n",
       "        vertical-align: middle;\n",
       "    }\n",
       "\n",
       "    .dataframe tbody tr th {\n",
       "        vertical-align: top;\n",
       "    }\n",
       "\n",
       "    .dataframe thead th {\n",
       "        text-align: right;\n",
       "    }\n",
       "</style>\n",
       "<table border=\"1\" class=\"dataframe\">\n",
       "  <thead>\n",
       "    <tr style=\"text-align: right;\">\n",
       "      <th></th>\n",
       "      <th>article</th>\n",
       "      <th>keywords</th>\n",
       "    </tr>\n",
       "  </thead>\n",
       "  <tbody>\n",
       "    <tr>\n",
       "      <th>0</th>\n",
       "      <td>estadio municipal de balboa multipurpose stadi...</td>\n",
       "      <td>panama balboa stadium multipurpose venues foot...</td>\n",
       "    </tr>\n",
       "    <tr>\n",
       "      <th>1</th>\n",
       "      <td>dawn debut studio album american singersongwri...</td>\n",
       "      <td>albums dawn signifies rca album records produc...</td>\n",
       "    </tr>\n",
       "    <tr>\n",
       "      <th>2</th>\n",
       "      <td>albert burnett born 10 october 1955 scottish f...</td>\n",
       "      <td>juniors scottish hampden dumbarton albert falk...</td>\n",
       "    </tr>\n",
       "    <tr>\n",
       "      <th>3</th>\n",
       "      <td>ckfffm first nations community radio station o...</td>\n",
       "      <td>radio quebec 1041 mhz antenna fm station 2020 ...</td>\n",
       "    </tr>\n",
       "    <tr>\n",
       "      <th>4</th>\n",
       "      <td>noblemen indian english language drama film di...</td>\n",
       "      <td>shay noblemen film ali haji murali films india...</td>\n",
       "    </tr>\n",
       "  </tbody>\n",
       "</table>\n",
       "</div>"
      ],
      "text/plain": [
       "                                             article  \\\n",
       "0  estadio municipal de balboa multipurpose stadi...   \n",
       "1  dawn debut studio album american singersongwri...   \n",
       "2  albert burnett born 10 october 1955 scottish f...   \n",
       "3  ckfffm first nations community radio station o...   \n",
       "4  noblemen indian english language drama film di...   \n",
       "\n",
       "                                            keywords  \n",
       "0  panama balboa stadium multipurpose venues foot...  \n",
       "1  albums dawn signifies rca album records produc...  \n",
       "2  juniors scottish hampden dumbarton albert falk...  \n",
       "3  radio quebec 1041 mhz antenna fm station 2020 ...  \n",
       "4  shay noblemen film ali haji murali films india...  "
      ]
     },
     "execution_count": 55,
     "metadata": {},
     "output_type": "execute_result"
    }
   ],
   "source": [
    "df.head()"
   ]
  },
  {
   "cell_type": "code",
   "execution_count": null,
   "id": "9e29e94d",
   "metadata": {},
   "outputs": [],
   "source": []
  }
 ],
 "metadata": {
  "kernelspec": {
   "display_name": "Python 3 (ipykernel)",
   "language": "python",
   "name": "python3"
  },
  "language_info": {
   "codemirror_mode": {
    "name": "ipython",
    "version": 3
   },
   "file_extension": ".py",
   "mimetype": "text/x-python",
   "name": "python",
   "nbconvert_exporter": "python",
   "pygments_lexer": "ipython3",
   "version": "3.11.5"
  }
 },
 "nbformat": 4,
 "nbformat_minor": 5
}
