{
 "cells": [
  {
   "cell_type": "markdown",
   "id": "2dea3b7b",
   "metadata": {},
   "source": [
    "## Loading the dataset"
   ]
  },
  {
   "cell_type": "code",
   "execution_count": null,
   "id": "b75f1b50",
   "metadata": {},
   "outputs": [],
   "source": [
    "! pip install -U datasets"
   ]
  },
  {
   "cell_type": "code",
   "execution_count": 1,
   "id": "ef26c581",
   "metadata": {
    "ExecuteTime": {
     "end_time": "2024-02-25T16:35:06.838250Z",
     "start_time": "2024-02-25T16:34:18.708364Z"
    }
   },
   "outputs": [
    {
     "data": {
      "application/vnd.jupyter.widget-view+json": {
       "model_id": "c7393284f062433e9ab88a40c085628f",
       "version_major": 2,
       "version_minor": 0
      },
      "text/plain": [
       "Resolving data files:   0%|          | 0/41 [00:00<?, ?it/s]"
      ]
     },
     "metadata": {},
     "output_type": "display_data"
    }
   ],
   "source": [
    "from datasets import load_dataset\n",
    "dataset = load_dataset(\"wikimedia/wikipedia\", \"20231101.en\")"
   ]
  },
  {
   "cell_type": "code",
   "execution_count": 3,
   "id": "a4fe636a",
   "metadata": {
    "ExecuteTime": {
     "end_time": "2024-02-25T16:36:55.094044Z",
     "start_time": "2024-02-25T16:35:06.843507Z"
    }
   },
   "outputs": [],
   "source": [
    "import random\n",
    "NO_OF_ARTICLES = 500000\n",
    "length = len(dataset[\"train\"])\n",
    "random_indices = random.sample(range(length), NO_OF_ARTICLES)\n",
    "articles = [dataset[\"train\"][idx] for idx in random_indices]"
   ]
  },
  {
   "cell_type": "code",
   "execution_count": 4,
   "id": "870113f3",
   "metadata": {
    "ExecuteTime": {
     "end_time": "2024-02-25T16:37:01.230129Z",
     "start_time": "2024-02-25T16:37:01.013751Z"
    },
    "scrolled": true
   },
   "outputs": [],
   "source": [
    "articles = [x[\"text\"] for x in articles]"
   ]
  },
  {
   "cell_type": "code",
   "execution_count": 5,
   "id": "6b281efe",
   "metadata": {
    "ExecuteTime": {
     "end_time": "2024-02-25T16:37:05.087773Z",
     "start_time": "2024-02-25T16:37:04.592984Z"
    }
   },
   "outputs": [],
   "source": [
    "import pandas as pd\n",
    "df = pd.DataFrame({\n",
    "    \"articles\" : articles\n",
    "})"
   ]
  },
  {
   "cell_type": "code",
   "execution_count": 7,
   "id": "47a46b5d",
   "metadata": {
    "ExecuteTime": {
     "end_time": "2024-02-25T16:38:06.348662Z",
     "start_time": "2024-02-25T16:37:40.370727Z"
    }
   },
   "outputs": [
    {
     "data": {
      "text/plain": [
       "(1000, 2)"
      ]
     },
     "execution_count": 7,
     "metadata": {},
     "output_type": "execute_result"
    }
   ],
   "source": [
    "pattern = r'\\b(?:player|team|score)\\b'\n",
    "sports_df = df[df['articles'].str.contains(pattern, case=False)].sample(frac=1)[:1000]\n",
    "sports_df[\"category\"] = \"sports\"\n",
    "sports_df.shape"
   ]
  },
  {
   "cell_type": "code",
   "execution_count": 10,
   "id": "4cde26e7",
   "metadata": {
    "ExecuteTime": {
     "end_time": "2024-02-25T16:39:33.614633Z",
     "start_time": "2024-02-25T16:39:33.607314Z"
    }
   },
   "outputs": [
    {
     "data": {
      "text/html": [
       "<div>\n",
       "<style scoped>\n",
       "    .dataframe tbody tr th:only-of-type {\n",
       "        vertical-align: middle;\n",
       "    }\n",
       "\n",
       "    .dataframe tbody tr th {\n",
       "        vertical-align: top;\n",
       "    }\n",
       "\n",
       "    .dataframe thead th {\n",
       "        text-align: right;\n",
       "    }\n",
       "</style>\n",
       "<table border=\"1\" class=\"dataframe\">\n",
       "  <thead>\n",
       "    <tr style=\"text-align: right;\">\n",
       "      <th></th>\n",
       "      <th>articles</th>\n",
       "      <th>category</th>\n",
       "    </tr>\n",
       "  </thead>\n",
       "  <tbody>\n",
       "    <tr>\n",
       "      <th>211872</th>\n",
       "      <td>Team \"EuroStars\" is an Elite European Ultimate...</td>\n",
       "      <td>sports</td>\n",
       "    </tr>\n",
       "    <tr>\n",
       "      <th>476400</th>\n",
       "      <td>Alf Richard Bjercke (30 May 1921 – 9 December ...</td>\n",
       "      <td>sports</td>\n",
       "    </tr>\n",
       "    <tr>\n",
       "      <th>85840</th>\n",
       "      <td>Uncle Acid &amp; the Deadbeats (written as Uncle A...</td>\n",
       "      <td>sports</td>\n",
       "    </tr>\n",
       "    <tr>\n",
       "      <th>371099</th>\n",
       "      <td>The 2009 G20 London summit protests occurred i...</td>\n",
       "      <td>sports</td>\n",
       "    </tr>\n",
       "    <tr>\n",
       "      <th>214926</th>\n",
       "      <td>In clinical psychology, selective abstraction ...</td>\n",
       "      <td>sports</td>\n",
       "    </tr>\n",
       "  </tbody>\n",
       "</table>\n",
       "</div>"
      ],
      "text/plain": [
       "                                                 articles category\n",
       "211872  Team \"EuroStars\" is an Elite European Ultimate...   sports\n",
       "476400  Alf Richard Bjercke (30 May 1921 – 9 December ...   sports\n",
       "85840   Uncle Acid & the Deadbeats (written as Uncle A...   sports\n",
       "371099  The 2009 G20 London summit protests occurred i...   sports\n",
       "214926  In clinical psychology, selective abstraction ...   sports"
      ]
     },
     "execution_count": 10,
     "metadata": {},
     "output_type": "execute_result"
    }
   ],
   "source": [
    "sports_df.head()"
   ]
  },
  {
   "cell_type": "code",
   "execution_count": 8,
   "id": "8d2ba829",
   "metadata": {
    "ExecuteTime": {
     "end_time": "2024-02-25T16:38:49.786479Z",
     "start_time": "2024-02-25T16:38:18.294217Z"
    }
   },
   "outputs": [
    {
     "data": {
      "text/plain": [
       "(1000, 2)"
      ]
     },
     "execution_count": 8,
     "metadata": {},
     "output_type": "execute_result"
    }
   ],
   "source": [
    "pattern = r'\\b(?:theorem|proof|equation|formula)\\b'\n",
    "maths_df = df[df['articles'].str.contains(pattern, case=False)].sample(frac=1)[:1000]\n",
    "maths_df[\"category\"] = \"mathematics\"\n",
    "maths_df.shape"
   ]
  },
  {
   "cell_type": "code",
   "execution_count": 9,
   "id": "7df982ad",
   "metadata": {
    "ExecuteTime": {
     "end_time": "2024-02-25T16:39:23.707554Z",
     "start_time": "2024-02-25T16:39:23.616121Z"
    }
   },
   "outputs": [
    {
     "data": {
      "text/html": [
       "<div>\n",
       "<style scoped>\n",
       "    .dataframe tbody tr th:only-of-type {\n",
       "        vertical-align: middle;\n",
       "    }\n",
       "\n",
       "    .dataframe tbody tr th {\n",
       "        vertical-align: top;\n",
       "    }\n",
       "\n",
       "    .dataframe thead th {\n",
       "        text-align: right;\n",
       "    }\n",
       "</style>\n",
       "<table border=\"1\" class=\"dataframe\">\n",
       "  <thead>\n",
       "    <tr style=\"text-align: right;\">\n",
       "      <th></th>\n",
       "      <th>articles</th>\n",
       "      <th>category</th>\n",
       "    </tr>\n",
       "  </thead>\n",
       "  <tbody>\n",
       "    <tr>\n",
       "      <th>228242</th>\n",
       "      <td>A high-pass filter (HPF) is an electronic filt...</td>\n",
       "      <td>mathematics</td>\n",
       "    </tr>\n",
       "    <tr>\n",
       "      <th>307476</th>\n",
       "      <td>The discharging method is a technique used to ...</td>\n",
       "      <td>mathematics</td>\n",
       "    </tr>\n",
       "    <tr>\n",
       "      <th>409048</th>\n",
       "      <td>Gent–Wevelgem, officially Gent–Wevelgem – In F...</td>\n",
       "      <td>mathematics</td>\n",
       "    </tr>\n",
       "    <tr>\n",
       "      <th>43863</th>\n",
       "      <td>Chief Tom Ikimi (born 10 April 1944) in Kumba-...</td>\n",
       "      <td>mathematics</td>\n",
       "    </tr>\n",
       "    <tr>\n",
       "      <th>236007</th>\n",
       "      <td>Cornelius Franciscus de Pauw or Cornelis de Pa...</td>\n",
       "      <td>mathematics</td>\n",
       "    </tr>\n",
       "  </tbody>\n",
       "</table>\n",
       "</div>"
      ],
      "text/plain": [
       "                                                 articles     category\n",
       "228242  A high-pass filter (HPF) is an electronic filt...  mathematics\n",
       "307476  The discharging method is a technique used to ...  mathematics\n",
       "409048  Gent–Wevelgem, officially Gent–Wevelgem – In F...  mathematics\n",
       "43863   Chief Tom Ikimi (born 10 April 1944) in Kumba-...  mathematics\n",
       "236007  Cornelius Franciscus de Pauw or Cornelis de Pa...  mathematics"
      ]
     },
     "execution_count": 9,
     "metadata": {},
     "output_type": "execute_result"
    }
   ],
   "source": [
    "maths_df.head()"
   ]
  },
  {
   "cell_type": "code",
   "execution_count": 11,
   "id": "98081318",
   "metadata": {
    "ExecuteTime": {
     "end_time": "2024-02-25T16:40:04.560021Z",
     "start_time": "2024-02-25T16:39:39.667525Z"
    }
   },
   "outputs": [
    {
     "data": {
      "text/plain": [
       "(1000, 2)"
      ]
     },
     "execution_count": 11,
     "metadata": {},
     "output_type": "execute_result"
    }
   ],
   "source": [
    "pattern = r'\\b(?:river|lake|ocean)\\b'\n",
    "geo_df = df[df['articles'].str.contains(pattern, case=False)].sample(frac=1)[:1000]\n",
    "geo_df[\"category\"] = \"geography\"\n",
    "geo_df.shape"
   ]
  },
  {
   "cell_type": "code",
   "execution_count": 12,
   "id": "4f65a790",
   "metadata": {
    "ExecuteTime": {
     "end_time": "2024-02-25T16:41:00.354555Z",
     "start_time": "2024-02-25T16:41:00.237916Z"
    }
   },
   "outputs": [
    {
     "data": {
      "text/plain": [
       "(3000, 2)"
      ]
     },
     "execution_count": 12,
     "metadata": {},
     "output_type": "execute_result"
    }
   ],
   "source": [
    "df = pd.concat([sports_df, maths_df, geo_df], axis=0).drop_duplicates().sample(frac=1)\n",
    "df.shape"
   ]
  },
  {
   "cell_type": "code",
   "execution_count": 13,
   "id": "e9673e93",
   "metadata": {
    "ExecuteTime": {
     "end_time": "2024-02-25T16:41:03.256190Z",
     "start_time": "2024-02-25T16:41:03.248675Z"
    }
   },
   "outputs": [
    {
     "data": {
      "text/html": [
       "<div>\n",
       "<style scoped>\n",
       "    .dataframe tbody tr th:only-of-type {\n",
       "        vertical-align: middle;\n",
       "    }\n",
       "\n",
       "    .dataframe tbody tr th {\n",
       "        vertical-align: top;\n",
       "    }\n",
       "\n",
       "    .dataframe thead th {\n",
       "        text-align: right;\n",
       "    }\n",
       "</style>\n",
       "<table border=\"1\" class=\"dataframe\">\n",
       "  <thead>\n",
       "    <tr style=\"text-align: right;\">\n",
       "      <th></th>\n",
       "      <th>articles</th>\n",
       "      <th>category</th>\n",
       "    </tr>\n",
       "  </thead>\n",
       "  <tbody>\n",
       "    <tr>\n",
       "      <th>104782</th>\n",
       "      <td>McGillivray Pass (1867 m or 6215 ft) is a moun...</td>\n",
       "      <td>geography</td>\n",
       "    </tr>\n",
       "    <tr>\n",
       "      <th>81132</th>\n",
       "      <td>In cryptography, post-quantum cryptography (PQ...</td>\n",
       "      <td>mathematics</td>\n",
       "    </tr>\n",
       "    <tr>\n",
       "      <th>328041</th>\n",
       "      <td>Religious use of incense has its origins in an...</td>\n",
       "      <td>mathematics</td>\n",
       "    </tr>\n",
       "    <tr>\n",
       "      <th>340562</th>\n",
       "      <td>Edoardo Piscopo (born 4 February 1988) is an I...</td>\n",
       "      <td>sports</td>\n",
       "    </tr>\n",
       "    <tr>\n",
       "      <th>235560</th>\n",
       "      <td>The 1990s was the third decade in the industry...</td>\n",
       "      <td>mathematics</td>\n",
       "    </tr>\n",
       "  </tbody>\n",
       "</table>\n",
       "</div>"
      ],
      "text/plain": [
       "                                                 articles     category\n",
       "104782  McGillivray Pass (1867 m or 6215 ft) is a moun...    geography\n",
       "81132   In cryptography, post-quantum cryptography (PQ...  mathematics\n",
       "328041  Religious use of incense has its origins in an...  mathematics\n",
       "340562  Edoardo Piscopo (born 4 February 1988) is an I...       sports\n",
       "235560  The 1990s was the third decade in the industry...  mathematics"
      ]
     },
     "execution_count": 13,
     "metadata": {},
     "output_type": "execute_result"
    }
   ],
   "source": [
    "df.head()"
   ]
  },
  {
   "cell_type": "code",
   "execution_count": 14,
   "id": "7d4c9b0c",
   "metadata": {
    "ExecuteTime": {
     "end_time": "2024-02-25T16:41:08.132636Z",
     "start_time": "2024-02-25T16:41:08.129213Z"
    }
   },
   "outputs": [],
   "source": [
    "articles = df[\"articles\"].tolist()"
   ]
  },
  {
   "cell_type": "markdown",
   "id": "6d038d0c",
   "metadata": {},
   "source": [
    "## Preprocessing"
   ]
  },
  {
   "cell_type": "code",
   "execution_count": null,
   "id": "1862b3e9",
   "metadata": {},
   "outputs": [],
   "source": [
    "# remove stop words\n",
    "# remove punctuations\n",
    "# change the articles to lower case"
   ]
  },
  {
   "cell_type": "code",
   "execution_count": 21,
   "id": "ec294621",
   "metadata": {
    "ExecuteTime": {
     "end_time": "2024-02-12T06:20:06.784325Z",
     "start_time": "2024-02-12T06:20:06.779214Z"
    }
   },
   "outputs": [
    {
     "name": "stderr",
     "output_type": "stream",
     "text": [
      "[nltk_data] Downloading package stopwords to\n",
      "[nltk_data]     C:\\Users\\shrin\\AppData\\Roaming\\nltk_data...\n",
      "[nltk_data]   Package stopwords is already up-to-date!\n"
     ]
    },
    {
     "data": {
      "text/plain": [
       "True"
      ]
     },
     "execution_count": 21,
     "metadata": {},
     "output_type": "execute_result"
    }
   ],
   "source": [
    "import nltk\n",
    "nltk.download(\"stopwords\")"
   ]
  },
  {
   "cell_type": "code",
   "execution_count": 16,
   "id": "888004f8",
   "metadata": {
    "ExecuteTime": {
     "end_time": "2024-02-25T16:41:32.023032Z",
     "start_time": "2024-02-25T16:41:24.936030Z"
    }
   },
   "outputs": [],
   "source": [
    "from nltk.corpus import stopwords\n",
    "stop = stopwords.words(\"english\")"
   ]
  },
  {
   "cell_type": "code",
   "execution_count": 17,
   "id": "42f53739",
   "metadata": {
    "ExecuteTime": {
     "end_time": "2024-02-25T16:41:38.430015Z",
     "start_time": "2024-02-25T16:41:32.023032Z"
    }
   },
   "outputs": [
    {
     "name": "stderr",
     "output_type": "stream",
     "text": [
      "3000it [00:06, 468.71it/s]\n"
     ]
    }
   ],
   "source": [
    "from tqdm import tqdm\n",
    "for i, article in tqdm(enumerate(articles)):\n",
    "    \n",
    "    # remove punctuations\n",
    "    PUNCTUATION = \"\"\"!\"#$%&'()*+,-./:;<=>?@[\\]^_`{|}~\"\"\" \n",
    "    article = ''.join([c for c in article if c not in PUNCTUATION])\n",
    "    \n",
    "    # remove the stop words and convert to lower case\n",
    "    article = ' '.join([word for word in article.lower().split() if word not in stop and word.isalpha()])\n",
    "    \n",
    "    articles[i] = article\n",
    "    "
   ]
  },
  {
   "cell_type": "markdown",
   "id": "14f56ab6",
   "metadata": {},
   "source": [
    "## Vectorization"
   ]
  },
  {
   "cell_type": "code",
   "execution_count": 18,
   "id": "d1065b47",
   "metadata": {
    "ExecuteTime": {
     "end_time": "2024-02-25T16:42:12.094929Z",
     "start_time": "2024-02-25T16:42:12.091647Z"
    }
   },
   "outputs": [],
   "source": [
    "from sklearn.feature_extraction.text import TfidfVectorizer\n",
    "vectorizer = TfidfVectorizer(max_df=0.5, min_df=5, stop_words=\"english\")"
   ]
  },
  {
   "cell_type": "code",
   "execution_count": 19,
   "id": "591b951d",
   "metadata": {
    "ExecuteTime": {
     "end_time": "2024-02-25T16:42:14.274776Z",
     "start_time": "2024-02-25T16:42:12.260475Z"
    }
   },
   "outputs": [
    {
     "data": {
      "text/plain": [
       "(3000, 23346)"
      ]
     },
     "execution_count": 19,
     "metadata": {},
     "output_type": "execute_result"
    }
   ],
   "source": [
    "articles_tfidf = vectorizer.fit_transform(articles)\n",
    "articles_tfidf.shape"
   ]
  },
  {
   "cell_type": "markdown",
   "id": "3c2ca006",
   "metadata": {},
   "source": [
    "### Implement Kmeans"
   ]
  },
  {
   "cell_type": "code",
   "execution_count": 195,
   "id": "7e8011cc",
   "metadata": {
    "ExecuteTime": {
     "end_time": "2024-02-25T18:52:32.838772Z",
     "start_time": "2024-02-25T18:52:32.767511Z"
    }
   },
   "outputs": [],
   "source": [
    "from sklearn.cluster import KMeans\n",
    "kmeans = KMeans(\n",
    "    n_clusters=3,\n",
    "    n_init='auto'\n",
    ")"
   ]
  },
  {
   "cell_type": "code",
   "execution_count": 196,
   "id": "632c1371",
   "metadata": {
    "ExecuteTime": {
     "end_time": "2024-02-25T18:52:35.563133Z",
     "start_time": "2024-02-25T18:52:32.982798Z"
    }
   },
   "outputs": [],
   "source": [
    "label = kmeans.fit_predict(articles_tfidf)"
   ]
  },
  {
   "cell_type": "code",
   "execution_count": 197,
   "id": "694b93dc",
   "metadata": {
    "ExecuteTime": {
     "end_time": "2024-02-25T18:52:35.855960Z",
     "start_time": "2024-02-25T18:52:35.702860Z"
    }
   },
   "outputs": [
    {
     "data": {
      "text/plain": [
       "3000"
      ]
     },
     "execution_count": 197,
     "metadata": {},
     "output_type": "execute_result"
    }
   ],
   "source": [
    "len(label)"
   ]
  },
  {
   "cell_type": "code",
   "execution_count": 198,
   "id": "4dd9f03d",
   "metadata": {
    "ExecuteTime": {
     "end_time": "2024-02-25T18:52:36.087350Z",
     "start_time": "2024-02-25T18:52:35.978727Z"
    }
   },
   "outputs": [
    {
     "data": {
      "text/plain": [
       "array([2, 2, 2, ..., 2, 1, 2])"
      ]
     },
     "execution_count": 198,
     "metadata": {},
     "output_type": "execute_result"
    }
   ],
   "source": [
    "kmeans.labels_"
   ]
  },
  {
   "cell_type": "markdown",
   "id": "3f6c3c7a",
   "metadata": {},
   "source": [
    "### Visualization"
   ]
  },
  {
   "cell_type": "code",
   "execution_count": 199,
   "id": "70568aad",
   "metadata": {
    "ExecuteTime": {
     "end_time": "2024-02-25T18:52:36.690736Z",
     "start_time": "2024-02-25T18:52:36.179926Z"
    }
   },
   "outputs": [],
   "source": [
    "feature_names = vectorizer.get_feature_names_out()"
   ]
  },
  {
   "cell_type": "code",
   "execution_count": 200,
   "id": "95094831",
   "metadata": {
    "ExecuteTime": {
     "end_time": "2024-02-25T18:52:36.985582Z",
     "start_time": "2024-02-25T18:52:36.848318Z"
    }
   },
   "outputs": [],
   "source": [
    "centroids = kmeans.cluster_centers_\n",
    "top_n = 15\n",
    "cluster_word_scores = {}\n",
    "for i, centroid in enumerate(centroids):\n",
    "    cluster_word_scores[i] = {}\n",
    "    sorted_indices = centroid.argsort()[::-1]\n",
    "    \n",
    "    for idx in sorted_indices[:top_n]:\n",
    "        word = feature_names[idx]\n",
    "        score = centroid[idx]\n",
    "        cluster_word_scores[i][word] = score"
   ]
  },
  {
   "cell_type": "code",
   "execution_count": 201,
   "id": "e1354705",
   "metadata": {
    "ExecuteTime": {
     "end_time": "2024-02-25T18:52:37.282259Z",
     "start_time": "2024-02-25T18:52:37.135137Z"
    }
   },
   "outputs": [
    {
     "data": {
      "text/plain": [
       "{0: {'film': 0.04789511426594086,\n",
       "  'formula': 0.04144094340139102,\n",
       "  'films': 0.04105957446615522,\n",
       "  'games': 0.03902798654117032,\n",
       "  'championship': 0.038390893825919446,\n",
       "  'racing': 0.03710356919216104,\n",
       "  'race': 0.03420178518329332,\n",
       "  'album': 0.032832336503109516,\n",
       "  'drivers': 0.032764278094751555,\n",
       "  'series': 0.03190374129076474,\n",
       "  'team': 0.0275320129298744,\n",
       "  'game': 0.026605584029959484,\n",
       "  'world': 0.023901252278983594,\n",
       "  'car': 0.022497898798974535,\n",
       "  'video': 0.021505329620822314},\n",
       " 1: {'players': 0.13957120692510133,\n",
       "  'football': 0.09250637893189845,\n",
       "  'league': 0.08146734905253149,\n",
       "  'season': 0.06784490646600676,\n",
       "  'mens': 0.05424239342873429,\n",
       "  'team': 0.053024997116851234,\n",
       "  'footballers': 0.0493360522921859,\n",
       "  'club': 0.04780462812533029,\n",
       "  'hockey': 0.04751451947823481,\n",
       "  'fc': 0.04100005614637955,\n",
       "  'played': 0.0403558071865716,\n",
       "  'rugby': 0.03901768200809562,\n",
       "  'cup': 0.03784149569900777,\n",
       "  'basketball': 0.03266923850514679,\n",
       "  'expatriate': 0.032651413695488046},\n",
       " 2: {'river': 0.020015581550959515,\n",
       "  'county': 0.015701030748362644,\n",
       "  'new': 0.015297073939126332,\n",
       "  'district': 0.013249523656997666,\n",
       "  'lake': 0.013227382566928007,\n",
       "  'school': 0.013030556356524713,\n",
       "  'area': 0.012998784375777032,\n",
       "  'american': 0.012605692562769598,\n",
       "  'state': 0.012121647384560131,\n",
       "  'south': 0.012109657686618789,\n",
       "  'born': 0.012057608963408488,\n",
       "  'university': 0.011638287088026807,\n",
       "  'species': 0.01117323895154961,\n",
       "  'used': 0.010801460896371845,\n",
       "  'united': 0.010751575485412099}}"
      ]
     },
     "execution_count": 201,
     "metadata": {},
     "output_type": "execute_result"
    }
   ],
   "source": [
    "cluster_word_scores"
   ]
  },
  {
   "cell_type": "code",
   "execution_count": null,
   "id": "e9cddb96",
   "metadata": {},
   "outputs": [],
   "source": [
    "! pip install -U wordcloud"
   ]
  },
  {
   "cell_type": "code",
   "execution_count": 175,
   "id": "14ddfd0e",
   "metadata": {
    "ExecuteTime": {
     "end_time": "2024-02-25T18:46:09.612339Z",
     "start_time": "2024-02-25T18:46:09.528684Z"
    }
   },
   "outputs": [],
   "source": [
    "from wordcloud import WordCloud\n",
    "import matplotlib.pyplot as plt"
   ]
  },
  {
   "cell_type": "code",
   "execution_count": 202,
   "id": "98e9d7f9",
   "metadata": {
    "ExecuteTime": {
     "end_time": "2024-02-25T18:52:37.889913Z",
     "start_time": "2024-02-25T18:52:37.792335Z"
    }
   },
   "outputs": [],
   "source": [
    "def plot_word_cloud(cluster_num, word_scores):\n",
    "    wordcloud = WordCloud(background_color=\"white\").generate_from_frequencies(word_scores)\n",
    "    plt.figure(figsize=(8, 2))\n",
    "    plt.imshow(wordcloud, interpolation=\"bilinear\")\n",
    "    plt.axis(\"off\")\n",
    "    plt.title(f\"Cluster {cluster_num + 1} Word Cloud\")\n",
    "    plt.show()"
   ]
  },
  {
   "cell_type": "code",
   "execution_count": 203,
   "id": "0e666b64",
   "metadata": {
    "ExecuteTime": {
     "end_time": "2024-02-25T18:52:44.245110Z",
     "start_time": "2024-02-25T18:52:38.024506Z"
    }
   },
   "outputs": [
    {
     "data": {
      "image/png": "[encoded data removed]",
      "text/plain": [
       "<Figure size 800x200 with 1 Axes>"
      ]
     },
     "metadata": {},
     "output_type": "display_data"
    },
    {
     "data": {
      "image/png": "[encoded data removed]",
      "text/plain": [
       "<Figure size 800x200 with 1 Axes>"
      ]
     },
     "metadata": {},
     "output_type": "display_data"
    },
    {
     "data": {
      "image/png": "[encoded data removed]",
      "text/plain": [
       "<Figure size 800x200 with 1 Axes>"
      ]
     },
     "metadata": {},
     "output_type": "display_data"
    }
   ],
   "source": [
    "for cluster_idx, word_score in cluster_word_scores.items():\n",
    "    plot_word_cloud(cluster_idx, word_score)"
   ]
  },
  {
   "cell_type": "code",
   "execution_count": null,
   "id": "67f84202",
   "metadata": {},
   "outputs": [],
   "source": []
  }
 ],
 "metadata": {
  "kernelspec": {
   "display_name": "Python 3 (ipykernel)",
   "language": "python",
   "name": "python3"
  },
  "language_info": {
   "codemirror_mode": {
    "name": "ipython",
    "version": 3
   },
   "file_extension": ".py",
   "mimetype": "text/x-python",
   "name": "python",
   "nbconvert_exporter": "python",
   "pygments_lexer": "ipython3",
   "version": "3.11.5"
  }
 },
 "nbformat": 4,
 "nbformat_minor": 5
}
