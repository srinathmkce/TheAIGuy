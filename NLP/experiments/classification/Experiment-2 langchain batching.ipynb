{
 "cells": [
  {
   "cell_type": "markdown",
   "id": "44d870ea",
   "metadata": {},
   "source": [
    "### Imports"
   ]
  },
  {
   "cell_type": "code",
   "execution_count": 76,
   "id": "aab2de66",
   "metadata": {
    "ExecuteTime": {
     "end_time": "2024-07-11T18:43:04.734001Z",
     "start_time": "2024-07-11T18:43:04.729599Z"
    }
   },
   "outputs": [],
   "source": [
    "import json\n",
    "import time\n",
    "import os\n",
    "import getpass\n",
    "import pandas as pd\n",
    "from datasets import Dataset, load_dataset\n",
    "from tqdm import tqdm\n",
    "from langchain_core.prompts import ChatPromptTemplate\n",
    "from langchain_openai import ChatOpenAI"
   ]
  },
  {
   "cell_type": "markdown",
   "id": "0f719319",
   "metadata": {},
   "source": [
    "### Load dataset"
   ]
  },
  {
   "cell_type": "code",
   "execution_count": 39,
   "id": "3bccd46f",
   "metadata": {
    "ExecuteTime": {
     "end_time": "2024-07-11T18:01:47.509134Z",
     "start_time": "2024-07-11T18:01:20.858427Z"
    }
   },
   "outputs": [
    {
     "data": {
      "application/vnd.jupyter.widget-view+json": {
       "model_id": "380d6c2400cc417289c039ba091bb7e1",
       "version_major": 2,
       "version_minor": 0
      },
      "text/plain": [
       "Resolving data files:   0%|          | 0/41 [00:00<?, ?it/s]"
      ]
     },
     "metadata": {},
     "output_type": "display_data"
    }
   ],
   "source": [
    "dataset = load_dataset(\"wikimedia/wikipedia\", \"20231101.en\")\n",
    "NUM_SAMPLES = 10000\n",
    "articles = dataset[\"train\"][:NUM_SAMPLES][\"text\"]\n",
    "ids = dataset[\"train\"][:NUM_SAMPLES][\"id\"]\n",
    "articles = [x.split(\"\\n\")[0] for x in articles]"
   ]
  },
  {
   "cell_type": "code",
   "execution_count": 13,
   "id": "3c1cb64f",
   "metadata": {
    "ExecuteTime": {
     "end_time": "2024-07-11T17:25:45.393657Z",
     "start_time": "2024-07-11T17:25:45.389546Z"
    }
   },
   "outputs": [
    {
     "data": {
      "text/plain": [
       "10000"
      ]
     },
     "execution_count": 13,
     "metadata": {},
     "output_type": "execute_result"
    }
   ],
   "source": [
    "len(articles)"
   ]
  },
  {
   "cell_type": "code",
   "execution_count": 11,
   "id": "77a11b32",
   "metadata": {
    "ExecuteTime": {
     "end_time": "2024-07-09T09:46:05.956149Z",
     "start_time": "2024-07-09T09:46:05.951077Z"
    }
   },
   "outputs": [
    {
     "data": {
      "text/plain": [
       "\"In Greek mythology, Achilles ( ) or Achilleus () was a hero of the Trojan War who was known as being the greatest of all the Greek warriors. A central character in Homer's Iliad, he was the son of the Nereid Thetis and Peleus, king of Phthia and famous Argonaut. Achilles was raised in Phthia along his childhood companion Patroclus and received his education by the centaur Chiron. In the Iliad, he is presented as the commander of the mythical tribe of the Myrmidons. \""
      ]
     },
     "execution_count": 11,
     "metadata": {},
     "output_type": "execute_result"
    }
   ],
   "source": [
    "articles[4]"
   ]
  },
  {
   "cell_type": "markdown",
   "id": "281bebd2",
   "metadata": {},
   "source": [
    "### Initialize OpenAI Environment"
   ]
  },
  {
   "cell_type": "code",
   "execution_count": 14,
   "id": "6a3e07be",
   "metadata": {
    "ExecuteTime": {
     "end_time": "2024-07-11T17:25:53.178869Z",
     "start_time": "2024-07-11T17:25:50.669533Z"
    }
   },
   "outputs": [
    {
     "name": "stdout",
     "output_type": "stream",
     "text": [
      "Enter your OpenAI API key: ········\n"
     ]
    }
   ],
   "source": [
    "os.environ[\"OPENAI_API_KEY\"] = getpass.getpass(\"Enter your OpenAI API key: \")"
   ]
  },
  {
   "cell_type": "code",
   "execution_count": 15,
   "id": "c9680454",
   "metadata": {
    "ExecuteTime": {
     "end_time": "2024-07-11T17:25:56.013390Z",
     "start_time": "2024-07-11T17:25:55.506202Z"
    }
   },
   "outputs": [],
   "source": [
    "llm = ChatOpenAI()"
   ]
  },
  {
   "cell_type": "code",
   "execution_count": 16,
   "id": "c951ca1c",
   "metadata": {
    "ExecuteTime": {
     "end_time": "2024-07-11T17:25:57.179948Z",
     "start_time": "2024-07-11T17:25:57.176388Z"
    }
   },
   "outputs": [
    {
     "data": {
      "text/plain": [
       "'gpt-3.5-turbo'"
      ]
     },
     "execution_count": 16,
     "metadata": {},
     "output_type": "execute_result"
    }
   ],
   "source": [
    "llm.model_name"
   ]
  },
  {
   "cell_type": "markdown",
   "id": "fd61d51a",
   "metadata": {},
   "source": [
    "### Create classification prompt"
   ]
  },
  {
   "cell_type": "code",
   "execution_count": 37,
   "id": "9b94861a",
   "metadata": {
    "ExecuteTime": {
     "end_time": "2024-07-11T18:00:20.217323Z",
     "start_time": "2024-07-11T18:00:20.212737Z"
    }
   },
   "outputs": [],
   "source": [
    "prompt = ChatPromptTemplate.from_messages([\n",
    "    (\"system\", \"\"\"Your task is to assess the article and categorize the article into one of the following predfined categories:\n",
    "'History', 'Geography', 'Science', 'Technology', 'Mathematics', 'Literature', 'Art', 'Music', 'Film', 'Television', 'Sports', 'Politics', 'Philosophy', 'Religion', 'Sociology', 'Psychology', 'Economics', 'Business', 'Medicine', 'Biology', 'Chemistry', 'Physics', 'Astronomy', 'Environmental Science', 'Engineering', 'Computer Science', 'Linguistics', 'Anthropology', 'Archaeology', 'Education', 'Law', 'Military', 'Architecture', 'Fashion', 'Cuisine', 'Travel', 'Mythology', 'Folklore', 'Biography', 'Mythology', 'Social Issues', 'Human Rights', 'Technology Ethics', 'Climate Change', 'Conservation', 'Urban Studies', 'Demographics', 'Journalism', 'Cryptocurrency', 'Artificial Intelligence'\n",
    "you will output a json object containing the following information:\n",
    "\n",
    "{{\n",
    "    \"id\": string\n",
    "    \"category\": string\n",
    "}}\n",
    "\"\"\"),\n",
    "    (\"human\", \"{input}\")\n",
    "])"
   ]
  },
  {
   "cell_type": "markdown",
   "id": "bfb2e6df",
   "metadata": {},
   "source": [
    "### Build llm chain"
   ]
  },
  {
   "cell_type": "code",
   "execution_count": 38,
   "id": "2e0f64df",
   "metadata": {
    "ExecuteTime": {
     "end_time": "2024-07-11T18:00:24.689882Z",
     "start_time": "2024-07-11T18:00:24.686234Z"
    }
   },
   "outputs": [],
   "source": [
    "chain = prompt | llm"
   ]
  },
  {
   "cell_type": "markdown",
   "id": "ced7bfd9",
   "metadata": {},
   "source": [
    "### sample Inference"
   ]
  },
  {
   "cell_type": "code",
   "execution_count": 43,
   "id": "73096781",
   "metadata": {
    "ExecuteTime": {
     "end_time": "2024-07-11T18:02:34.606771Z",
     "start_time": "2024-07-11T18:02:33.707831Z"
    }
   },
   "outputs": [
    {
     "data": {
      "text/plain": [
       "'{\\n    \"id\": \"12\",\\n    \"category\": \"Politics\"\\n}'"
      ]
     },
     "execution_count": 43,
     "metadata": {},
     "output_type": "execute_result"
    }
   ],
   "source": [
    "content = json.dumps({\"id\": ids[0], \"article\": articles[0]})\n",
    "response = chain.invoke(content)\n",
    "response.content"
   ]
  },
  {
   "cell_type": "code",
   "execution_count": 44,
   "id": "9ae23340",
   "metadata": {
    "ExecuteTime": {
     "end_time": "2024-07-11T18:03:12.508300Z",
     "start_time": "2024-07-11T18:03:11.228503Z"
    }
   },
   "outputs": [
    {
     "data": {
      "text/plain": [
       "[AIMessage(content='{\\n    \"id\": \"12\",\\n    \"category\": \"Politics\"\\n}', response_metadata={'token_usage': {'completion_tokens': 16, 'prompt_tokens': 361, 'total_tokens': 377}, 'model_name': 'gpt-3.5-turbo', 'system_fingerprint': None, 'finish_reason': 'stop', 'logprobs': None}, id='run-d481a8e8-3135-4c07-a896-ed054aefb9de-0'),\n",
       " AIMessage(content='{\\n    \"id\": \"39\",\\n    \"category\": \"Physics\"\\n}', response_metadata={'token_usage': {'completion_tokens': 16, 'prompt_tokens': 320, 'total_tokens': 336}, 'model_name': 'gpt-3.5-turbo', 'system_fingerprint': None, 'finish_reason': 'stop', 'logprobs': None}, id='run-214a446c-9863-4de0-ae66-634796d9d491-0'),\n",
       " AIMessage(content='{\\n    \"id\": \"290\",\\n    \"category\": \"Linguistics\"\\n}', response_metadata={'token_usage': {'completion_tokens': 18, 'prompt_tokens': 408, 'total_tokens': 426}, 'model_name': 'gpt-3.5-turbo', 'system_fingerprint': None, 'finish_reason': 'stop', 'logprobs': None}, id='run-30f1744a-a7ee-4488-9a7d-d97a21d4eef1-0')]"
      ]
     },
     "execution_count": 44,
     "metadata": {},
     "output_type": "execute_result"
    }
   ],
   "source": [
    "batches = []\n",
    "for index in range(3):\n",
    "    batches.append(json.dumps({\"id\": ids[index], \"article\": articles[index]}))\n",
    "chain.batch(batches)"
   ]
  },
  {
   "cell_type": "code",
   "execution_count": 47,
   "id": "18107f21",
   "metadata": {
    "ExecuteTime": {
     "end_time": "2024-07-11T18:03:53.412709Z",
     "start_time": "2024-07-11T18:03:53.408308Z"
    }
   },
   "outputs": [
    {
     "data": {
      "text/plain": [
       "{'id': '12', 'category': 'Politics'}"
      ]
     },
     "execution_count": 47,
     "metadata": {},
     "output_type": "execute_result"
    }
   ],
   "source": [
    "json.loads(response.content)"
   ]
  },
  {
   "cell_type": "markdown",
   "id": "d911528c",
   "metadata": {},
   "source": [
    "### Run inference"
   ]
  },
  {
   "cell_type": "code",
   "execution_count": 36,
   "id": "50e36c3d",
   "metadata": {
    "ExecuteTime": {
     "end_time": "2024-07-09T10:05:42.779698Z",
     "start_time": "2024-07-09T10:04:28.701414Z"
    }
   },
   "outputs": [
    {
     "name": "stderr",
     "output_type": "stream",
     "text": [
      "100%|███████████████████████████████████████████████████████████████████████████████████████████████████████████████████████████████████████████████████████████████████████████| 100/100 [01:14<00:00,  1.35it/s]\n"
     ]
    }
   ],
   "source": [
    "results = []\n",
    "for article in tqdm(articles[:100]):\n",
    "    try:\n",
    "        result = chain.invoke({\"article\": article})\n",
    "        results.append(result)\n",
    "    except Exception as e:\n",
    "        print(\"Exception Occured\", e)\n",
    "        results.append(\"\")"
   ]
  },
  {
   "cell_type": "code",
   "execution_count": 98,
   "id": "a68ee154",
   "metadata": {
    "ExecuteTime": {
     "end_time": "2024-07-11T19:26:58.541387Z",
     "start_time": "2024-07-11T19:26:58.536849Z"
    }
   },
   "outputs": [
    {
     "data": {
      "text/plain": [
       "12.333333333333334"
      ]
     },
     "execution_count": 98,
     "metadata": {},
     "output_type": "execute_result"
    }
   ],
   "source": [
    "740 / 60"
   ]
  },
  {
   "cell_type": "code",
   "execution_count": 97,
   "id": "971b9ac5",
   "metadata": {
    "ExecuteTime": {
     "end_time": "2024-07-11T19:18:25.230312Z",
     "start_time": "2024-07-11T19:13:12.214984Z"
    }
   },
   "outputs": [
    {
     "name": "stderr",
     "output_type": "stream",
     "text": [
      "1000it [05:13,  3.19it/s]\n"
     ]
    }
   ],
   "source": [
    "results = []\n",
    "BATCH_SIZE = 8\n",
    "inputs = []\n",
    "\n",
    "for index, article in tqdm(enumerate(articles[:1000])):\n",
    "    inputs.append(json.dumps({\"id\": ids[index], \"article\": articles[index]}))\n",
    "    \n",
    "    if len(inputs) == BATCH_SIZE:\n",
    "        time.sleep(1.5)\n",
    "        response = chain.batch(inputs)\n",
    "        results += response\n",
    "        inputs = []\n",
    "        \n",
    "if inputs:\n",
    "    response = chain.batch(inputs)\n",
    "    results += response\n",
    "           \n"
   ]
  },
  {
   "cell_type": "markdown",
   "id": "1fd27d49",
   "metadata": {},
   "source": [
    "### Postprocessing"
   ]
  },
  {
   "cell_type": "code",
   "execution_count": 85,
   "id": "14d9389d",
   "metadata": {
    "ExecuteTime": {
     "end_time": "2024-07-11T18:52:16.802248Z",
     "start_time": "2024-07-11T18:52:16.533468Z"
    }
   },
   "outputs": [
    {
     "data": {
      "text/html": [
       "<div>\n",
       "<style scoped>\n",
       "    .dataframe tbody tr th:only-of-type {\n",
       "        vertical-align: middle;\n",
       "    }\n",
       "\n",
       "    .dataframe tbody tr th {\n",
       "        vertical-align: top;\n",
       "    }\n",
       "\n",
       "    .dataframe thead th {\n",
       "        text-align: right;\n",
       "    }\n",
       "</style>\n",
       "<table border=\"1\" class=\"dataframe\">\n",
       "  <thead>\n",
       "    <tr style=\"text-align: right;\">\n",
       "      <th></th>\n",
       "      <th>completion_tokens</th>\n",
       "      <th>prompt_tokens</th>\n",
       "      <th>total_tokens</th>\n",
       "    </tr>\n",
       "  </thead>\n",
       "  <tbody>\n",
       "    <tr>\n",
       "      <th>0</th>\n",
       "      <td>16</td>\n",
       "      <td>361</td>\n",
       "      <td>377</td>\n",
       "    </tr>\n",
       "    <tr>\n",
       "      <th>1</th>\n",
       "      <td>17</td>\n",
       "      <td>320</td>\n",
       "      <td>337</td>\n",
       "    </tr>\n",
       "    <tr>\n",
       "      <th>2</th>\n",
       "      <td>18</td>\n",
       "      <td>408</td>\n",
       "      <td>426</td>\n",
       "    </tr>\n",
       "    <tr>\n",
       "      <th>3</th>\n",
       "      <td>17</td>\n",
       "      <td>328</td>\n",
       "      <td>345</td>\n",
       "    </tr>\n",
       "    <tr>\n",
       "      <th>4</th>\n",
       "      <td>18</td>\n",
       "      <td>379</td>\n",
       "      <td>397</td>\n",
       "    </tr>\n",
       "    <tr>\n",
       "      <th>...</th>\n",
       "      <td>...</td>\n",
       "      <td>...</td>\n",
       "      <td>...</td>\n",
       "    </tr>\n",
       "    <tr>\n",
       "      <th>95</th>\n",
       "      <td>17</td>\n",
       "      <td>354</td>\n",
       "      <td>371</td>\n",
       "    </tr>\n",
       "    <tr>\n",
       "      <th>96</th>\n",
       "      <td>18</td>\n",
       "      <td>363</td>\n",
       "      <td>381</td>\n",
       "    </tr>\n",
       "    <tr>\n",
       "      <th>97</th>\n",
       "      <td>18</td>\n",
       "      <td>465</td>\n",
       "      <td>483</td>\n",
       "    </tr>\n",
       "    <tr>\n",
       "      <th>98</th>\n",
       "      <td>16</td>\n",
       "      <td>296</td>\n",
       "      <td>312</td>\n",
       "    </tr>\n",
       "    <tr>\n",
       "      <th>99</th>\n",
       "      <td>17</td>\n",
       "      <td>394</td>\n",
       "      <td>411</td>\n",
       "    </tr>\n",
       "  </tbody>\n",
       "</table>\n",
       "<p>100 rows × 3 columns</p>\n",
       "</div>"
      ],
      "text/plain": [
       "    completion_tokens  prompt_tokens  total_tokens\n",
       "0                  16            361           377\n",
       "1                  17            320           337\n",
       "2                  18            408           426\n",
       "3                  17            328           345\n",
       "4                  18            379           397\n",
       "..                ...            ...           ...\n",
       "95                 17            354           371\n",
       "96                 18            363           381\n",
       "97                 18            465           483\n",
       "98                 16            296           312\n",
       "99                 17            394           411\n",
       "\n",
       "[100 rows x 3 columns]"
      ]
     },
     "execution_count": 85,
     "metadata": {},
     "output_type": "execute_result"
    }
   ],
   "source": [
    "pd.DataFrame([x.response_metadata[\"token_usage\"] for x in results])"
   ]
  },
  {
   "cell_type": "code",
   "execution_count": 89,
   "id": "6f3ccb97",
   "metadata": {
    "ExecuteTime": {
     "end_time": "2024-07-11T18:54:36.028081Z",
     "start_time": "2024-07-11T18:54:36.023692Z"
    }
   },
   "outputs": [],
   "source": [
    "success = []\n",
    "failure = []\n",
    "\n",
    "for output in results:\n",
    "    content = output.content\n",
    "    try:\n",
    "        content = json.loads(content)\n",
    "        success.append(content)\n",
    "    except ValueError as e:\n",
    "        failure.append(content)"
   ]
  },
  {
   "cell_type": "code",
   "execution_count": 90,
   "id": "6f0f1785",
   "metadata": {
    "ExecuteTime": {
     "end_time": "2024-07-11T18:54:39.069163Z",
     "start_time": "2024-07-11T18:54:38.953086Z"
    }
   },
   "outputs": [
    {
     "data": {
      "text/html": [
       "<div>\n",
       "<style scoped>\n",
       "    .dataframe tbody tr th:only-of-type {\n",
       "        vertical-align: middle;\n",
       "    }\n",
       "\n",
       "    .dataframe tbody tr th {\n",
       "        vertical-align: top;\n",
       "    }\n",
       "\n",
       "    .dataframe thead th {\n",
       "        text-align: right;\n",
       "    }\n",
       "</style>\n",
       "<table border=\"1\" class=\"dataframe\">\n",
       "  <thead>\n",
       "    <tr style=\"text-align: right;\">\n",
       "      <th></th>\n",
       "      <th>id</th>\n",
       "      <th>category</th>\n",
       "    </tr>\n",
       "  </thead>\n",
       "  <tbody>\n",
       "    <tr>\n",
       "      <th>0</th>\n",
       "      <td>12</td>\n",
       "      <td>Politics</td>\n",
       "    </tr>\n",
       "    <tr>\n",
       "      <th>1</th>\n",
       "      <td>39</td>\n",
       "      <td>Environmental Science</td>\n",
       "    </tr>\n",
       "    <tr>\n",
       "      <th>2</th>\n",
       "      <td>290</td>\n",
       "      <td>Linguistics</td>\n",
       "    </tr>\n",
       "    <tr>\n",
       "      <th>3</th>\n",
       "      <td>303</td>\n",
       "      <td>Geography</td>\n",
       "    </tr>\n",
       "    <tr>\n",
       "      <th>4</th>\n",
       "      <td>305</td>\n",
       "      <td>Mythology</td>\n",
       "    </tr>\n",
       "    <tr>\n",
       "      <th>...</th>\n",
       "      <td>...</td>\n",
       "      <td>...</td>\n",
       "    </tr>\n",
       "    <tr>\n",
       "      <th>95</th>\n",
       "      <td>746</td>\n",
       "      <td>Geography</td>\n",
       "    </tr>\n",
       "    <tr>\n",
       "      <th>96</th>\n",
       "      <td>748</td>\n",
       "      <td>Astronomy</td>\n",
       "    </tr>\n",
       "    <tr>\n",
       "      <th>97</th>\n",
       "      <td>751</td>\n",
       "      <td>Martial Arts</td>\n",
       "    </tr>\n",
       "    <tr>\n",
       "      <th>98</th>\n",
       "      <td>752</td>\n",
       "      <td>Art</td>\n",
       "    </tr>\n",
       "    <tr>\n",
       "      <th>99</th>\n",
       "      <td>764</td>\n",
       "      <td>Biology</td>\n",
       "    </tr>\n",
       "  </tbody>\n",
       "</table>\n",
       "<p>100 rows × 2 columns</p>\n",
       "</div>"
      ],
      "text/plain": [
       "     id               category\n",
       "0    12               Politics\n",
       "1    39  Environmental Science\n",
       "2   290            Linguistics\n",
       "3   303              Geography\n",
       "4   305              Mythology\n",
       "..  ...                    ...\n",
       "95  746              Geography\n",
       "96  748              Astronomy\n",
       "97  751           Martial Arts\n",
       "98  752                    Art\n",
       "99  764                Biology\n",
       "\n",
       "[100 rows x 2 columns]"
      ]
     },
     "execution_count": 90,
     "metadata": {},
     "output_type": "execute_result"
    }
   ],
   "source": [
    "pd.DataFrame(success)"
   ]
  },
  {
   "cell_type": "code",
   "execution_count": null,
   "id": "d201b18c",
   "metadata": {},
   "outputs": [],
   "source": []
  }
 ],
 "metadata": {
  "kernelspec": {
   "display_name": "Python 3 (ipykernel)",
   "language": "python",
   "name": "python3"
  },
  "language_info": {
   "codemirror_mode": {
    "name": "ipython",
    "version": 3
   },
   "file_extension": ".py",
   "mimetype": "text/x-python",
   "name": "python",
   "nbconvert_exporter": "python",
   "pygments_lexer": "ipython3",
   "version": "3.11.5"
  }
 },
 "nbformat": 4,
 "nbformat_minor": 5
}
