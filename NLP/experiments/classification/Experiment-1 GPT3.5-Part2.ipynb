{
 "cells": [
  {
   "cell_type": "markdown",
   "id": "44d870ea",
   "metadata": {},
   "source": [
    "### Imports"
   ]
  },
  {
   "cell_type": "code",
   "execution_count": 9,
   "id": "aab2de66",
   "metadata": {
    "ExecuteTime": {
     "end_time": "2024-07-09T09:45:52.859464Z",
     "start_time": "2024-07-09T09:45:52.854154Z"
    }
   },
   "outputs": [],
   "source": [
    "import json\n",
    "import os\n",
    "import getpass\n",
    "import pandas as pd\n",
    "from datasets import Dataset, load_dataset\n",
    "from tqdm import tqdm\n",
    "from langchain_core.prompts import ChatPromptTemplate\n",
    "from langchain_openai import ChatOpenAI"
   ]
  },
  {
   "cell_type": "markdown",
   "id": "0f719319",
   "metadata": {},
   "source": [
    "### Load dataset"
   ]
  },
  {
   "cell_type": "code",
   "execution_count": 2,
   "id": "3bccd46f",
   "metadata": {
    "ExecuteTime": {
     "end_time": "2024-07-09T09:42:26.961138Z",
     "start_time": "2024-07-09T09:41:55.474893Z"
    }
   },
   "outputs": [
    {
     "data": {
      "application/vnd.jupyter.widget-view+json": {
       "model_id": "ca39c8399c3e4ea0b66cc8a5811f7509",
       "version_major": 2,
       "version_minor": 0
      },
      "text/plain": [
       "Resolving data files:   0%|          | 0/41 [00:00<?, ?it/s]"
      ]
     },
     "metadata": {},
     "output_type": "display_data"
    }
   ],
   "source": [
    "dataset = load_dataset(\"wikimedia/wikipedia\", \"20231101.en\")\n",
    "NUM_SAMPLES = 10000\n",
    "articles = dataset[\"train\"][:NUM_SAMPLES][\"text\"]\n",
    "articles = [x.split(\"\\n\")[0] for x in articles]"
   ]
  },
  {
   "cell_type": "code",
   "execution_count": 10,
   "id": "3c1cb64f",
   "metadata": {
    "ExecuteTime": {
     "end_time": "2024-07-09T09:46:03.763472Z",
     "start_time": "2024-07-09T09:46:03.758739Z"
    }
   },
   "outputs": [
    {
     "data": {
      "text/plain": [
       "10000"
      ]
     },
     "execution_count": 10,
     "metadata": {},
     "output_type": "execute_result"
    }
   ],
   "source": [
    "len(articles)"
   ]
  },
  {
   "cell_type": "code",
   "execution_count": 11,
   "id": "77a11b32",
   "metadata": {
    "ExecuteTime": {
     "end_time": "2024-07-09T09:46:05.956149Z",
     "start_time": "2024-07-09T09:46:05.951077Z"
    }
   },
   "outputs": [
    {
     "data": {
      "text/plain": [
       "\"In Greek mythology, Achilles ( ) or Achilleus () was a hero of the Trojan War who was known as being the greatest of all the Greek warriors. A central character in Homer's Iliad, he was the son of the Nereid Thetis and Peleus, king of Phthia and famous Argonaut. Achilles was raised in Phthia along his childhood companion Patroclus and received his education by the centaur Chiron. In the Iliad, he is presented as the commander of the mythical tribe of the Myrmidons. \""
      ]
     },
     "execution_count": 11,
     "metadata": {},
     "output_type": "execute_result"
    }
   ],
   "source": [
    "articles[4]"
   ]
  },
  {
   "cell_type": "markdown",
   "id": "281bebd2",
   "metadata": {},
   "source": [
    "### Initialize OpenAI Environment"
   ]
  },
  {
   "cell_type": "code",
   "execution_count": 12,
   "id": "6a3e07be",
   "metadata": {
    "ExecuteTime": {
     "end_time": "2024-07-09T09:47:39.784520Z",
     "start_time": "2024-07-09T09:47:37.269749Z"
    }
   },
   "outputs": [
    {
     "name": "stdout",
     "output_type": "stream",
     "text": [
      "Enter your OpenAI API key: ········\n"
     ]
    }
   ],
   "source": [
    "os.environ[\"OPENAI_API_KEY\"] = getpass.getpass(\"Enter your OpenAI API key: \")"
   ]
  },
  {
   "cell_type": "code",
   "execution_count": 13,
   "id": "c9680454",
   "metadata": {
    "ExecuteTime": {
     "end_time": "2024-07-09T09:47:52.870388Z",
     "start_time": "2024-07-09T09:47:52.224983Z"
    }
   },
   "outputs": [],
   "source": [
    "llm = ChatOpenAI()"
   ]
  },
  {
   "cell_type": "code",
   "execution_count": 14,
   "id": "c951ca1c",
   "metadata": {
    "ExecuteTime": {
     "end_time": "2024-07-09T09:47:55.139596Z",
     "start_time": "2024-07-09T09:47:55.134978Z"
    }
   },
   "outputs": [
    {
     "data": {
      "text/plain": [
       "'gpt-3.5-turbo'"
      ]
     },
     "execution_count": 14,
     "metadata": {},
     "output_type": "execute_result"
    }
   ],
   "source": [
    "llm.model_name"
   ]
  },
  {
   "cell_type": "markdown",
   "id": "fd61d51a",
   "metadata": {},
   "source": [
    "### Create classification prompt"
   ]
  },
  {
   "cell_type": "code",
   "execution_count": 16,
   "id": "9b94861a",
   "metadata": {
    "ExecuteTime": {
     "end_time": "2024-07-09T09:53:18.501952Z",
     "start_time": "2024-07-09T09:53:18.497975Z"
    }
   },
   "outputs": [],
   "source": [
    "prompt = ChatPromptTemplate.from_messages([\n",
    "    (\"system\", \"\"\"Your task is to assess the article and categorize the article into one of the following predfined categories:\n",
    "'History', 'Geography', 'Science', 'Technology', 'Mathematics', 'Literature', 'Art', 'Music', 'Film', 'Television', 'Sports', 'Politics', 'Philosophy', 'Religion', 'Sociology', 'Psychology', 'Economics', 'Business', 'Medicine', 'Biology', 'Chemistry', 'Physics', 'Astronomy', 'Environmental Science', 'Engineering', 'Computer Science', 'Linguistics', 'Anthropology', 'Archaeology', 'Education', 'Law', 'Military', 'Architecture', 'Fashion', 'Cuisine', 'Travel', 'Mythology', 'Folklore', 'Biography', 'Mythology', 'Social Issues', 'Human Rights', 'Technology Ethics', 'Climate Change', 'Conservation', 'Urban Studies', 'Demographics', 'Journalism', 'Cryptocurrency', 'Artificial Intelligence'\n",
    "you will output a json object containing the following information:\n",
    "\n",
    "{{\n",
    "    \"category\": string // category name based on the article,\n",
    "}}\n",
    "\"\"\"),\n",
    "    (\"human\", \"{article}\")\n",
    "])"
   ]
  },
  {
   "cell_type": "markdown",
   "id": "bfb2e6df",
   "metadata": {},
   "source": [
    "### Build llm chain"
   ]
  },
  {
   "cell_type": "code",
   "execution_count": 27,
   "id": "2e0f64df",
   "metadata": {
    "ExecuteTime": {
     "end_time": "2024-07-09T09:58:34.036751Z",
     "start_time": "2024-07-09T09:58:34.033001Z"
    }
   },
   "outputs": [],
   "source": [
    "chain = prompt | llm"
   ]
  },
  {
   "cell_type": "markdown",
   "id": "ced7bfd9",
   "metadata": {},
   "source": [
    "### sample Inference"
   ]
  },
  {
   "cell_type": "code",
   "execution_count": 28,
   "id": "8f691218",
   "metadata": {
    "ExecuteTime": {
     "end_time": "2024-07-09T09:59:04.413637Z",
     "start_time": "2024-07-09T09:59:04.407335Z"
    }
   },
   "outputs": [
    {
     "data": {
      "text/plain": [
       "'A, or a, is the first letter and the first vowel of the Latin alphabet, used in the modern English alphabet, the alphabets of other western European languages and others worldwide. Its name in English is a (pronounced ), plural aes. It is similar in shape to the Ancient Greek letter Alpha, from which it derives. The uppercase version consists of the two slanting sides of a triangle, crossed in the middle by a horizontal bar. The lowercase version can be written in two forms: the double-storey a and single-storey ɑ. The latter is commonly used in handwriting and fonts based on it, especially fonts intended to be read by children, and is also found in italic type.'"
      ]
     },
     "execution_count": 28,
     "metadata": {},
     "output_type": "execute_result"
    }
   ],
   "source": [
    "articles[2]"
   ]
  },
  {
   "cell_type": "code",
   "execution_count": 30,
   "id": "8216ebc5",
   "metadata": {
    "ExecuteTime": {
     "end_time": "2024-07-09T09:59:53.177826Z",
     "start_time": "2024-07-09T09:59:52.434085Z"
    }
   },
   "outputs": [],
   "source": [
    "response = chain.invoke({\"article\": articles[2]})"
   ]
  },
  {
   "cell_type": "code",
   "execution_count": 33,
   "id": "b2eae91a",
   "metadata": {
    "ExecuteTime": {
     "end_time": "2024-07-09T10:00:10.608710Z",
     "start_time": "2024-07-09T10:00:10.603303Z"
    }
   },
   "outputs": [
    {
     "data": {
      "text/plain": [
       "{'token_usage': {'completion_tokens': 11,\n",
       "  'prompt_tokens': 397,\n",
       "  'total_tokens': 408},\n",
       " 'model_name': 'gpt-3.5-turbo',\n",
       " 'system_fingerprint': None,\n",
       " 'finish_reason': 'stop',\n",
       " 'logprobs': None}"
      ]
     },
     "execution_count": 33,
     "metadata": {},
     "output_type": "execute_result"
    }
   ],
   "source": [
    "response.response_metadata"
   ]
  },
  {
   "cell_type": "markdown",
   "id": "d911528c",
   "metadata": {},
   "source": [
    "### Run inference"
   ]
  },
  {
   "cell_type": "code",
   "execution_count": 36,
   "id": "50e36c3d",
   "metadata": {
    "ExecuteTime": {
     "end_time": "2024-07-09T10:05:42.779698Z",
     "start_time": "2024-07-09T10:04:28.701414Z"
    }
   },
   "outputs": [
    {
     "name": "stderr",
     "output_type": "stream",
     "text": [
      "100%|███████████████████████████████████████████████████████████████████████████████████████████████████████████████████████████████████████████████████████████████████████████| 100/100 [01:14<00:00,  1.35it/s]\n"
     ]
    }
   ],
   "source": [
    "results = []\n",
    "for article in tqdm(articles[:100]):\n",
    "    try:\n",
    "        result = chain.invoke({\"article\": article})\n",
    "        results.append(result)\n",
    "    except Exception as e:\n",
    "        print(\"Exception Occured\", e)\n",
    "        results.append(\"\")"
   ]
  },
  {
   "cell_type": "code",
   "execution_count": 58,
   "id": "fb2d1676",
   "metadata": {
    "ExecuteTime": {
     "end_time": "2024-07-09T10:10:53.189394Z",
     "start_time": "2024-07-09T10:10:53.185016Z"
    }
   },
   "outputs": [
    {
     "data": {
      "text/plain": [
       "(\"In Greek mythology, Achilles ( ) or Achilleus () was a hero of the Trojan War who was known as being the greatest of all the Greek warriors. A central character in Homer's Iliad, he was the son of the Nereid Thetis and Peleus, king of Phthia and famous Argonaut. Achilles was raised in Phthia along his childhood companion Patroclus and received his education by the centaur Chiron. In the Iliad, he is presented as the commander of the mythical tribe of the Myrmidons. \",\n",
       " 'Mythology')"
      ]
     },
     "execution_count": 58,
     "metadata": {},
     "output_type": "execute_result"
    }
   ],
   "source": [
    "articles[4], categories_list[4]"
   ]
  },
  {
   "cell_type": "markdown",
   "id": "55169927",
   "metadata": {},
   "source": [
    "### Postprocess"
   ]
  },
  {
   "cell_type": "code",
   "execution_count": 50,
   "id": "59f49166",
   "metadata": {
    "ExecuteTime": {
     "end_time": "2024-07-09T10:10:07.704871Z",
     "start_time": "2024-07-09T10:10:07.700278Z"
    }
   },
   "outputs": [],
   "source": [
    "categories_list = [json.loads(x.content)[\"category\"] for x in results]"
   ]
  },
  {
   "cell_type": "code",
   "execution_count": 51,
   "id": "9f875182",
   "metadata": {
    "ExecuteTime": {
     "end_time": "2024-07-09T10:10:08.968819Z",
     "start_time": "2024-07-09T10:10:08.653174Z"
    }
   },
   "outputs": [],
   "source": [
    "ids = dataset[\"train\"][:NUM_SAMPLES][\"id\"][:100]"
   ]
  },
  {
   "cell_type": "code",
   "execution_count": 52,
   "id": "946167f2",
   "metadata": {
    "ExecuteTime": {
     "end_time": "2024-07-09T10:10:09.000714Z",
     "start_time": "2024-07-09T10:10:08.995657Z"
    }
   },
   "outputs": [
    {
     "data": {
      "text/plain": [
       "(100, 100)"
      ]
     },
     "execution_count": 52,
     "metadata": {},
     "output_type": "execute_result"
    }
   ],
   "source": [
    "len(ids), len(categories_list)"
   ]
  },
  {
   "cell_type": "code",
   "execution_count": 53,
   "id": "4caea5ac",
   "metadata": {
    "ExecuteTime": {
     "end_time": "2024-07-09T10:10:09.318347Z",
     "start_time": "2024-07-09T10:10:09.304474Z"
    }
   },
   "outputs": [
    {
     "data": {
      "text/html": [
       "<div>\n",
       "<style scoped>\n",
       "    .dataframe tbody tr th:only-of-type {\n",
       "        vertical-align: middle;\n",
       "    }\n",
       "\n",
       "    .dataframe tbody tr th {\n",
       "        vertical-align: top;\n",
       "    }\n",
       "\n",
       "    .dataframe thead th {\n",
       "        text-align: right;\n",
       "    }\n",
       "</style>\n",
       "<table border=\"1\" class=\"dataframe\">\n",
       "  <thead>\n",
       "    <tr style=\"text-align: right;\">\n",
       "      <th></th>\n",
       "      <th>id</th>\n",
       "      <th>category</th>\n",
       "    </tr>\n",
       "  </thead>\n",
       "  <tbody>\n",
       "    <tr>\n",
       "      <th>0</th>\n",
       "      <td>12</td>\n",
       "      <td>Politics</td>\n",
       "    </tr>\n",
       "    <tr>\n",
       "      <th>1</th>\n",
       "      <td>39</td>\n",
       "      <td>Physics</td>\n",
       "    </tr>\n",
       "    <tr>\n",
       "      <th>2</th>\n",
       "      <td>290</td>\n",
       "      <td>Linguistics</td>\n",
       "    </tr>\n",
       "    <tr>\n",
       "      <th>3</th>\n",
       "      <td>303</td>\n",
       "      <td>Geography</td>\n",
       "    </tr>\n",
       "    <tr>\n",
       "      <th>4</th>\n",
       "      <td>305</td>\n",
       "      <td>Mythology</td>\n",
       "    </tr>\n",
       "    <tr>\n",
       "      <th>...</th>\n",
       "      <td>...</td>\n",
       "      <td>...</td>\n",
       "    </tr>\n",
       "    <tr>\n",
       "      <th>95</th>\n",
       "      <td>746</td>\n",
       "      <td>Geography</td>\n",
       "    </tr>\n",
       "    <tr>\n",
       "      <th>96</th>\n",
       "      <td>748</td>\n",
       "      <td>Astronomy</td>\n",
       "    </tr>\n",
       "    <tr>\n",
       "      <th>97</th>\n",
       "      <td>751</td>\n",
       "      <td>Martial Arts</td>\n",
       "    </tr>\n",
       "    <tr>\n",
       "      <th>98</th>\n",
       "      <td>752</td>\n",
       "      <td>Art</td>\n",
       "    </tr>\n",
       "    <tr>\n",
       "      <th>99</th>\n",
       "      <td>764</td>\n",
       "      <td>Biology</td>\n",
       "    </tr>\n",
       "  </tbody>\n",
       "</table>\n",
       "<p>100 rows × 2 columns</p>\n",
       "</div>"
      ],
      "text/plain": [
       "     id      category\n",
       "0    12      Politics\n",
       "1    39       Physics\n",
       "2   290   Linguistics\n",
       "3   303     Geography\n",
       "4   305     Mythology\n",
       "..  ...           ...\n",
       "95  746     Geography\n",
       "96  748     Astronomy\n",
       "97  751  Martial Arts\n",
       "98  752           Art\n",
       "99  764       Biology\n",
       "\n",
       "[100 rows x 2 columns]"
      ]
     },
     "execution_count": 53,
     "metadata": {},
     "output_type": "execute_result"
    }
   ],
   "source": [
    "pd.DataFrame({\n",
    "    \"id\": ids,\n",
    "    \"category\": categories_list\n",
    "})"
   ]
  },
  {
   "cell_type": "markdown",
   "id": "ad02b445",
   "metadata": {},
   "source": [
    "### Cost Estimation"
   ]
  },
  {
   "cell_type": "code",
   "execution_count": 68,
   "id": "e20cd803",
   "metadata": {
    "ExecuteTime": {
     "end_time": "2024-07-09T10:14:41.996065Z",
     "start_time": "2024-07-09T10:14:41.982399Z"
    }
   },
   "outputs": [
    {
     "data": {
      "text/plain": [
       "(100, 3)"
      ]
     },
     "execution_count": 68,
     "metadata": {},
     "output_type": "execute_result"
    }
   ],
   "source": [
    "cost_df = pd.DataFrame([x.response_metadata[\"token_usage\"] for x in results])\n",
    "cost_df.shape"
   ]
  },
  {
   "cell_type": "code",
   "execution_count": 69,
   "id": "d291f2bc",
   "metadata": {
    "ExecuteTime": {
     "end_time": "2024-07-09T10:16:22.640278Z",
     "start_time": "2024-07-09T10:16:22.630558Z"
    }
   },
   "outputs": [
    {
     "data": {
      "text/html": [
       "<div>\n",
       "<style scoped>\n",
       "    .dataframe tbody tr th:only-of-type {\n",
       "        vertical-align: middle;\n",
       "    }\n",
       "\n",
       "    .dataframe tbody tr th {\n",
       "        vertical-align: top;\n",
       "    }\n",
       "\n",
       "    .dataframe thead th {\n",
       "        text-align: right;\n",
       "    }\n",
       "</style>\n",
       "<table border=\"1\" class=\"dataframe\">\n",
       "  <thead>\n",
       "    <tr style=\"text-align: right;\">\n",
       "      <th></th>\n",
       "      <th>completion_tokens</th>\n",
       "      <th>prompt_tokens</th>\n",
       "      <th>total_tokens</th>\n",
       "    </tr>\n",
       "  </thead>\n",
       "  <tbody>\n",
       "    <tr>\n",
       "      <th>0</th>\n",
       "      <td>9</td>\n",
       "      <td>351</td>\n",
       "      <td>360</td>\n",
       "    </tr>\n",
       "    <tr>\n",
       "      <th>1</th>\n",
       "      <td>9</td>\n",
       "      <td>310</td>\n",
       "      <td>319</td>\n",
       "    </tr>\n",
       "    <tr>\n",
       "      <th>2</th>\n",
       "      <td>11</td>\n",
       "      <td>397</td>\n",
       "      <td>408</td>\n",
       "    </tr>\n",
       "    <tr>\n",
       "      <th>3</th>\n",
       "      <td>10</td>\n",
       "      <td>318</td>\n",
       "      <td>328</td>\n",
       "    </tr>\n",
       "    <tr>\n",
       "      <th>4</th>\n",
       "      <td>11</td>\n",
       "      <td>370</td>\n",
       "      <td>381</td>\n",
       "    </tr>\n",
       "    <tr>\n",
       "      <th>...</th>\n",
       "      <td>...</td>\n",
       "      <td>...</td>\n",
       "      <td>...</td>\n",
       "    </tr>\n",
       "    <tr>\n",
       "      <th>95</th>\n",
       "      <td>10</td>\n",
       "      <td>344</td>\n",
       "      <td>354</td>\n",
       "    </tr>\n",
       "    <tr>\n",
       "      <th>96</th>\n",
       "      <td>11</td>\n",
       "      <td>353</td>\n",
       "      <td>364</td>\n",
       "    </tr>\n",
       "    <tr>\n",
       "      <th>97</th>\n",
       "      <td>11</td>\n",
       "      <td>454</td>\n",
       "      <td>465</td>\n",
       "    </tr>\n",
       "    <tr>\n",
       "      <th>98</th>\n",
       "      <td>9</td>\n",
       "      <td>286</td>\n",
       "      <td>295</td>\n",
       "    </tr>\n",
       "    <tr>\n",
       "      <th>99</th>\n",
       "      <td>10</td>\n",
       "      <td>384</td>\n",
       "      <td>394</td>\n",
       "    </tr>\n",
       "  </tbody>\n",
       "</table>\n",
       "<p>100 rows × 3 columns</p>\n",
       "</div>"
      ],
      "text/plain": [
       "    completion_tokens  prompt_tokens  total_tokens\n",
       "0                   9            351           360\n",
       "1                   9            310           319\n",
       "2                  11            397           408\n",
       "3                  10            318           328\n",
       "4                  11            370           381\n",
       "..                ...            ...           ...\n",
       "95                 10            344           354\n",
       "96                 11            353           364\n",
       "97                 11            454           465\n",
       "98                  9            286           295\n",
       "99                 10            384           394\n",
       "\n",
       "[100 rows x 3 columns]"
      ]
     },
     "execution_count": 69,
     "metadata": {},
     "output_type": "execute_result"
    }
   ],
   "source": [
    "cost_df"
   ]
  },
  {
   "cell_type": "code",
   "execution_count": 70,
   "id": "213d93db",
   "metadata": {
    "ExecuteTime": {
     "end_time": "2024-07-09T10:16:52.532387Z",
     "start_time": "2024-07-09T10:16:52.524267Z"
    }
   },
   "outputs": [
    {
     "data": {
      "text/plain": [
       "(35484, 990)"
      ]
     },
     "execution_count": 70,
     "metadata": {},
     "output_type": "execute_result"
    }
   ],
   "source": [
    "input_tokens = cost_df[\"prompt_tokens\"].sum()\n",
    "output_tokens = cost_df[\"completion_tokens\"].sum()\n",
    "\n",
    "input_tokens, output_tokens"
   ]
  },
  {
   "cell_type": "code",
   "execution_count": 73,
   "id": "36fc5f58",
   "metadata": {
    "ExecuteTime": {
     "end_time": "2024-07-09T10:19:13.623747Z",
     "start_time": "2024-07-09T10:19:13.616401Z"
    }
   },
   "outputs": [
    {
     "data": {
      "text/plain": [
       "0.055206000000000005"
      ]
     },
     "execution_count": 73,
     "metadata": {},
     "output_type": "execute_result"
    }
   ],
   "source": [
    "((input_tokens * 1.5 ) / 10 ** 6) + ((output_tokens * 2 ) / 10 ** 6)"
   ]
  },
  {
   "cell_type": "code",
   "execution_count": null,
   "id": "d201b18c",
   "metadata": {},
   "outputs": [],
   "source": []
  }
 ],
 "metadata": {
  "kernelspec": {
   "display_name": "Python 3 (ipykernel)",
   "language": "python",
   "name": "python3"
  },
  "language_info": {
   "codemirror_mode": {
    "name": "ipython",
    "version": 3
   },
   "file_extension": ".py",
   "mimetype": "text/x-python",
   "name": "python",
   "nbconvert_exporter": "python",
   "pygments_lexer": "ipython3",
   "version": "3.11.5"
  }
 },
 "nbformat": 4,
 "nbformat_minor": 5
}
