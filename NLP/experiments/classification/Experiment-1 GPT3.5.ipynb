{
 "cells": [
  {
   "cell_type": "markdown",
   "id": "9c43838f",
   "metadata": {},
   "source": [
    "### Install"
   ]
  },
  {
   "cell_type": "code",
   "execution_count": 5,
   "id": "5a7fd0f8",
   "metadata": {
    "ExecuteTime": {
     "end_time": "2024-06-16T06:23:50.516929Z",
     "start_time": "2024-06-16T06:23:44.052649Z"
    }
   },
   "outputs": [],
   "source": [
    "! pip install -qq datasets==2.16.1 tiktoken langchain langchain_openai==0.0.7 requests==2.28.2 transformers==4.41.2 tqdm"
   ]
  },
  {
   "cell_type": "markdown",
   "id": "44d870ea",
   "metadata": {},
   "source": [
    "### Imports"
   ]
  },
  {
   "cell_type": "code",
   "execution_count": 4,
   "id": "aab2de66",
   "metadata": {
    "ExecuteTime": {
     "end_time": "2024-07-06T18:12:50.159508Z",
     "start_time": "2024-07-06T18:12:50.154259Z"
    }
   },
   "outputs": [],
   "source": [
    "import json\n",
    "import os\n",
    "import getpass\n",
    "import tiktoken\n",
    "import pandas as pd\n",
    "from datasets import Dataset, load_dataset\n",
    "from tqdm import tqdm\n",
    "from langchain.chains import LLMChain\n",
    "from langchain_core.prompts import PromptTemplate\n",
    "from langchain_openai import OpenAI\n",
    "from langchain_core.pydantic_v1 import BaseModel, Field\n",
    "from langchain_core.output_parsers import JsonOutputParser"
   ]
  },
  {
   "cell_type": "markdown",
   "id": "0f719319",
   "metadata": {},
   "source": [
    "### Load dataset"
   ]
  },
  {
   "cell_type": "code",
   "execution_count": 2,
   "id": "3bccd46f",
   "metadata": {
    "ExecuteTime": {
     "end_time": "2024-07-06T18:10:44.775098Z",
     "start_time": "2024-07-06T18:10:13.580609Z"
    }
   },
   "outputs": [
    {
     "data": {
      "application/vnd.jupyter.widget-view+json": {
       "model_id": "39aa7198a2ff48be86efec52ad4436e2",
       "version_major": 2,
       "version_minor": 0
      },
      "text/plain": [
       "Resolving data files:   0%|          | 0/41 [00:00<?, ?it/s]"
      ]
     },
     "metadata": {},
     "output_type": "display_data"
    }
   ],
   "source": [
    "dataset = load_dataset(\"wikimedia/wikipedia\", \"20231101.en\")"
   ]
  },
  {
   "cell_type": "markdown",
   "id": "1b2207c5",
   "metadata": {},
   "source": [
    "### Selecting subset"
   ]
  },
  {
   "cell_type": "code",
   "execution_count": 6,
   "id": "6f67f4f8",
   "metadata": {
    "ExecuteTime": {
     "end_time": "2024-07-06T18:13:04.314113Z",
     "start_time": "2024-07-06T18:13:04.309879Z"
    }
   },
   "outputs": [
    {
     "data": {
      "text/plain": [
       "6407814"
      ]
     },
     "execution_count": 6,
     "metadata": {},
     "output_type": "execute_result"
    }
   ],
   "source": [
    "len(dataset[\"train\"])"
   ]
  },
  {
   "cell_type": "code",
   "execution_count": 68,
   "id": "3c1cb64f",
   "metadata": {
    "ExecuteTime": {
     "end_time": "2024-07-06T18:54:28.698684Z",
     "start_time": "2024-07-06T18:54:28.322904Z"
    }
   },
   "outputs": [],
   "source": [
    "NUM_SAMPLES = 10000\n",
    "articles = dataset[\"train\"][:NUM_SAMPLES][\"text\"]\n",
    "articles = [x.split(\"\\n\")[0] for x in articles]"
   ]
  },
  {
   "cell_type": "markdown",
   "id": "281bebd2",
   "metadata": {},
   "source": [
    "### Initialize OpenAI Environment"
   ]
  },
  {
   "cell_type": "code",
   "execution_count": 8,
   "id": "6a3e07be",
   "metadata": {
    "ExecuteTime": {
     "end_time": "2024-07-06T18:13:52.726411Z",
     "start_time": "2024-07-06T18:13:49.927531Z"
    }
   },
   "outputs": [
    {
     "name": "stdout",
     "output_type": "stream",
     "text": [
      "Enter your OpenAI API key: ········\n"
     ]
    }
   ],
   "source": [
    "os.environ[\"OPENAI_API_KEY\"] = getpass.getpass(\"Enter your OpenAI API key: \")"
   ]
  },
  {
   "cell_type": "code",
   "execution_count": 9,
   "id": "c9680454",
   "metadata": {
    "ExecuteTime": {
     "end_time": "2024-07-06T18:13:56.600865Z",
     "start_time": "2024-07-06T18:13:56.092183Z"
    }
   },
   "outputs": [],
   "source": [
    "llm = OpenAI()"
   ]
  },
  {
   "cell_type": "markdown",
   "id": "020dc60d",
   "metadata": {},
   "source": [
    "### Set the output parser"
   ]
  },
  {
   "cell_type": "code",
   "execution_count": 12,
   "id": "cf7e79c2",
   "metadata": {
    "ExecuteTime": {
     "end_time": "2024-07-06T18:16:44.925964Z",
     "start_time": "2024-07-06T18:16:44.921318Z"
    }
   },
   "outputs": [],
   "source": [
    "class Classification(BaseModel):\n",
    "    category: str = Field(description=\"Category of the article\", default=\"Others\")\n",
    "parser = JsonOutputParser(pydantic_object=Classification)"
   ]
  },
  {
   "cell_type": "markdown",
   "id": "fd61d51a",
   "metadata": {},
   "source": [
    "### Create classification prompt"
   ]
  },
  {
   "cell_type": "code",
   "execution_count": 13,
   "id": "c9acafb4",
   "metadata": {
    "ExecuteTime": {
     "end_time": "2024-07-06T18:16:45.610022Z",
     "start_time": "2024-07-06T18:16:45.606464Z"
    }
   },
   "outputs": [
    {
     "name": "stdout",
     "output_type": "stream",
     "text": [
      "Your task is to assess the article and categorize the article into one of the following predfined categories:\n",
      "'History', 'Geography', 'Science', 'Technology', 'Mathematics', 'Literature', 'Art', 'Music', 'Film', 'Television', 'Sports', 'Politics', 'Philosophy', 'Religion', 'Sociology', 'Psychology', 'Economics', 'Business', 'Medicine', 'Biology', 'Chemistry', 'Physics', 'Astronomy', 'Environmental Science', 'Engineering', 'Computer Science', 'Linguistics', 'Anthropology', 'Archaeology', 'Education', 'Law', 'Military', 'Architecture', 'Fashion', 'Cuisine', 'Travel', 'Mythology', 'Folklore', 'Biography', 'Mythology', 'Social Issues', 'Human Rights', 'Technology Ethics', 'Climate Change', 'Conservation', 'Urban Studies', 'Demographics', 'Journalism', 'Cryptocurrency', 'Artificial Intelligence'\n",
      "you will output a json object containing the following information:\n",
      "\n",
      "{{\n",
      "    \"category\": string // category name based on the article,\n",
      "}}\n",
      "\n",
      "Keep category names simple and use only lower case letters.\n",
      "Articles can have only one category.\n",
      "Article: {article}\n",
      "    \n"
     ]
    }
   ],
   "source": [
    "template = \"\"\"Your task is to assess the article and categorize the article into one of the following predfined categories:\n",
    "'History', 'Geography', 'Science', 'Technology', 'Mathematics', 'Literature', 'Art', 'Music', 'Film', 'Television', 'Sports', 'Politics', 'Philosophy', 'Religion', 'Sociology', 'Psychology', 'Economics', 'Business', 'Medicine', 'Biology', 'Chemistry', 'Physics', 'Astronomy', 'Environmental Science', 'Engineering', 'Computer Science', 'Linguistics', 'Anthropology', 'Archaeology', 'Education', 'Law', 'Military', 'Architecture', 'Fashion', 'Cuisine', 'Travel', 'Mythology', 'Folklore', 'Biography', 'Mythology', 'Social Issues', 'Human Rights', 'Technology Ethics', 'Climate Change', 'Conservation', 'Urban Studies', 'Demographics', 'Journalism', 'Cryptocurrency', 'Artificial Intelligence'\n",
    "you will output a json object containing the following information:\n",
    "\n",
    "{{\n",
    "    \"category\": string // category name based on the article,\n",
    "}}\n",
    "\n",
    "Keep category names simple and use only lower case letters.\n",
    "Articles can have only one category.\n",
    "Article: {article}\n",
    "    \"\"\"\n",
    "\n",
    "print(template)"
   ]
  },
  {
   "cell_type": "code",
   "execution_count": 15,
   "id": "fe7d50ad",
   "metadata": {
    "ExecuteTime": {
     "end_time": "2024-07-06T18:16:48.693126Z",
     "start_time": "2024-07-06T18:16:48.689623Z"
    }
   },
   "outputs": [],
   "source": [
    "prompt = PromptTemplate(\n",
    "    template=template,\n",
    "    input_variables=[\"article\"],\n",
    "    partial_variables={\"format_instructions\": parser.get_format_instructions()},\n",
    ")"
   ]
  },
  {
   "cell_type": "markdown",
   "id": "bfb2e6df",
   "metadata": {},
   "source": [
    "### Build llm chain"
   ]
  },
  {
   "cell_type": "code",
   "execution_count": 16,
   "id": "2e0f64df",
   "metadata": {
    "ExecuteTime": {
     "end_time": "2024-07-06T18:17:17.046319Z",
     "start_time": "2024-07-06T18:17:17.042296Z"
    }
   },
   "outputs": [],
   "source": [
    "chain = prompt | llm | parser"
   ]
  },
  {
   "cell_type": "markdown",
   "id": "64799fb8",
   "metadata": {},
   "source": [
    "### Cost estimation"
   ]
  },
  {
   "cell_type": "code",
   "execution_count": 69,
   "id": "67fee3e1",
   "metadata": {
    "ExecuteTime": {
     "end_time": "2024-07-06T18:54:36.007514Z",
     "start_time": "2024-07-06T18:54:36.000724Z"
    }
   },
   "outputs": [
    {
     "data": {
      "text/plain": [
       "266"
      ]
     },
     "execution_count": 69,
     "metadata": {},
     "output_type": "execute_result"
    }
   ],
   "source": [
    "encoding = tiktoken.encoding_for_model(\"gpt-3.5-turbo\")\n",
    "system_prompt_token_count = len(encoding.encode(template))\n",
    "system_prompt_token_count"
   ]
  },
  {
   "cell_type": "code",
   "execution_count": 70,
   "id": "6348b949",
   "metadata": {
    "ExecuteTime": {
     "end_time": "2024-07-06T18:54:51.231792Z",
     "start_time": "2024-07-06T18:54:51.227279Z"
    }
   },
   "outputs": [
    {
     "data": {
      "text/plain": [
       "2660000"
      ]
     },
     "execution_count": 70,
     "metadata": {},
     "output_type": "execute_result"
    }
   ],
   "source": [
    "system_prompt_token_count *= len(articles)\n",
    "system_prompt_token_count"
   ]
  },
  {
   "cell_type": "code",
   "execution_count": 71,
   "id": "d663d305",
   "metadata": {
    "ExecuteTime": {
     "end_time": "2024-07-06T18:55:10.570366Z",
     "start_time": "2024-07-06T18:55:09.792876Z"
    }
   },
   "outputs": [
    {
     "data": {
      "text/plain": [
       "739532"
      ]
     },
     "execution_count": 71,
     "metadata": {},
     "output_type": "execute_result"
    }
   ],
   "source": [
    "user_prompt_token_count = 0\n",
    "for article in articles:\n",
    "    user_prompt_token_count += len(encoding.encode(article))\n",
    "user_prompt_token_count"
   ]
  },
  {
   "cell_type": "code",
   "execution_count": 72,
   "id": "314a8b85",
   "metadata": {
    "ExecuteTime": {
     "end_time": "2024-07-06T18:55:15.933167Z",
     "start_time": "2024-07-06T18:55:15.927934Z"
    }
   },
   "outputs": [
    {
     "data": {
      "text/plain": [
       "3399532"
      ]
     },
     "execution_count": 72,
     "metadata": {},
     "output_type": "execute_result"
    }
   ],
   "source": [
    "total_tokens = system_prompt_token_count + user_prompt_token_count\n",
    "total_tokens"
   ]
  },
  {
   "cell_type": "code",
   "execution_count": 73,
   "id": "9787c095",
   "metadata": {
    "ExecuteTime": {
     "end_time": "2024-07-06T18:55:19.391594Z",
     "start_time": "2024-07-06T18:55:19.386160Z"
    }
   },
   "outputs": [
    {
     "name": "stdout",
     "output_type": "stream",
     "text": [
      "GPT4o Cost:  16.99766\n",
      "GPT4 Cost:  33.99532\n",
      "GPT3.5 Cost:  5.099298\n"
     ]
    }
   ],
   "source": [
    "GPT4o_COST = 5\n",
    "GPT4_COST = 10\n",
    "GPT3_5_COST = 1.5\n",
    "\n",
    "print(\"GPT4o Cost: \", (total_tokens * GPT4o_COST ) / 1000000)\n",
    "print(\"GPT4 Cost: \", (total_tokens * GPT4_COST ) / 1000000)\n",
    "print(\"GPT3.5 Cost: \", (total_tokens * GPT3_5_COST ) / 1000000)"
   ]
  },
  {
   "cell_type": "markdown",
   "id": "d911528c",
   "metadata": {},
   "source": [
    "### Run inference"
   ]
  },
  {
   "cell_type": "code",
   "execution_count": 23,
   "id": "2ef56baf",
   "metadata": {
    "ExecuteTime": {
     "end_time": "2024-07-06T18:24:13.807147Z",
     "start_time": "2024-07-06T18:23:08.747287Z"
    }
   },
   "outputs": [
    {
     "name": "stderr",
     "output_type": "stream",
     "text": [
      "  1%|█▋                                                                                                                                                                           | 1/100 [00:00<01:23,  1.19it/s]"
     ]
    },
    {
     "name": "stdout",
     "output_type": "stream",
     "text": [
      "{'category': 'politics'}\n"
     ]
    },
    {
     "name": "stderr",
     "output_type": "stream",
     "text": [
      "\r\n",
      "  2%|███▍                                                                                                                                                                         | 2/100 [00:01<01:07,  1.46it/s]"
     ]
    },
    {
     "name": "stdout",
     "output_type": "stream",
     "text": [
      "{'category': 'physics'}\n"
     ]
    },
    {
     "name": "stderr",
     "output_type": "stream",
     "text": [
      "\r\n",
      "  3%|█████▏                                                                                                                                                                       | 3/100 [00:02<01:03,  1.53it/s]"
     ]
    },
    {
     "name": "stdout",
     "output_type": "stream",
     "text": [
      "{'category': 'Linguistics'}\n"
     ]
    },
    {
     "name": "stderr",
     "output_type": "stream",
     "text": [
      "\r\n",
      "  4%|██████▉                                                                                                                                                                      | 4/100 [00:02<01:01,  1.56it/s]"
     ]
    },
    {
     "name": "stdout",
     "output_type": "stream",
     "text": [
      "{'category': 'geography'}\n"
     ]
    },
    {
     "name": "stderr",
     "output_type": "stream",
     "text": [
      "\r\n",
      "  5%|████████▋                                                                                                                                                                    | 5/100 [00:03<00:58,  1.61it/s]"
     ]
    },
    {
     "name": "stdout",
     "output_type": "stream",
     "text": [
      "{'category': 'mythology'}\n"
     ]
    },
    {
     "name": "stderr",
     "output_type": "stream",
     "text": [
      "\r\n",
      "  6%|██████████▍                                                                                                                                                                  | 6/100 [00:03<00:57,  1.65it/s]"
     ]
    },
    {
     "name": "stdout",
     "output_type": "stream",
     "text": [
      "{'category': 'history'}\n"
     ]
    },
    {
     "name": "stderr",
     "output_type": "stream",
     "text": [
      "\r\n",
      "  7%|████████████                                                                                                                                                                 | 7/100 [00:05<01:14,  1.25it/s]"
     ]
    },
    {
     "name": "stdout",
     "output_type": "stream",
     "text": [
      "{'category': 'philosophy'}\n"
     ]
    },
    {
     "name": "stderr",
     "output_type": "stream",
     "text": [
      "\r\n",
      "  8%|█████████████▊                                                                                                                                                               | 8/100 [00:05<01:11,  1.29it/s]"
     ]
    },
    {
     "name": "stdout",
     "output_type": "stream",
     "text": [
      "{'category': 'music'}\n"
     ]
    },
    {
     "name": "stderr",
     "output_type": "stream",
     "text": [
      "\r\n",
      "  9%|███████████████▌                                                                                                                                                             | 9/100 [00:06<01:04,  1.40it/s]"
     ]
    },
    {
     "name": "stdout",
     "output_type": "stream",
     "text": [
      "{'category': 'Film'}\n"
     ]
    },
    {
     "name": "stderr",
     "output_type": "stream",
     "text": [
      "\r\n",
      " 10%|█████████████████▏                                                                                                                                                          | 10/100 [00:06<00:59,  1.52it/s]"
     ]
    },
    {
     "name": "stdout",
     "output_type": "stream",
     "text": [
      "{'category': 'film'}\n"
     ]
    },
    {
     "name": "stderr",
     "output_type": "stream",
     "text": [
      "\r\n",
      " 11%|██████████████████▉                                                                                                                                                         | 11/100 [00:07<00:55,  1.60it/s]"
     ]
    },
    {
     "name": "stdout",
     "output_type": "stream",
     "text": [
      "{'category': 'Film'}\n"
     ]
    },
    {
     "name": "stderr",
     "output_type": "stream",
     "text": [
      "\r\n",
      " 12%|████████████████████▋                                                                                                                                                       | 12/100 [00:08<00:56,  1.55it/s]"
     ]
    },
    {
     "name": "stdout",
     "output_type": "stream",
     "text": [
      "{'category': 'Literature'}\n"
     ]
    },
    {
     "name": "stderr",
     "output_type": "stream",
     "text": [
      "\r\n",
      " 13%|██████████████████████▎                                                                                                                                                     | 13/100 [00:08<00:54,  1.59it/s]"
     ]
    },
    {
     "name": "stdout",
     "output_type": "stream",
     "text": [
      "{'category': 'Physics'}\n"
     ]
    },
    {
     "name": "stderr",
     "output_type": "stream",
     "text": [
      "\r\n",
      " 14%|████████████████████████                                                                                                                                                    | 14/100 [00:09<00:51,  1.65it/s]"
     ]
    },
    {
     "name": "stdout",
     "output_type": "stream",
     "text": [
      "{'category': 'philosophy'}\n"
     ]
    },
    {
     "name": "stderr",
     "output_type": "stream",
     "text": [
      "\r\n",
      " 15%|█████████████████████████▊                                                                                                                                                  | 15/100 [00:09<00:50,  1.69it/s]"
     ]
    },
    {
     "name": "stdout",
     "output_type": "stream",
     "text": [
      "{'category': 'philosophy'}\n"
     ]
    },
    {
     "name": "stderr",
     "output_type": "stream",
     "text": [
      "\r\n",
      " 16%|███████████████████████████▌                                                                                                                                                | 16/100 [00:10<00:48,  1.72it/s]"
     ]
    },
    {
     "name": "stdout",
     "output_type": "stream",
     "text": [
      "{'category': 'mathematics'}\n"
     ]
    },
    {
     "name": "stderr",
     "output_type": "stream",
     "text": [
      "\r\n",
      " 17%|█████████████████████████████▏                                                                                                                                              | 17/100 [00:10<00:47,  1.75it/s]"
     ]
    },
    {
     "name": "stdout",
     "output_type": "stream",
     "text": [
      "{'category': 'film'}\n"
     ]
    },
    {
     "name": "stderr",
     "output_type": "stream",
     "text": [
      "\r\n",
      " 18%|██████████████████████████████▉                                                                                                                                             | 18/100 [00:11<00:46,  1.76it/s]"
     ]
    },
    {
     "name": "stdout",
     "output_type": "stream",
     "text": [
      "{'category': 'Geography'}\n"
     ]
    },
    {
     "name": "stderr",
     "output_type": "stream",
     "text": [
      "\r\n",
      " 19%|████████████████████████████████▋                                                                                                                                           | 19/100 [00:12<01:01,  1.32it/s]"
     ]
    },
    {
     "name": "stdout",
     "output_type": "stream",
     "text": [
      "{'category': 'literature'}\n"
     ]
    },
    {
     "name": "stderr",
     "output_type": "stream",
     "text": [
      "\r\n",
      " 20%|██████████████████████████████████▍                                                                                                                                         | 20/100 [00:13<01:10,  1.13it/s]"
     ]
    },
    {
     "name": "stdout",
     "output_type": "stream",
     "text": [
      "{'category': 'anthropology'}\n"
     ]
    },
    {
     "name": "stderr",
     "output_type": "stream",
     "text": [
      "\r\n",
      " 21%|████████████████████████████████████                                                                                                                                        | 21/100 [00:14<01:10,  1.11it/s]"
     ]
    },
    {
     "name": "stdout",
     "output_type": "stream",
     "text": [
      "{'category': 'science'}\n"
     ]
    },
    {
     "name": "stderr",
     "output_type": "stream",
     "text": [
      "\r\n",
      " 22%|█████████████████████████████████████▊                                                                                                                                      | 22/100 [00:15<01:11,  1.09it/s]"
     ]
    },
    {
     "name": "stdout",
     "output_type": "stream",
     "text": [
      "{'category': 'science'}\n"
     ]
    },
    {
     "name": "stderr",
     "output_type": "stream",
     "text": [
      "\r\n",
      " 23%|███████████████████████████████████████▌                                                                                                                                    | 23/100 [00:16<00:59,  1.30it/s]"
     ]
    },
    {
     "name": "stdout",
     "output_type": "stream",
     "text": [
      "Exception Occured Invalid json output: \n"
     ]
    },
    {
     "name": "stderr",
     "output_type": "stream",
     "text": [
      "\r\n",
      " 24%|█████████████████████████████████████████▎                                                                                                                                  | 24/100 [00:16<00:54,  1.39it/s]"
     ]
    },
    {
     "name": "stdout",
     "output_type": "stream",
     "text": [
      "{'category': 'astronomy'}\n"
     ]
    },
    {
     "name": "stderr",
     "output_type": "stream",
     "text": [
      "\r\n",
      " 25%|███████████████████████████████████████████                                                                                                                                 | 25/100 [00:17<00:50,  1.47it/s]"
     ]
    },
    {
     "name": "stdout",
     "output_type": "stream",
     "text": [
      "{'category': 'computer science'}\n"
     ]
    },
    {
     "name": "stderr",
     "output_type": "stream",
     "text": [
      "\r\n",
      " 26%|████████████████████████████████████████████▋                                                                                                                               | 26/100 [00:17<00:47,  1.56it/s]"
     ]
    },
    {
     "name": "stdout",
     "output_type": "stream",
     "text": [
      "{'category': 'geography'}\n"
     ]
    },
    {
     "name": "stderr",
     "output_type": "stream",
     "text": [
      "\r\n",
      " 27%|██████████████████████████████████████████████▍                                                                                                                             | 27/100 [00:18<00:44,  1.65it/s]"
     ]
    },
    {
     "name": "stdout",
     "output_type": "stream",
     "text": [
      "{'category': 'film'}\n"
     ]
    },
    {
     "name": "stderr",
     "output_type": "stream",
     "text": [
      "\r\n",
      " 28%|████████████████████████████████████████████████▏                                                                                                                           | 28/100 [00:19<00:58,  1.23it/s]"
     ]
    },
    {
     "name": "stdout",
     "output_type": "stream",
     "text": [
      "{'category': 'mythology'}\n"
     ]
    },
    {
     "name": "stderr",
     "output_type": "stream",
     "text": [
      "\r\n",
      " 29%|█████████████████████████████████████████████████▉                                                                                                                          | 29/100 [00:20<01:00,  1.17it/s]"
     ]
    },
    {
     "name": "stdout",
     "output_type": "stream",
     "text": [
      "{'category': 'sports'}\n"
     ]
    },
    {
     "name": "stderr",
     "output_type": "stream",
     "text": [
      "\r\n",
      " 30%|███████████████████████████████████████████████████▌                                                                                                                        | 30/100 [00:21<00:53,  1.30it/s]"
     ]
    },
    {
     "name": "stdout",
     "output_type": "stream",
     "text": [
      "{'category': 'Linguistics'}\n"
     ]
    },
    {
     "name": "stderr",
     "output_type": "stream",
     "text": [
      "\r\n",
      " 31%|█████████████████████████████████████████████████████▎                                                                                                                      | 31/100 [00:21<00:49,  1.39it/s]"
     ]
    },
    {
     "name": "stdout",
     "output_type": "stream",
     "text": [
      "{'category': 'Linguistics'}\n"
     ]
    },
    {
     "name": "stderr",
     "output_type": "stream",
     "text": [
      "\r\n",
      " 32%|███████████████████████████████████████████████████████                                                                                                                     | 32/100 [00:22<00:46,  1.48it/s]"
     ]
    },
    {
     "name": "stdout",
     "output_type": "stream",
     "text": [
      "{'category': 'geography'}\n"
     ]
    },
    {
     "name": "stderr",
     "output_type": "stream",
     "text": [
      "\r\n",
      " 33%|████████████████████████████████████████████████████████▊                                                                                                                   | 33/100 [00:22<00:42,  1.57it/s]"
     ]
    },
    {
     "name": "stdout",
     "output_type": "stream",
     "text": [
      "{'category': 'mathematics'}\n"
     ]
    },
    {
     "name": "stderr",
     "output_type": "stream",
     "text": [
      "\r\n",
      " 34%|██████████████████████████████████████████████████████████▍                                                                                                                 | 34/100 [00:23<00:39,  1.65it/s]"
     ]
    },
    {
     "name": "stdout",
     "output_type": "stream",
     "text": [
      "{'category': 'Sports'}\n"
     ]
    },
    {
     "name": "stderr",
     "output_type": "stream",
     "text": [
      "\r\n",
      " 35%|████████████████████████████████████████████████████████████▏                                                                                                               | 35/100 [00:24<00:38,  1.68it/s]"
     ]
    },
    {
     "name": "stdout",
     "output_type": "stream",
     "text": [
      "{'category': 'literature'}\n"
     ]
    },
    {
     "name": "stderr",
     "output_type": "stream",
     "text": [
      "\r\n",
      " 36%|█████████████████████████████████████████████████████████████▉                                                                                                              | 36/100 [00:24<00:36,  1.75it/s]"
     ]
    },
    {
     "name": "stdout",
     "output_type": "stream",
     "text": [
      "Exception Occured Invalid json output: category: biology\n"
     ]
    },
    {
     "name": "stderr",
     "output_type": "stream",
     "text": [
      "\r\n",
      " 37%|███████████████████████████████████████████████████████████████▋                                                                                                            | 37/100 [00:25<00:45,  1.40it/s]"
     ]
    },
    {
     "name": "stdout",
     "output_type": "stream",
     "text": [
      "{'category': 'geography'}\n"
     ]
    },
    {
     "name": "stderr",
     "output_type": "stream",
     "text": [
      "\r\n",
      " 38%|█████████████████████████████████████████████████████████████████▎                                                                                                          | 38/100 [00:26<00:41,  1.50it/s]"
     ]
    },
    {
     "name": "stdout",
     "output_type": "stream",
     "text": [
      "{'category': 'agriculture'}\n"
     ]
    },
    {
     "name": "stderr",
     "output_type": "stream",
     "text": [
      "\r\n",
      " 39%|███████████████████████████████████████████████████████████████████                                                                                                         | 39/100 [00:26<00:38,  1.58it/s]"
     ]
    },
    {
     "name": "stdout",
     "output_type": "stream",
     "text": [
      "{'category': 'literature'}\n"
     ]
    },
    {
     "name": "stderr",
     "output_type": "stream",
     "text": [
      "\r\n",
      " 40%|████████████████████████████████████████████████████████████████████▊                                                                                                       | 40/100 [00:27<00:43,  1.38it/s]"
     ]
    },
    {
     "name": "stdout",
     "output_type": "stream",
     "text": [
      "{'category': 'Biography'}\n"
     ]
    },
    {
     "name": "stderr",
     "output_type": "stream",
     "text": [
      "\r\n",
      " 41%|██████████████████████████████████████████████████████████████████████▌                                                                                                     | 41/100 [00:28<00:39,  1.49it/s]"
     ]
    },
    {
     "name": "stdout",
     "output_type": "stream",
     "text": [
      "{'category': 'geography'}\n"
     ]
    },
    {
     "name": "stderr",
     "output_type": "stream",
     "text": [
      "\r\n",
      " 42%|████████████████████████████████████████████████████████████████████████▏                                                                                                   | 42/100 [00:28<00:38,  1.49it/s]"
     ]
    },
    {
     "name": "stdout",
     "output_type": "stream",
     "text": [
      "{'category': 'Biology'}\n"
     ]
    },
    {
     "name": "stderr",
     "output_type": "stream",
     "text": [
      "\r\n",
      " 43%|█████████████████████████████████████████████████████████████████████████▉                                                                                                  | 43/100 [00:29<00:37,  1.53it/s]"
     ]
    },
    {
     "name": "stdout",
     "output_type": "stream",
     "text": [
      "{'category': 'mathematics'}\n"
     ]
    },
    {
     "name": "stderr",
     "output_type": "stream",
     "text": [
      "\r\n",
      " 44%|███████████████████████████████████████████████████████████████████████████▋                                                                                                | 44/100 [00:30<00:35,  1.59it/s]"
     ]
    },
    {
     "name": "stdout",
     "output_type": "stream",
     "text": [
      "{'category': 'Chemistry'}\n"
     ]
    },
    {
     "name": "stderr",
     "output_type": "stream",
     "text": [
      "\r\n",
      " 45%|█████████████████████████████████████████████████████████████████████████████▍                                                                                              | 45/100 [00:30<00:33,  1.65it/s]"
     ]
    },
    {
     "name": "stdout",
     "output_type": "stream",
     "text": [
      "{'category': 'law'}\n"
     ]
    },
    {
     "name": "stderr",
     "output_type": "stream",
     "text": [
      "\r\n",
      " 46%|███████████████████████████████████████████████████████████████████████████████                                                                                             | 46/100 [00:31<00:31,  1.69it/s]"
     ]
    },
    {
     "name": "stdout",
     "output_type": "stream",
     "text": [
      "{'category': 'law'}\n"
     ]
    },
    {
     "name": "stderr",
     "output_type": "stream",
     "text": [
      "\r\n",
      " 47%|████████████████████████████████████████████████████████████████████████████████▊                                                                                           | 47/100 [00:31<00:30,  1.74it/s]"
     ]
    },
    {
     "name": "stdout",
     "output_type": "stream",
     "text": [
      "{'category': 'Law'}\n"
     ]
    },
    {
     "name": "stderr",
     "output_type": "stream",
     "text": [
      "\r\n",
      " 48%|██████████████████████████████████████████████████████████████████████████████████▌                                                                                         | 48/100 [00:32<00:28,  1.80it/s]"
     ]
    },
    {
     "name": "stdout",
     "output_type": "stream",
     "text": [
      "{'category': 'Law'}\n"
     ]
    },
    {
     "name": "stderr",
     "output_type": "stream",
     "text": [
      "\r\n",
      " 49%|████████████████████████████████████████████████████████████████████████████████████▎                                                                                       | 49/100 [00:32<00:27,  1.83it/s]"
     ]
    },
    {
     "name": "stdout",
     "output_type": "stream",
     "text": [
      "{'category': 'music'}\n"
     ]
    },
    {
     "name": "stderr",
     "output_type": "stream",
     "text": [
      "\r\n",
      " 50%|██████████████████████████████████████████████████████████████████████████████████████                                                                                      | 50/100 [00:33<00:27,  1.80it/s]"
     ]
    },
    {
     "name": "stdout",
     "output_type": "stream",
     "text": [
      "{'category': 'Assistive Technology'}\n"
     ]
    },
    {
     "name": "stderr",
     "output_type": "stream",
     "text": [
      "\r\n",
      " 51%|███████████████████████████████████████████████████████████████████████████████████████▋                                                                                    | 51/100 [00:34<00:37,  1.32it/s]"
     ]
    },
    {
     "name": "stdout",
     "output_type": "stream",
     "text": [
      "{'category': 'mathematics'}\n"
     ]
    },
    {
     "name": "stderr",
     "output_type": "stream",
     "text": [
      "\r\n",
      " 52%|█████████████████████████████████████████████████████████████████████████████████████████▍                                                                                  | 52/100 [00:35<00:33,  1.45it/s]"
     ]
    },
    {
     "name": "stdout",
     "output_type": "stream",
     "text": [
      "{'category': 'chemistry'}\n"
     ]
    },
    {
     "name": "stderr",
     "output_type": "stream",
     "text": [
      "\r\n",
      " 53%|███████████████████████████████████████████████████████████████████████████████████████████▏                                                                                | 53/100 [00:35<00:30,  1.54it/s]"
     ]
    },
    {
     "name": "stdout",
     "output_type": "stream",
     "text": [
      "{'category': 'Chemistry'}\n"
     ]
    },
    {
     "name": "stderr",
     "output_type": "stream",
     "text": [
      "\r\n",
      " 54%|████████████████████████████████████████████████████████████████████████████████████████████▉                                                                               | 54/100 [00:36<00:37,  1.21it/s]"
     ]
    },
    {
     "name": "stdout",
     "output_type": "stream",
     "text": [
      "{'category': 'technology'}\n"
     ]
    },
    {
     "name": "stderr",
     "output_type": "stream",
     "text": [
      "\r\n",
      " 55%|██████████████████████████████████████████████████████████████████████████████████████████████▌                                                                             | 55/100 [00:37<00:33,  1.34it/s]"
     ]
    },
    {
     "name": "stdout",
     "output_type": "stream",
     "text": [
      "{'category': 'philosophy'}\n"
     ]
    },
    {
     "name": "stderr",
     "output_type": "stream",
     "text": [
      "\r\n",
      " 56%|████████████████████████████████████████████████████████████████████████████████████████████████▎                                                                           | 56/100 [00:38<00:31,  1.40it/s]"
     ]
    },
    {
     "name": "stdout",
     "output_type": "stream",
     "text": [
      "{'category': 'Astronomy'}\n"
     ]
    },
    {
     "name": "stderr",
     "output_type": "stream",
     "text": [
      "\r\n",
      " 57%|██████████████████████████████████████████████████████████████████████████████████████████████████                                                                          | 57/100 [00:38<00:28,  1.51it/s]"
     ]
    },
    {
     "name": "stdout",
     "output_type": "stream",
     "text": [
      "{'category': 'space exploration'}\n"
     ]
    },
    {
     "name": "stderr",
     "output_type": "stream",
     "text": [
      "\r\n",
      " 58%|███████████████████████████████████████████████████████████████████████████████████████████████████▊                                                                        | 58/100 [00:39<00:26,  1.59it/s]"
     ]
    },
    {
     "name": "stdout",
     "output_type": "stream",
     "text": [
      "{'category': 'astronomy'}\n"
     ]
    },
    {
     "name": "stderr",
     "output_type": "stream",
     "text": [
      "\r\n",
      " 59%|█████████████████████████████████████████████████████████████████████████████████████████████████████▍                                                                      | 59/100 [00:39<00:25,  1.61it/s]"
     ]
    },
    {
     "name": "stdout",
     "output_type": "stream",
     "text": [
      "{'category': 'literature'}\n"
     ]
    },
    {
     "name": "stderr",
     "output_type": "stream",
     "text": [
      "\r\n",
      " 60%|███████████████████████████████████████████████████████████████████████████████████████████████████████▏                                                                    | 60/100 [00:40<00:28,  1.38it/s]"
     ]
    },
    {
     "name": "stdout",
     "output_type": "stream",
     "text": [
      "{'category': 'chemistry'}\n"
     ]
    },
    {
     "name": "stderr",
     "output_type": "stream",
     "text": [
      "\r\n",
      " 61%|████████████████████████████████████████████████████████████████████████████████████████████████████████▉                                                                   | 61/100 [00:41<00:25,  1.53it/s]"
     ]
    },
    {
     "name": "stdout",
     "output_type": "stream",
     "text": [
      "Exception Occured Invalid json output: Category: Linguistics\n"
     ]
    },
    {
     "name": "stderr",
     "output_type": "stream",
     "text": [
      "\r\n",
      " 62%|██████████████████████████████████████████████████████████████████████████████████████████████████████████▋                                                                 | 62/100 [00:41<00:23,  1.59it/s]"
     ]
    },
    {
     "name": "stdout",
     "output_type": "stream",
     "text": [
      "{'category': 'chemistry'}\n"
     ]
    },
    {
     "name": "stderr",
     "output_type": "stream",
     "text": [
      "\r\n",
      " 63%|████████████████████████████████████████████████████████████████████████████████████████████████████████████▎                                                               | 63/100 [00:42<00:22,  1.62it/s]"
     ]
    },
    {
     "name": "stdout",
     "output_type": "stream",
     "text": [
      "{'category': 'Biology'}\n"
     ]
    },
    {
     "name": "stderr",
     "output_type": "stream",
     "text": [
      "\r\n",
      " 64%|██████████████████████████████████████████████████████████████████████████████████████████████████████████████                                                              | 64/100 [00:42<00:21,  1.65it/s]"
     ]
    },
    {
     "name": "stdout",
     "output_type": "stream",
     "text": [
      "{'category': 'Philosophy'}\n"
     ]
    },
    {
     "name": "stderr",
     "output_type": "stream",
     "text": [
      "\r\n",
      " 65%|███████████████████████████████████████████████████████████████████████████████████████████████████████████████▊                                                            | 65/100 [00:43<00:20,  1.72it/s]"
     ]
    },
    {
     "name": "stdout",
     "output_type": "stream",
     "text": [
      "{'category': 'film'}\n"
     ]
    },
    {
     "name": "stderr",
     "output_type": "stream",
     "text": [
      "\r\n",
      " 66%|█████████████████████████████████████████████████████████████████████████████████████████████████████████████████▌                                                          | 66/100 [00:44<00:19,  1.75it/s]"
     ]
    },
    {
     "name": "stdout",
     "output_type": "stream",
     "text": [
      "{'category': 'linguistics'}\n"
     ]
    },
    {
     "name": "stderr",
     "output_type": "stream",
     "text": [
      "\r\n",
      " 67%|███████████████████████████████████████████████████████████████████████████████████████████████████████████████████▏                                                        | 67/100 [00:44<00:18,  1.75it/s]"
     ]
    },
    {
     "name": "stdout",
     "output_type": "stream",
     "text": [
      "{'category': 'religion'}\n"
     ]
    },
    {
     "name": "stderr",
     "output_type": "stream",
     "text": [
      "\r\n",
      " 68%|████████████████████████████████████████████████████████████████████████████████████████████████████████████████████▉                                                       | 68/100 [00:45<00:18,  1.75it/s]"
     ]
    },
    {
     "name": "stdout",
     "output_type": "stream",
     "text": [
      "{'category': 'biology'}\n"
     ]
    },
    {
     "name": "stderr",
     "output_type": "stream",
     "text": [
      "\r\n",
      " 69%|██████████████████████████████████████████████████████████████████████████████████████████████████████████████████████▋                                                     | 69/100 [00:46<00:21,  1.45it/s]"
     ]
    },
    {
     "name": "stdout",
     "output_type": "stream",
     "text": [
      "{'category': 'biology'}\n"
     ]
    },
    {
     "name": "stderr",
     "output_type": "stream",
     "text": [
      "\r\n",
      " 70%|████████████████████████████████████████████████████████████████████████████████████████████████████████████████████████▍                                                   | 70/100 [00:47<00:23,  1.30it/s]"
     ]
    },
    {
     "name": "stdout",
     "output_type": "stream",
     "text": [
      "{'category': 'biology'}\n"
     ]
    },
    {
     "name": "stderr",
     "output_type": "stream",
     "text": [
      "\r\n",
      " 71%|██████████████████████████████████████████████████████████████████████████████████████████████████████████████████████████                                                  | 71/100 [00:47<00:20,  1.44it/s]"
     ]
    },
    {
     "name": "stdout",
     "output_type": "stream",
     "text": [
      "{'category': 'architecture'}\n"
     ]
    },
    {
     "name": "stderr",
     "output_type": "stream",
     "text": [
      "\r\n",
      " 72%|███████████████████████████████████████████████████████████████████████████████████████████████████████████████████████████▊                                                | 72/100 [00:48<00:18,  1.54it/s]"
     ]
    },
    {
     "name": "stdout",
     "output_type": "stream",
     "text": [
      "{'category': 'Sports'}\n"
     ]
    },
    {
     "name": "stderr",
     "output_type": "stream",
     "text": [
      "\r\n",
      " 73%|█████████████████████████████████████████████████████████████████████████████████████████████████████████████████████████████▌                                              | 73/100 [00:48<00:16,  1.60it/s]"
     ]
    },
    {
     "name": "stdout",
     "output_type": "stream",
     "text": [
      "{'category': 'geography'}\n"
     ]
    },
    {
     "name": "stderr",
     "output_type": "stream",
     "text": [
      "\r\n",
      " 74%|███████████████████████████████████████████████████████████████████████████████████████████████████████████████████████████████▎                                            | 74/100 [00:49<00:15,  1.66it/s]"
     ]
    },
    {
     "name": "stdout",
     "output_type": "stream",
     "text": [
      "{'category': 'Geography'}\n"
     ]
    },
    {
     "name": "stderr",
     "output_type": "stream",
     "text": [
      "\r\n",
      " 75%|█████████████████████████████████████████████████████████████████████████████████████████████████████████████████████████████████                                           | 75/100 [00:49<00:14,  1.71it/s]"
     ]
    },
    {
     "name": "stdout",
     "output_type": "stream",
     "text": [
      "{'category': 'History'}\n"
     ]
    },
    {
     "name": "stderr",
     "output_type": "stream",
     "text": [
      "\r\n",
      " 76%|██████████████████████████████████████████████████████████████████████████████████████████████████████████████████████████████████▋                                         | 76/100 [00:50<00:13,  1.74it/s]"
     ]
    },
    {
     "name": "stdout",
     "output_type": "stream",
     "text": [
      "{'category': 'geography'}\n"
     ]
    },
    {
     "name": "stderr",
     "output_type": "stream",
     "text": [
      "\r\n",
      " 77%|████████████████████████████████████████████████████████████████████████████████████████████████████████████████████████████████████▍                                       | 77/100 [00:50<00:12,  1.79it/s]"
     ]
    },
    {
     "name": "stdout",
     "output_type": "stream",
     "text": [
      "{'category': 'Geography'}\n"
     ]
    },
    {
     "name": "stderr",
     "output_type": "stream",
     "text": [
      "\r\n",
      " 78%|██████████████████████████████████████████████████████████████████████████████████████████████████████████████████████████████████████▏                                     | 78/100 [00:51<00:12,  1.76it/s]"
     ]
    },
    {
     "name": "stdout",
     "output_type": "stream",
     "text": [
      "{'category': 'philosophy'}\n"
     ]
    },
    {
     "name": "stderr",
     "output_type": "stream",
     "text": [
      "\r\n",
      " 79%|███████████████████████████████████████████████████████████████████████████████████████████████████████████████████████████████████████▉                                    | 79/100 [00:52<00:11,  1.79it/s]"
     ]
    },
    {
     "name": "stdout",
     "output_type": "stream",
     "text": [
      "{'category': 'Geography'}\n"
     ]
    },
    {
     "name": "stderr",
     "output_type": "stream",
     "text": [
      "\r\n",
      " 80%|█████████████████████████████████████████████████████████████████████████████████████████████████████████████████████████████████████████▌                                  | 80/100 [00:52<00:11,  1.78it/s]"
     ]
    },
    {
     "name": "stdout",
     "output_type": "stream",
     "text": [
      "{'category': 'demographics'}\n"
     ]
    },
    {
     "name": "stderr",
     "output_type": "stream",
     "text": [
      "\r\n",
      " 81%|███████████████████████████████████████████████████████████████████████████████████████████████████████████████████████████████████████████▎                                | 81/100 [00:53<00:10,  1.78it/s]"
     ]
    },
    {
     "name": "stdout",
     "output_type": "stream",
     "text": [
      "{'category': 'Politics'}\n"
     ]
    },
    {
     "name": "stderr",
     "output_type": "stream",
     "text": [
      "\r\n",
      " 82%|█████████████████████████████████████████████████████████████████████████████████████████████████████████████████████████████████████████████                               | 82/100 [00:54<00:12,  1.45it/s]"
     ]
    },
    {
     "name": "stdout",
     "output_type": "stream",
     "text": [
      "{'category': 'Economics'}\n"
     ]
    },
    {
     "name": "stderr",
     "output_type": "stream",
     "text": [
      "\r\n",
      " 83%|██████████████████████████████████████████████████████████████████████████████████████████████████████████████████████████████████████████████▊                             | 83/100 [00:54<00:11,  1.48it/s]"
     ]
    },
    {
     "name": "stdout",
     "output_type": "stream",
     "text": [
      "{'category': 'technology'}\n"
     ]
    },
    {
     "name": "stderr",
     "output_type": "stream",
     "text": [
      "\r\n",
      " 84%|████████████████████████████████████████████████████████████████████████████████████████████████████████████████████████████████████████████████▍                           | 84/100 [00:55<00:10,  1.57it/s]"
     ]
    },
    {
     "name": "stdout",
     "output_type": "stream",
     "text": [
      "{'category': 'military'}\n"
     ]
    },
    {
     "name": "stderr",
     "output_type": "stream",
     "text": [
      "\r\n",
      " 85%|██████████████████████████████████████████████████████████████████████████████████████████████████████████████████████████████████████████████████▏                         | 85/100 [00:55<00:09,  1.64it/s]"
     ]
    },
    {
     "name": "stdout",
     "output_type": "stream",
     "text": [
      "{'category': 'Politics'}\n"
     ]
    },
    {
     "name": "stderr",
     "output_type": "stream",
     "text": [
      "\r\n",
      " 86%|███████████████████████████████████████████████████████████████████████████████████████████████████████████████████████████████████████████████████▉                        | 86/100 [00:56<00:08,  1.67it/s]"
     ]
    },
    {
     "name": "stdout",
     "output_type": "stream",
     "text": [
      "{'category': 'Military'}\n"
     ]
    },
    {
     "name": "stderr",
     "output_type": "stream",
     "text": [
      "\r\n",
      " 87%|█████████████████████████████████████████████████████████████████████████████████████████████████████████████████████████████████████████████████████▋                      | 87/100 [00:57<00:07,  1.71it/s]"
     ]
    },
    {
     "name": "stdout",
     "output_type": "stream",
     "text": [
      "{'category': 'technology'}\n"
     ]
    },
    {
     "name": "stderr",
     "output_type": "stream",
     "text": [
      "\r\n",
      " 88%|███████████████████████████████████████████████████████████████████████████████████████████████████████████████████████████████████████████████████████▎                    | 88/100 [00:57<00:06,  1.72it/s]"
     ]
    },
    {
     "name": "stdout",
     "output_type": "stream",
     "text": [
      "{'category': 'geography'}\n"
     ]
    },
    {
     "name": "stderr",
     "output_type": "stream",
     "text": [
      "\r\n",
      " 89%|█████████████████████████████████████████████████████████████████████████████████████████████████████████████████████████████████████████████████████████                   | 89/100 [00:58<00:06,  1.74it/s]"
     ]
    },
    {
     "name": "stdout",
     "output_type": "stream",
     "text": [
      "{'category': 'Politics'}\n"
     ]
    },
    {
     "name": "stderr",
     "output_type": "stream",
     "text": [
      "\r\n",
      " 90%|██████████████████████████████████████████████████████████████████████████████████████████████████████████████████████████████████████████████████████████▊                 | 90/100 [00:58<00:05,  1.74it/s]"
     ]
    },
    {
     "name": "stdout",
     "output_type": "stream",
     "text": [
      "{'category': 'Biology'}\n"
     ]
    },
    {
     "name": "stderr",
     "output_type": "stream",
     "text": [
      "\r\n",
      " 91%|████████████████████████████████████████████████████████████████████████████████████████████████████████████████████████████████████████████████████████████▌               | 91/100 [00:59<00:05,  1.78it/s]"
     ]
    },
    {
     "name": "stdout",
     "output_type": "stream",
     "text": [
      "category\n",
      "Exception Occured string indices must be integers, not 'str'\n"
     ]
    },
    {
     "name": "stderr",
     "output_type": "stream",
     "text": [
      "\r\n",
      " 92%|██████████████████████████████████████████████████████████████████████████████████████████████████████████████████████████████████████████████████████████████▏             | 92/100 [00:59<00:04,  1.86it/s]"
     ]
    },
    {
     "name": "stdout",
     "output_type": "stream",
     "text": [
      "Exception Occured Invalid json output: Geography\n"
     ]
    },
    {
     "name": "stderr",
     "output_type": "stream",
     "text": [
      "\r\n",
      " 93%|███████████████████████████████████████████████████████████████████████████████████████████████████████████████████████████████████████████████████████████████▉            | 93/100 [01:00<00:03,  1.82it/s]"
     ]
    },
    {
     "name": "stdout",
     "output_type": "stream",
     "text": [
      "category\n",
      "Exception Occured string indices must be integers, not 'str'\n"
     ]
    },
    {
     "name": "stderr",
     "output_type": "stream",
     "text": [
      "\r\n",
      " 94%|█████████████████████████████████████████████████████████████████████████████████████████████████████████████████████████████████████████████████████████████████▋          | 94/100 [01:00<00:03,  1.78it/s]"
     ]
    },
    {
     "name": "stdout",
     "output_type": "stream",
     "text": [
      "{'category': 'religion'}\n"
     ]
    },
    {
     "name": "stderr",
     "output_type": "stream",
     "text": [
      "\r\n",
      " 95%|███████████████████████████████████████████████████████████████████████████████████████████████████████████████████████████████████████████████████████████████████▍        | 95/100 [01:01<00:02,  1.75it/s]"
     ]
    },
    {
     "name": "stdout",
     "output_type": "stream",
     "text": [
      "{'category': 'mathematics'}\n"
     ]
    },
    {
     "name": "stderr",
     "output_type": "stream",
     "text": [
      "\r\n",
      " 96%|█████████████████████████████████████████████████████████████████████████████████████████████████████████████████████████████████████████████████████████████████████       | 96/100 [01:02<00:02,  1.74it/s]"
     ]
    },
    {
     "name": "stdout",
     "output_type": "stream",
     "text": [
      "{'category': 'geography'}\n"
     ]
    },
    {
     "name": "stderr",
     "output_type": "stream",
     "text": [
      "\r\n",
      " 97%|██████████████████████████████████████████████████████████████████████████████████████████████████████████████████████████████████████████████████████████████████████▊     | 97/100 [01:02<00:01,  1.75it/s]"
     ]
    },
    {
     "name": "stdout",
     "output_type": "stream",
     "text": [
      "{'category': 'astronomy'}\n"
     ]
    },
    {
     "name": "stderr",
     "output_type": "stream",
     "text": [
      "\r\n",
      " 98%|████████████████████████████████████████████████████████████████████████████████████████████████████████████████████████████████████████████████████████████████████████▌   | 98/100 [01:03<00:01,  1.30it/s]"
     ]
    },
    {
     "name": "stdout",
     "output_type": "stream",
     "text": [
      "{'category': 'Sports'}\n"
     ]
    },
    {
     "name": "stderr",
     "output_type": "stream",
     "text": [
      "\r\n",
      " 99%|██████████████████████████████████████████████████████████████████████████████████████████████████████████████████████████████████████████████████████████████████████████▎ | 99/100 [01:04<00:00,  1.42it/s]"
     ]
    },
    {
     "name": "stdout",
     "output_type": "stream",
     "text": [
      "{'category': 'art'}\n"
     ]
    },
    {
     "name": "stderr",
     "output_type": "stream",
     "text": [
      "100%|███████████████████████████████████████████████████████████████████████████████████████████████████████████████████████████████████████████████████████████████████████████| 100/100 [01:04<00:00,  1.54it/s]"
     ]
    },
    {
     "name": "stdout",
     "output_type": "stream",
     "text": [
      "{'category': 'Biology'}\n"
     ]
    },
    {
     "name": "stderr",
     "output_type": "stream",
     "text": [
      "\n"
     ]
    }
   ],
   "source": [
    "results = []\n",
    "for article in tqdm(articles):\n",
    "    try:\n",
    "        result = chain.invoke({\"article\": article})\n",
    "        print(result)\n",
    "        if \"Category\" in result:\n",
    "            results.append(result[\"Category\"])\n",
    "        elif \"category\" in result:\n",
    "            results.append(result[\"category\"])\n",
    "        else:\n",
    "            results.append(\"\")\n",
    "    except Exception as e:\n",
    "        print(\"Exception Occured\", e)\n",
    "        results.append(\"\")"
   ]
  },
  {
   "cell_type": "markdown",
   "id": "8b7025f6",
   "metadata": {},
   "source": [
    "### Write output as huggingface dataset"
   ]
  },
  {
   "cell_type": "code",
   "execution_count": 25,
   "id": "b33cc3db",
   "metadata": {
    "ExecuteTime": {
     "end_time": "2024-07-06T18:24:43.461383Z",
     "start_time": "2024-07-06T18:24:43.452115Z"
    }
   },
   "outputs": [],
   "source": [
    "ids = dataset[\"train\"][:len(results)][\"id\"]"
   ]
  },
  {
   "cell_type": "code",
   "execution_count": 30,
   "id": "6e46be63",
   "metadata": {
    "ExecuteTime": {
     "end_time": "2024-07-06T18:27:31.770309Z",
     "start_time": "2024-07-06T18:27:31.758920Z"
    }
   },
   "outputs": [
    {
     "data": {
      "text/html": [
       "<div>\n",
       "<style scoped>\n",
       "    .dataframe tbody tr th:only-of-type {\n",
       "        vertical-align: middle;\n",
       "    }\n",
       "\n",
       "    .dataframe tbody tr th {\n",
       "        vertical-align: top;\n",
       "    }\n",
       "\n",
       "    .dataframe thead th {\n",
       "        text-align: right;\n",
       "    }\n",
       "</style>\n",
       "<table border=\"1\" class=\"dataframe\">\n",
       "  <thead>\n",
       "    <tr style=\"text-align: right;\">\n",
       "      <th></th>\n",
       "      <th>id</th>\n",
       "      <th>category</th>\n",
       "    </tr>\n",
       "  </thead>\n",
       "  <tbody>\n",
       "    <tr>\n",
       "      <th>0</th>\n",
       "      <td>12</td>\n",
       "      <td>politics</td>\n",
       "    </tr>\n",
       "    <tr>\n",
       "      <th>1</th>\n",
       "      <td>39</td>\n",
       "      <td>physics</td>\n",
       "    </tr>\n",
       "    <tr>\n",
       "      <th>2</th>\n",
       "      <td>290</td>\n",
       "      <td>Linguistics</td>\n",
       "    </tr>\n",
       "    <tr>\n",
       "      <th>3</th>\n",
       "      <td>303</td>\n",
       "      <td>geography</td>\n",
       "    </tr>\n",
       "    <tr>\n",
       "      <th>4</th>\n",
       "      <td>305</td>\n",
       "      <td>mythology</td>\n",
       "    </tr>\n",
       "    <tr>\n",
       "      <th>...</th>\n",
       "      <td>...</td>\n",
       "      <td>...</td>\n",
       "    </tr>\n",
       "    <tr>\n",
       "      <th>95</th>\n",
       "      <td>746</td>\n",
       "      <td>geography</td>\n",
       "    </tr>\n",
       "    <tr>\n",
       "      <th>96</th>\n",
       "      <td>748</td>\n",
       "      <td>astronomy</td>\n",
       "    </tr>\n",
       "    <tr>\n",
       "      <th>97</th>\n",
       "      <td>751</td>\n",
       "      <td>Sports</td>\n",
       "    </tr>\n",
       "    <tr>\n",
       "      <th>98</th>\n",
       "      <td>752</td>\n",
       "      <td>art</td>\n",
       "    </tr>\n",
       "    <tr>\n",
       "      <th>99</th>\n",
       "      <td>764</td>\n",
       "      <td>Biology</td>\n",
       "    </tr>\n",
       "  </tbody>\n",
       "</table>\n",
       "<p>94 rows × 2 columns</p>\n",
       "</div>"
      ],
      "text/plain": [
       "     id     category\n",
       "0    12     politics\n",
       "1    39      physics\n",
       "2   290  Linguistics\n",
       "3   303    geography\n",
       "4   305    mythology\n",
       "..  ...          ...\n",
       "95  746    geography\n",
       "96  748    astronomy\n",
       "97  751       Sports\n",
       "98  752          art\n",
       "99  764      Biology\n",
       "\n",
       "[94 rows x 2 columns]"
      ]
     },
     "execution_count": 30,
     "metadata": {},
     "output_type": "execute_result"
    }
   ],
   "source": [
    "df = pd.DataFrame({\"id\": ids, \"category\": results})\n",
    "df = df[df[\"category\"] != '']\n",
    "df.to_csv(\"wiki-category-5k.csv\", index=False)"
   ]
  },
  {
   "cell_type": "code",
   "execution_count": 44,
   "id": "f1ae6fe2",
   "metadata": {
    "ExecuteTime": {
     "end_time": "2024-06-17T03:15:26.988702Z",
     "start_time": "2024-06-17T03:15:26.978284Z"
    }
   },
   "outputs": [],
   "source": [
    "category_dataset = Dataset.from_csv(\"wiki-category-5k.csv\")"
   ]
  },
  {
   "cell_type": "code",
   "execution_count": null,
   "id": "bd5455a0",
   "metadata": {},
   "outputs": [],
   "source": [
    "category_dataset.push_to_hub(\"<HF-USERNAME>/<DATASET-NAME>\", private=True)"
   ]
  }
 ],
 "metadata": {
  "kernelspec": {
   "display_name": "Python 3 (ipykernel)",
   "language": "python",
   "name": "python3"
  },
  "language_info": {
   "codemirror_mode": {
    "name": "ipython",
    "version": 3
   },
   "file_extension": ".py",
   "mimetype": "text/x-python",
   "name": "python",
   "nbconvert_exporter": "python",
   "pygments_lexer": "ipython3",
   "version": "3.11.5"
  }
 },
 "nbformat": 4,
 "nbformat_minor": 5
}
