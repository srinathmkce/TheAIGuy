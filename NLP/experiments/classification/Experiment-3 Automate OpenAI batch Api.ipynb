{
 "cells": [
  {
   "cell_type": "markdown",
   "id": "4cb22a96",
   "metadata": {},
   "source": [
    "### Load the dataset   "
   ]
  },
  {
   "cell_type": "code",
   "execution_count": 1,
   "id": "6b673075",
   "metadata": {},
   "outputs": [
    {
     "data": {
      "application/vnd.jupyter.widget-view+json": {
       "model_id": "693e94daf4b64431b34485464401b177",
       "version_major": 2,
       "version_minor": 0
      },
      "text/plain": [
       "Resolving data files:   0%|          | 0/41 [00:00<?, ?it/s]"
      ]
     },
     "metadata": {},
     "output_type": "display_data"
    }
   ],
   "source": [
    "from datasets import load_dataset\n",
    "\n",
    "dataset = load_dataset(\"wikimedia/wikipedia\", \"20231101.en\")"
   ]
  },
  {
   "cell_type": "markdown",
   "id": "16b8dec8",
   "metadata": {},
   "source": [
    "### Step - 1: Divide into batches"
   ]
  },
  {
   "cell_type": "code",
   "execution_count": 3,
   "id": "ed36945e",
   "metadata": {},
   "outputs": [
    {
     "name": "stdout",
     "output_type": "stream",
     "text": [
      "DatasetDict({\n",
      "    train: Dataset({\n",
      "        features: ['id', 'url', 'title', 'text'],\n",
      "        num_rows: 6407814\n",
      "    })\n",
      "})\n"
     ]
    }
   ],
   "source": [
    "print(dataset)"
   ]
  },
  {
   "cell_type": "code",
   "execution_count": 8,
   "id": "003dd884",
   "metadata": {},
   "outputs": [],
   "source": [
    "categorize_system_prompt = '''\n",
    "Your task is to assess customers article and categorize customer article into one of the following predfined categories:\n",
    "'History', 'Geography', 'Science', 'Technology', 'Mathematics', 'Literature', 'Art', 'Music', 'Film', 'Television', 'Sports', 'Politics', 'Philosophy', 'Religion', 'Sociology', 'Psychology', 'Economics', 'Business', 'Medicine', 'Biology', 'Chemistry', 'Physics', 'Astronomy', 'Environmental Science', 'Engineering', 'Computer Science', 'Linguistics', 'Anthropology', 'Archaeology', 'Education', 'Law', 'Military', 'Architecture', 'Fashion', 'Cuisine', 'Travel', 'Mythology', 'Folklore', 'Biography', 'Mythology', 'Social Issues', 'Human Rights', 'Technology Ethics', 'Climate Change', 'Conservation', 'Urban Studies', 'Demographics', 'Journalism', 'Cryptocurrency', 'Artificial Intelligence'\n",
    "you will output a json object containing the following information:\n",
    "\n",
    "{\n",
    "    categories: string[] // category name based on the article,\n",
    "}\n",
    "\n",
    "Keep category names simple and use only lower case letters.\n",
    "Articles can have only one category.\n",
    "'''"
   ]
  },
  {
   "cell_type": "code",
   "execution_count": 9,
   "id": "927a67e8",
   "metadata": {},
   "outputs": [],
   "source": [
    "import json\n",
    "def create_prompt(ids, articles, filename):\n",
    "    with open(filename, \"w\") as fp:\n",
    "        for index, article in enumerate(articles):\n",
    "            task = {\n",
    "                    \"custom_id\": f\"{ids[index]}\",\n",
    "                    \"method\": \"POST\",\n",
    "                    \"url\": \"/v1/chat/completions\",\n",
    "                    \"body\": {\n",
    "                        \"model\": \"gpt-4o-mini\",\n",
    "                        \"temperature\": 0.1,\n",
    "                        \"response_format\": { \n",
    "                            \"type\": \"json_object\"\n",
    "                        },\n",
    "                        \"messages\": [\n",
    "                            {\n",
    "                                \"role\": \"system\",\n",
    "                                \"content\": categorize_system_prompt\n",
    "                            },\n",
    "                            {\n",
    "                                \"role\": \"user\",\n",
    "                                \"content\": article\n",
    "                            }\n",
    "                        ],\n",
    "                    }\n",
    "                }\n",
    "            fp.write(json.dumps(task))\n",
    "            fp.write(\"\\n\")\n",
    "        "
   ]
  },
  {
   "cell_type": "markdown",
   "id": "2faed937",
   "metadata": {},
   "source": [
    "### Initialize openai environment"
   ]
  },
  {
   "cell_type": "code",
   "execution_count": 17,
   "id": "570cec5a",
   "metadata": {},
   "outputs": [],
   "source": [
    "import os\n",
    "from getpass import getpass\n",
    "from openai import OpenAI\n",
    "\n",
    "os.environ[\"OPENAI_API_KEY\"] = getpass(\"Enter your openai key\")\n",
    "client = OpenAI()"
   ]
  },
  {
   "cell_type": "code",
   "execution_count": 30,
   "id": "7e205060",
   "metadata": {},
   "outputs": [],
   "source": [
    "import time\n",
    "def wait_until_batch_is_done(batch_id, output_file_name):\n",
    "\n",
    "    while True:\n",
    "        status = client.batches.retrieve(batch_id=batch_id).status\n",
    "        print(status)\n",
    "\n",
    "        if status == \"completed\":\n",
    "            output_file_id = client.batches.retrieve(batch_id=batch_id).output_file_id\n",
    "            content = client.files.content(file_id=output_file_id).content\n",
    "            with open(output_file_name, \"wb\") as fp:\n",
    "                fp.write(content)\n",
    "            break\n",
    "        elif status in [\"error\", \"failed\"]:\n",
    "            print(\"Error processing the batch\")\n",
    "            break\n",
    "        else:\n",
    "            time.sleep(30)\n",
    "\n"
   ]
  },
  {
   "cell_type": "code",
   "execution_count": 31,
   "id": "e156e462",
   "metadata": {},
   "outputs": [
    {
     "name": "stdout",
     "output_type": "stream",
     "text": [
      "Start: 0 End: 200\n",
      "Create Prompt\n",
      "Upload a batch file\n",
      "FileObject(id='file-R64SvQ24028PsJouS7QUhhUF', bytes=354648, created_at=1728162133, filename='articles_0_to_200.jsonl', object='file', purpose='batch', status='processed', status_details=None)\n",
      "Start the execution\n",
      "Batch(id='batch_6701a9564c9081908b9ee06f3818b1f9', completion_window='24h', created_at=1728162134, endpoint='/v1/chat/completions', input_file_id='file-R64SvQ24028PsJouS7QUhhUF', object='batch', status='validating', cancelled_at=None, cancelling_at=None, completed_at=None, error_file_id=None, errors=None, expired_at=None, expires_at=1728248534, failed_at=None, finalizing_at=None, in_progress_at=None, metadata=None, output_file_id=None, request_counts=BatchRequestCounts(completed=0, failed=0, total=0))\n",
      "Poll the result\n",
      "validating\n",
      "finalizing\n",
      "completed\n",
      "Start: 200 End: 400\n",
      "Create Prompt\n",
      "Upload a batch file\n",
      "FileObject(id='file-yllDLJ6jOjPjpzRx9imGEm7r', bytes=338291, created_at=1728162199, filename='articles_200_to_400.jsonl', object='file', purpose='batch', status='processed', status_details=None)\n",
      "Start the execution\n",
      "Batch(id='batch_6701a9981da88190beef30c0cceecf83', completion_window='24h', created_at=1728162200, endpoint='/v1/chat/completions', input_file_id='file-yllDLJ6jOjPjpzRx9imGEm7r', object='batch', status='validating', cancelled_at=None, cancelling_at=None, completed_at=None, error_file_id=None, errors=None, expired_at=None, expires_at=1728248600, failed_at=None, finalizing_at=None, in_progress_at=None, metadata=None, output_file_id=None, request_counts=BatchRequestCounts(completed=0, failed=0, total=0))\n",
      "Poll the result\n",
      "validating\n",
      "finalizing\n",
      "completed\n",
      "Start: 400 End: 600\n",
      "Create Prompt\n",
      "Upload a batch file\n",
      "FileObject(id='file-bUYWX8mqcyp731CfuiPWPfUV', bytes=334529, created_at=1728162266, filename='articles_400_to_600.jsonl', object='file', purpose='batch', status='processed', status_details=None)\n",
      "Start the execution\n",
      "Batch(id='batch_6701a9db2180819081ed8f48d26a5cf7', completion_window='24h', created_at=1728162267, endpoint='/v1/chat/completions', input_file_id='file-bUYWX8mqcyp731CfuiPWPfUV', object='batch', status='validating', cancelled_at=None, cancelling_at=None, completed_at=None, error_file_id=None, errors=None, expired_at=None, expires_at=1728248667, failed_at=None, finalizing_at=None, in_progress_at=None, metadata=None, output_file_id=None, request_counts=BatchRequestCounts(completed=0, failed=0, total=0))\n",
      "Poll the result\n",
      "validating\n",
      "in_progress\n",
      "completed\n",
      "Start: 600 End: 800\n",
      "Create Prompt\n",
      "Upload a batch file\n",
      "FileObject(id='file-KYEtJcvfkvNocOLZqFdGN1gS', bytes=343302, created_at=1728162332, filename='articles_600_to_800.jsonl', object='file', purpose='batch', status='processed', status_details=None)\n",
      "Start the execution\n",
      "Batch(id='batch_6701aa1d86a881908e42c85e39098c7e', completion_window='24h', created_at=1728162333, endpoint='/v1/chat/completions', input_file_id='file-KYEtJcvfkvNocOLZqFdGN1gS', object='batch', status='validating', cancelled_at=None, cancelling_at=None, completed_at=None, error_file_id=None, errors=None, expired_at=None, expires_at=1728248733, failed_at=None, finalizing_at=None, in_progress_at=None, metadata=None, output_file_id=None, request_counts=BatchRequestCounts(completed=0, failed=0, total=0))\n",
      "Poll the result\n",
      "validating\n",
      "in_progress\n",
      "in_progress\n",
      "completed\n",
      "Start: 800 End: 1000\n",
      "Create Prompt\n",
      "Upload a batch file\n",
      "FileObject(id='file-9CPmq8J1B1nAxSgAKF6pIpF5', bytes=341389, created_at=1728162429, filename='articles_800_to_1000.jsonl', object='file', purpose='batch', status='processed', status_details=None)\n",
      "Start the execution\n",
      "Batch(id='batch_6701aa7e3f648190b69d62121d9e92f9', completion_window='24h', created_at=1728162430, endpoint='/v1/chat/completions', input_file_id='file-9CPmq8J1B1nAxSgAKF6pIpF5', object='batch', status='validating', cancelled_at=None, cancelling_at=None, completed_at=None, error_file_id=None, errors=None, expired_at=None, expires_at=1728248830, failed_at=None, finalizing_at=None, in_progress_at=None, metadata=None, output_file_id=None, request_counts=BatchRequestCounts(completed=0, failed=0, total=0))\n",
      "Poll the result\n",
      "validating\n",
      "in_progress\n",
      "completed\n"
     ]
    }
   ],
   "source": [
    "START_INDEX = 0\n",
    "END_INDEX = 1000\n",
    "BATCH_SIZE = 200\n",
    "\n",
    "for start in range(START_INDEX, END_INDEX, BATCH_SIZE):\n",
    "    end = start + BATCH_SIZE\n",
    "    print(f\"Start: {start} End: {end}\")\n",
    "\n",
    "    articles = dataset[\"train\"][start:end][\"text\"]\n",
    "    ids = dataset[\"train\"][start:end][\"id\"]\n",
    "    articles = [x.split(\"\\n\")[0] for x in articles]\n",
    "\n",
    "    filename = f\"articles_{start}_to_{end}.jsonl\"\n",
    "    print(\"Create Prompt\")\n",
    "    create_prompt(ids=ids, articles=articles, filename=filename)\n",
    "\n",
    "    print(\"Upload a batch file\")\n",
    "    batch_file = client.files.create(file=open(filename, \"rb\"), purpose=\"batch\")\n",
    "    print(batch_file)\n",
    "\n",
    "    # start the execution\n",
    "    print(\"Start the execution\")\n",
    "    batch_job = client.batches.create(completion_window=\"24h\", endpoint=\"/v1/chat/completions\", input_file_id=batch_file.id)\n",
    "    print(batch_job)\n",
    "\n",
    "    print(\"Poll the result\")\n",
    "    output_file_name = \"output_\" + filename\n",
    "    # check the status\n",
    "    wait_until_batch_is_done(batch_id=batch_job.id, output_file_name=output_file_name)\n",
    "\n",
    "\n",
    "    "
   ]
  },
  {
   "cell_type": "code",
   "execution_count": 21,
   "id": "35df2610",
   "metadata": {},
   "outputs": [
    {
     "data": {
      "text/plain": [
       "Batch(id='batch_6701a3a9de7881909b74f01938f49f3d', completion_window='24h', created_at=1728160682, endpoint='/v1/chat/completions', input_file_id='file-FoUoCBYPZoVKHEGnA3baDvi7', object='batch', status='completed', cancelled_at=None, cancelling_at=None, completed_at=1728160716, error_file_id=None, errors=None, expired_at=None, expires_at=1728247082, failed_at=None, finalizing_at=1728160704, in_progress_at=1728160682, metadata=None, output_file_id='file-vwPtKWN0VSu4hTodKy19XZWk', request_counts=BatchRequestCounts(completed=200, failed=0, total=200))"
      ]
     },
     "execution_count": 21,
     "metadata": {},
     "output_type": "execute_result"
    }
   ],
   "source": [
    "client.batches.retrieve(batch_id=\"batch_6701a3a9de7881909b74f01938f49f3d\")"
   ]
  },
  {
   "cell_type": "code",
   "execution_count": null,
   "id": "5782470f",
   "metadata": {},
   "outputs": [],
   "source": []
  },
  {
   "cell_type": "code",
   "execution_count": null,
   "id": "ee452fd6",
   "metadata": {},
   "outputs": [],
   "source": []
  },
  {
   "cell_type": "code",
   "execution_count": 2,
   "id": "f3b62b79",
   "metadata": {},
   "outputs": [],
   "source": [
    "categorize_system_prompt = '''\n",
    "Your task is to assess customers article and categorize customer article into one of the following predfined categories:\n",
    "'History', 'Geography', 'Science', 'Technology', 'Mathematics', 'Literature', 'Art', 'Music', 'Film', 'Television', 'Sports', 'Politics', 'Philosophy', 'Religion', 'Sociology', 'Psychology', 'Economics', 'Business', 'Medicine', 'Biology', 'Chemistry', 'Physics', 'Astronomy', 'Environmental Science', 'Engineering', 'Computer Science', 'Linguistics', 'Anthropology', 'Archaeology', 'Education', 'Law', 'Military', 'Architecture', 'Fashion', 'Cuisine', 'Travel', 'Mythology', 'Folklore', 'Biography', 'Mythology', 'Social Issues', 'Human Rights', 'Technology Ethics', 'Climate Change', 'Conservation', 'Urban Studies', 'Demographics', 'Journalism', 'Cryptocurrency', 'Artificial Intelligence'\n",
    "you will output a json object containing the following information:\n",
    "\n",
    "{\n",
    "    categories: string[] // category name based on the article,\n",
    "}\n",
    "\n",
    "Keep category names simple and use only lower case letters.\n",
    "Articles can have only one category.\n",
    "'''"
   ]
  },
  {
   "cell_type": "code",
   "execution_count": 10,
   "id": "39b574cb",
   "metadata": {},
   "outputs": [],
   "source": [
    "articles = dataset[\"train\"][0:100][\"text\"]\n",
    "xids = dataset[\"train\"][0:100][\"id\"]"
   ]
  },
  {
   "cell_type": "code",
   "execution_count": 16,
   "metadata": {},
   "outputs": [],
   "source": [
    "articles = [x.split(\"\\n\")[0] for x in articles]"
   ]
  },
  {
   "cell_type": "code",
   "execution_count": 20,
   "id": "3622e474",
   "metadata": {},
   "outputs": [],
   "source": [
    "import json\n",
    "with open(\"batch-api-test1.jsonl\", \"w\") as fp:\n",
    "    for index, article in enumerate(articles):\n",
    "        task = {\n",
    "                \"custom_id\": f\"{ids[index]}\",\n",
    "                \"method\": \"POST\",\n",
    "                \"url\": \"/v1/chat/completions\",\n",
    "                \"body\": {\n",
    "                    \"model\": \"gpt-4o-mini\",\n",
    "                    \"temperature\": 0.1,\n",
    "                    \"response_format\": { \n",
    "                        \"type\": \"json_object\"\n",
    "                    },\n",
    "                    \"messages\": [\n",
    "                        {\n",
    "                            \"role\": \"system\",\n",
    "                            \"content\": categorize_system_prompt\n",
    "                        },\n",
    "                        {\n",
    "                            \"role\": \"user\",\n",
    "                            \"content\": article\n",
    "                        }\n",
    "                    ],\n",
    "                }\n",
    "            }\n",
    "        fp.write(json.dumps(task))\n",
    "        fp.write(\"\\n\")"
   ]
  },
  {
   "cell_type": "code",
   "execution_count": null,
   "id": "6305bfa6",
   "metadata": {},
   "outputs": [],
   "source": []
  }
 ],
 "metadata": {
  "kernelspec": {
   "display_name": "Python 3 (ipykernel)",
   "language": "python",
   "name": "python3"
  },
  "language_info": {
   "codemirror_mode": {
    "name": "ipython",
    "version": 3
   },
   "file_extension": ".py",
   "mimetype": "text/x-python",
   "name": "python",
   "nbconvert_exporter": "python",
   "pygments_lexer": "ipython3",
   "version": "3.11.5"
  }
 },
 "nbformat": 4,
 "nbformat_minor": 5
}
