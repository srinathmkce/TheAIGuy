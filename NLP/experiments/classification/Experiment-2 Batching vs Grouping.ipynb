{
 "cells": [
  {
   "cell_type": "markdown",
   "id": "44d870ea",
   "metadata": {},
   "source": [
    "### Imports"
   ]
  },
  {
   "cell_type": "code",
   "execution_count": 4,
   "id": "aab2de66",
   "metadata": {
    "ExecuteTime": {
     "end_time": "2024-07-17T18:57:44.466406Z",
     "start_time": "2024-07-17T18:57:26.662422Z"
    }
   },
   "outputs": [],
   "source": [
    "import json\n",
    "import time\n",
    "import os\n",
    "import getpass\n",
    "import pandas as pd\n",
    "from datasets import Dataset, load_dataset\n",
    "from tqdm import tqdm\n",
    "from langchain_core.prompts import ChatPromptTemplate\n",
    "from langchain_openai import ChatOpenAI"
   ]
  },
  {
   "cell_type": "markdown",
   "id": "0f719319",
   "metadata": {},
   "source": [
    "### Load dataset"
   ]
  },
  {
   "cell_type": "code",
   "execution_count": 5,
   "id": "3bccd46f",
   "metadata": {
    "ExecuteTime": {
     "end_time": "2024-07-17T18:58:18.424752Z",
     "start_time": "2024-07-17T18:57:44.469415Z"
    }
   },
   "outputs": [
    {
     "data": {
      "application/vnd.jupyter.widget-view+json": {
       "model_id": "b50e7925161f49dbb2880fa47e740508",
       "version_major": 2,
       "version_minor": 0
      },
      "text/plain": [
       "Resolving data files:   0%|          | 0/41 [00:00<?, ?it/s]"
      ]
     },
     "metadata": {},
     "output_type": "display_data"
    }
   ],
   "source": [
    "dataset = load_dataset(\"wikimedia/wikipedia\", \"20231101.en\")\n",
    "NUM_SAMPLES = 10000\n",
    "articles = dataset[\"train\"][:NUM_SAMPLES][\"text\"]\n",
    "ids = dataset[\"train\"][:NUM_SAMPLES][\"id\"]\n",
    "articles = [x.split(\"\\n\")[0] for x in articles]"
   ]
  },
  {
   "cell_type": "code",
   "execution_count": 6,
   "id": "3c1cb64f",
   "metadata": {
    "ExecuteTime": {
     "end_time": "2024-07-17T18:58:21.014760Z",
     "start_time": "2024-07-17T18:58:21.008531Z"
    }
   },
   "outputs": [
    {
     "data": {
      "text/plain": [
       "10000"
      ]
     },
     "execution_count": 6,
     "metadata": {},
     "output_type": "execute_result"
    }
   ],
   "source": [
    "len(articles)"
   ]
  },
  {
   "cell_type": "markdown",
   "id": "281bebd2",
   "metadata": {},
   "source": [
    "### Initialize OpenAI Environment"
   ]
  },
  {
   "cell_type": "code",
   "execution_count": 9,
   "id": "6a3e07be",
   "metadata": {
    "ExecuteTime": {
     "end_time": "2024-07-17T18:58:55.240931Z",
     "start_time": "2024-07-17T18:58:54.049430Z"
    }
   },
   "outputs": [
    {
     "name": "stdout",
     "output_type": "stream",
     "text": [
      "Enter your OpenAI API key: ········\n"
     ]
    }
   ],
   "source": [
    "os.environ[\"OPENAI_API_KEY\"] = getpass.getpass(\"Enter your OpenAI API key: \")"
   ]
  },
  {
   "cell_type": "code",
   "execution_count": 10,
   "id": "c9680454",
   "metadata": {
    "ExecuteTime": {
     "end_time": "2024-07-17T18:58:57.604783Z",
     "start_time": "2024-07-17T18:58:56.960472Z"
    }
   },
   "outputs": [],
   "source": [
    "llm = ChatOpenAI()"
   ]
  },
  {
   "cell_type": "code",
   "execution_count": 11,
   "id": "c951ca1c",
   "metadata": {
    "ExecuteTime": {
     "end_time": "2024-07-17T18:58:57.619296Z",
     "start_time": "2024-07-17T18:58:57.607789Z"
    }
   },
   "outputs": [
    {
     "data": {
      "text/plain": [
       "'gpt-3.5-turbo'"
      ]
     },
     "execution_count": 11,
     "metadata": {},
     "output_type": "execute_result"
    }
   ],
   "source": [
    "llm.model_name"
   ]
  },
  {
   "cell_type": "markdown",
   "id": "fd61d51a",
   "metadata": {},
   "source": [
    "### Create classification prompt"
   ]
  },
  {
   "cell_type": "code",
   "execution_count": 12,
   "id": "5ed16b68",
   "metadata": {
    "ExecuteTime": {
     "end_time": "2024-07-17T18:58:59.500672Z",
     "start_time": "2024-07-17T18:58:59.496019Z"
    }
   },
   "outputs": [],
   "source": [
    "prompt = ChatPromptTemplate.from_messages([\n",
    "    (\"system\", \"\"\"You will be provided with a JSON input which contains id and article content. Your task is to assess the article and categorize the article into one of the following predfined categories:\n",
    "'History', 'Geography', 'Science', 'Technology', 'Mathematics', 'Literature', 'Art', 'Music', 'Film', 'Television', 'Sports', 'Politics', 'Philosophy', 'Religion', 'Sociology', 'Psychology', 'Economics', 'Business', 'Medicine', 'Biology', 'Chemistry', 'Physics', 'Astronomy', 'Environmental Science', 'Engineering', 'Computer Science', 'Linguistics', 'Anthropology', 'Archaeology', 'Education', 'Law', 'Military', 'Architecture', 'Fashion', 'Cuisine', 'Travel', 'Mythology', 'Folklore', 'Biography', 'Mythology', 'Social Issues', 'Human Rights', 'Technology Ethics', 'Climate Change', 'Conservation', 'Urban Studies', 'Demographics', 'Journalism', 'Cryptocurrency', 'Artificial Intelligence'\n",
    "you will output a json object containing the following information:\n",
    "[\n",
    "{{\n",
    "    \"id\": string // id of the artice1\n",
    "    \"category\": string // category of the article1\n",
    "}},\n",
    "{{\n",
    "    \"id\": string // id of the artice2\n",
    "    \"category\": string // category of the article2\n",
    "}},\n",
    "...\n",
    "]\n",
    "\"\"\"),\n",
    "    (\"human\", \"{input}\")\n",
    "])"
   ]
  },
  {
   "cell_type": "markdown",
   "id": "bfb2e6df",
   "metadata": {},
   "source": [
    "### Build llm chain"
   ]
  },
  {
   "cell_type": "code",
   "execution_count": 13,
   "id": "2e0f64df",
   "metadata": {
    "ExecuteTime": {
     "end_time": "2024-07-17T18:59:01.346508Z",
     "start_time": "2024-07-17T18:59:01.343518Z"
    }
   },
   "outputs": [],
   "source": [
    "chain = prompt | llm"
   ]
  },
  {
   "cell_type": "markdown",
   "id": "ced7bfd9",
   "metadata": {},
   "source": [
    "### sample Inference"
   ]
  },
  {
   "cell_type": "code",
   "execution_count": 14,
   "id": "73096781",
   "metadata": {
    "ExecuteTime": {
     "end_time": "2024-07-17T18:18:09.746741Z",
     "start_time": "2024-07-17T18:18:08.253227Z"
    }
   },
   "outputs": [
    {
     "data": {
      "text/plain": [
       "'[\\n    {\\n        \"id\": \"12\",\\n        \"category\": \"Politics\"\\n    },\\n    {\\n        \"id\": \"39\",\\n        \"category\": \"Environmental Science\"\\n    }\\n]'"
      ]
     },
     "execution_count": 14,
     "metadata": {},
     "output_type": "execute_result"
    }
   ],
   "source": [
    "content = json.dumps([\n",
    "    {\"id\": ids[0], \"article\": articles[0]},\n",
    "    {\"id\": ids[1], \"article\": articles[1]}\n",
    "])\n",
    "response = chain.invoke(content)\n",
    "response.content"
   ]
  },
  {
   "cell_type": "code",
   "execution_count": 15,
   "id": "a6566d9d",
   "metadata": {
    "ExecuteTime": {
     "end_time": "2024-07-17T18:18:20.796362Z",
     "start_time": "2024-07-17T18:18:20.790851Z"
    }
   },
   "outputs": [
    {
     "data": {
      "text/plain": [
       "[{'id': '12', 'category': 'Politics'},\n",
       " {'id': '39', 'category': 'Environmental Science'}]"
      ]
     },
     "execution_count": 15,
     "metadata": {},
     "output_type": "execute_result"
    }
   ],
   "source": [
    "json.loads(response.content)"
   ]
  },
  {
   "cell_type": "markdown",
   "id": "d911528c",
   "metadata": {},
   "source": [
    "### Run inference"
   ]
  },
  {
   "cell_type": "code",
   "execution_count": 15,
   "id": "50e36c3d",
   "metadata": {
    "ExecuteTime": {
     "end_time": "2024-07-17T18:59:12.537258Z",
     "start_time": "2024-07-17T18:59:12.532641Z"
    }
   },
   "outputs": [],
   "source": [
    "# results = []\n",
    "# for article in tqdm(articles[:100]):\n",
    "#     try:\n",
    "#         result = chain.invoke({\"article\": article})\n",
    "#         results.append(result)\n",
    "#     except Exception as e:\n",
    "#         print(\"Exception Occured\", e)\n",
    "#         results.append(\"\")"
   ]
  },
  {
   "cell_type": "code",
   "execution_count": 16,
   "id": "fd708224",
   "metadata": {
    "ExecuteTime": {
     "end_time": "2024-07-17T18:59:47.708262Z",
     "start_time": "2024-07-17T18:59:15.825451Z"
    }
   },
   "outputs": [
    {
     "name": "stderr",
     "output_type": "stream",
     "text": [
      "100it [00:30,  3.30it/s]\n"
     ]
    }
   ],
   "source": [
    "results = []\n",
    "BATCH_SIZE = 8\n",
    "inputs = []\n",
    "\n",
    "for index, article in tqdm(enumerate(articles[:100])):\n",
    "    inputs.append({\"id\": ids[index], \"article\": articles[index]})\n",
    "    \n",
    "    if len(inputs) == BATCH_SIZE:\n",
    "        response = chain.invoke(json.dumps(inputs))\n",
    "        results.append(response)\n",
    "        inputs = []\n",
    "if inputs:\n",
    "    response = chain.invoke(json.dumps(inputs))\n",
    "    results.append(response)\n"
   ]
  },
  {
   "cell_type": "markdown",
   "id": "1fd27d49",
   "metadata": {},
   "source": [
    "### Postprocessing"
   ]
  },
  {
   "cell_type": "code",
   "execution_count": 25,
   "id": "14d9389d",
   "metadata": {
    "ExecuteTime": {
     "end_time": "2024-07-17T19:02:07.159772Z",
     "start_time": "2024-07-17T19:02:07.149262Z"
    }
   },
   "outputs": [
    {
     "data": {
      "text/plain": [
       "17511"
      ]
     },
     "execution_count": 25,
     "metadata": {},
     "output_type": "execute_result"
    }
   ],
   "source": [
    "pd.DataFrame([x.response_metadata[\"token_usage\"] for x in results])[\"total_tokens\"].sum()"
   ]
  },
  {
   "cell_type": "code",
   "execution_count": 28,
   "id": "6f3ccb97",
   "metadata": {
    "ExecuteTime": {
     "end_time": "2024-07-17T19:04:28.018738Z",
     "start_time": "2024-07-17T19:04:28.014319Z"
    }
   },
   "outputs": [],
   "source": [
    "success = []\n",
    "failure = []\n",
    "\n",
    "for output in results:\n",
    "    content = output.content\n",
    "    try:\n",
    "        content = json.loads(content)\n",
    "        success += content\n",
    "    except ValueError as e:\n",
    "        failure.append(content)"
   ]
  },
  {
   "cell_type": "code",
   "execution_count": 29,
   "id": "6f0f1785",
   "metadata": {
    "ExecuteTime": {
     "end_time": "2024-07-17T19:04:29.965205Z",
     "start_time": "2024-07-17T19:04:29.853677Z"
    }
   },
   "outputs": [
    {
     "data": {
      "text/html": [
       "<div>\n",
       "<style scoped>\n",
       "    .dataframe tbody tr th:only-of-type {\n",
       "        vertical-align: middle;\n",
       "    }\n",
       "\n",
       "    .dataframe tbody tr th {\n",
       "        vertical-align: top;\n",
       "    }\n",
       "\n",
       "    .dataframe thead th {\n",
       "        text-align: right;\n",
       "    }\n",
       "</style>\n",
       "<table border=\"1\" class=\"dataframe\">\n",
       "  <thead>\n",
       "    <tr style=\"text-align: right;\">\n",
       "      <th></th>\n",
       "      <th>id</th>\n",
       "      <th>category</th>\n",
       "    </tr>\n",
       "  </thead>\n",
       "  <tbody>\n",
       "    <tr>\n",
       "      <th>0</th>\n",
       "      <td>12</td>\n",
       "      <td>Politics</td>\n",
       "    </tr>\n",
       "    <tr>\n",
       "      <th>1</th>\n",
       "      <td>39</td>\n",
       "      <td>Science</td>\n",
       "    </tr>\n",
       "    <tr>\n",
       "      <th>2</th>\n",
       "      <td>290</td>\n",
       "      <td>Linguistics</td>\n",
       "    </tr>\n",
       "    <tr>\n",
       "      <th>3</th>\n",
       "      <td>303</td>\n",
       "      <td>Geography</td>\n",
       "    </tr>\n",
       "    <tr>\n",
       "      <th>4</th>\n",
       "      <td>305</td>\n",
       "      <td>Mythology</td>\n",
       "    </tr>\n",
       "    <tr>\n",
       "      <th>...</th>\n",
       "      <td>...</td>\n",
       "      <td>...</td>\n",
       "    </tr>\n",
       "    <tr>\n",
       "      <th>71</th>\n",
       "      <td>746</td>\n",
       "      <td>Geography</td>\n",
       "    </tr>\n",
       "    <tr>\n",
       "      <th>72</th>\n",
       "      <td>748</td>\n",
       "      <td>Astronomy</td>\n",
       "    </tr>\n",
       "    <tr>\n",
       "      <th>73</th>\n",
       "      <td>751</td>\n",
       "      <td>Martial Arts</td>\n",
       "    </tr>\n",
       "    <tr>\n",
       "      <th>74</th>\n",
       "      <td>752</td>\n",
       "      <td>Art</td>\n",
       "    </tr>\n",
       "    <tr>\n",
       "      <th>75</th>\n",
       "      <td>764</td>\n",
       "      <td>Biology</td>\n",
       "    </tr>\n",
       "  </tbody>\n",
       "</table>\n",
       "<p>76 rows × 2 columns</p>\n",
       "</div>"
      ],
      "text/plain": [
       "     id      category\n",
       "0    12      Politics\n",
       "1    39       Science\n",
       "2   290   Linguistics\n",
       "3   303     Geography\n",
       "4   305     Mythology\n",
       "..  ...           ...\n",
       "71  746     Geography\n",
       "72  748     Astronomy\n",
       "73  751  Martial Arts\n",
       "74  752           Art\n",
       "75  764       Biology\n",
       "\n",
       "[76 rows x 2 columns]"
      ]
     },
     "execution_count": 29,
     "metadata": {},
     "output_type": "execute_result"
    }
   ],
   "source": [
    "pd.DataFrame(success)"
   ]
  },
  {
   "cell_type": "code",
   "execution_count": null,
   "id": "d201b18c",
   "metadata": {},
   "outputs": [],
   "source": []
  }
 ],
 "metadata": {
  "kernelspec": {
   "display_name": "Python 3 (ipykernel)",
   "language": "python",
   "name": "python3"
  },
  "language_info": {
   "codemirror_mode": {
    "name": "ipython",
    "version": 3
   },
   "file_extension": ".py",
   "mimetype": "text/x-python",
   "name": "python",
   "nbconvert_exporter": "python",
   "pygments_lexer": "ipython3",
   "version": "3.11.5"
  }
 },
 "nbformat": 4,
 "nbformat_minor": 5
}
